{
 "cells": [
  {
   "cell_type": "markdown",
   "id": "94ade8f6",
   "metadata": {
    "papermill": {
     "duration": 0.013158,
     "end_time": "2025-05-15T08:44:59.216669",
     "exception": false,
     "start_time": "2025-05-15T08:44:59.203511",
     "status": "completed"
    },
    "tags": []
   },
   "source": [
    "# Data Loading"
   ]
  },
  {
   "cell_type": "code",
   "execution_count": 1,
   "id": "13d32603",
   "metadata": {
    "_cell_guid": "b1076dfc-b9ad-4769-8c92-a6c4dae69d19",
    "_uuid": "8f2839f25d086af736a60e9eeb907d3b93b6e0e5",
    "execution": {
     "iopub.execute_input": "2025-05-15T08:44:59.237069Z",
     "iopub.status.busy": "2025-05-15T08:44:59.236638Z",
     "iopub.status.idle": "2025-05-15T08:45:00.875823Z",
     "shell.execute_reply": "2025-05-15T08:45:00.874716Z"
    },
    "papermill": {
     "duration": 1.650661,
     "end_time": "2025-05-15T08:45:00.877315",
     "exception": false,
     "start_time": "2025-05-15T08:44:59.226654",
     "status": "completed"
    },
    "tags": []
   },
   "outputs": [
    {
     "name": "stdout",
     "output_type": "stream",
     "text": [
      "/kaggle/input/bike-sharing-demand/sampleSubmission.csv\n",
      "/kaggle/input/bike-sharing-demand/train.csv\n",
      "/kaggle/input/bike-sharing-demand/test.csv\n"
     ]
    }
   ],
   "source": [
    "# This Python 3 environment comes with many helpful analytics libraries installed\n",
    "# It is defined by the kaggle/python Docker image: https://github.com/kaggle/docker-python\n",
    "# For example, here's several helpful packages to load\n",
    "\n",
    "import numpy as np # linear algebra\n",
    "import pandas as pd # data processing, CSV file I/O (e.g. pd.read_csv)\n",
    "\n",
    "# Input data files are available in the read-only \"../input/\" directory\n",
    "# For example, running this (by clicking run or pressing Shift+Enter) will list all files under the input directory\n",
    "\n",
    "import os\n",
    "for dirname, _, filenames in os.walk('/kaggle/input'):\n",
    "    for filename in filenames:\n",
    "        print(os.path.join(dirname, filename))\n",
    "\n",
    "# You can write up to 20GB to the current directory (/kaggle/working/) that gets preserved as output when you create a version using \"Save & Run All\" \n",
    "# You can also write temporary files to /kaggle/temp/, but they won't be saved outside of the current session"
   ]
  },
  {
   "cell_type": "code",
   "execution_count": 2,
   "id": "1d80e87b",
   "metadata": {
    "execution": {
     "iopub.execute_input": "2025-05-15T08:45:00.894173Z",
     "iopub.status.busy": "2025-05-15T08:45:00.893829Z",
     "iopub.status.idle": "2025-05-15T08:45:02.614843Z",
     "shell.execute_reply": "2025-05-15T08:45:02.614167Z"
    },
    "papermill": {
     "duration": 1.730558,
     "end_time": "2025-05-15T08:45:02.615955",
     "exception": false,
     "start_time": "2025-05-15T08:45:00.885397",
     "status": "completed"
    },
    "tags": []
   },
   "outputs": [
    {
     "name": "stdout",
     "output_type": "stream",
     "text": [
      "(10886, 12)\n"
     ]
    },
    {
     "data": {
      "text/html": [
       "<div>\n",
       "<style scoped>\n",
       "    .dataframe tbody tr th:only-of-type {\n",
       "        vertical-align: middle;\n",
       "    }\n",
       "\n",
       "    .dataframe tbody tr th {\n",
       "        vertical-align: top;\n",
       "    }\n",
       "\n",
       "    .dataframe thead th {\n",
       "        text-align: right;\n",
       "    }\n",
       "</style>\n",
       "<table border=\"1\" class=\"dataframe\">\n",
       "  <thead>\n",
       "    <tr style=\"text-align: right;\">\n",
       "      <th></th>\n",
       "      <th>datetime</th>\n",
       "      <th>season</th>\n",
       "      <th>holiday</th>\n",
       "      <th>workingday</th>\n",
       "      <th>weather</th>\n",
       "      <th>temp</th>\n",
       "      <th>atemp</th>\n",
       "      <th>humidity</th>\n",
       "      <th>windspeed</th>\n",
       "      <th>casual</th>\n",
       "      <th>registered</th>\n",
       "      <th>count</th>\n",
       "    </tr>\n",
       "  </thead>\n",
       "  <tbody>\n",
       "    <tr>\n",
       "      <th>0</th>\n",
       "      <td>2011-01-01 00:00:00</td>\n",
       "      <td>1</td>\n",
       "      <td>0</td>\n",
       "      <td>0</td>\n",
       "      <td>1</td>\n",
       "      <td>9.84</td>\n",
       "      <td>14.395</td>\n",
       "      <td>81</td>\n",
       "      <td>0.0</td>\n",
       "      <td>3</td>\n",
       "      <td>13</td>\n",
       "      <td>16</td>\n",
       "    </tr>\n",
       "    <tr>\n",
       "      <th>1</th>\n",
       "      <td>2011-01-01 01:00:00</td>\n",
       "      <td>1</td>\n",
       "      <td>0</td>\n",
       "      <td>0</td>\n",
       "      <td>1</td>\n",
       "      <td>9.02</td>\n",
       "      <td>13.635</td>\n",
       "      <td>80</td>\n",
       "      <td>0.0</td>\n",
       "      <td>8</td>\n",
       "      <td>32</td>\n",
       "      <td>40</td>\n",
       "    </tr>\n",
       "    <tr>\n",
       "      <th>2</th>\n",
       "      <td>2011-01-01 02:00:00</td>\n",
       "      <td>1</td>\n",
       "      <td>0</td>\n",
       "      <td>0</td>\n",
       "      <td>1</td>\n",
       "      <td>9.02</td>\n",
       "      <td>13.635</td>\n",
       "      <td>80</td>\n",
       "      <td>0.0</td>\n",
       "      <td>5</td>\n",
       "      <td>27</td>\n",
       "      <td>32</td>\n",
       "    </tr>\n",
       "  </tbody>\n",
       "</table>\n",
       "</div>"
      ],
      "text/plain": [
       "              datetime  season  holiday  workingday  weather  temp   atemp  \\\n",
       "0  2011-01-01 00:00:00       1        0           0        1  9.84  14.395   \n",
       "1  2011-01-01 01:00:00       1        0           0        1  9.02  13.635   \n",
       "2  2011-01-01 02:00:00       1        0           0        1  9.02  13.635   \n",
       "\n",
       "   humidity  windspeed  casual  registered  count  \n",
       "0        81        0.0       3          13     16  \n",
       "1        80        0.0       8          32     40  \n",
       "2        80        0.0       5          27     32  "
      ]
     },
     "execution_count": 2,
     "metadata": {},
     "output_type": "execute_result"
    }
   ],
   "source": [
    "import numpy as np\n",
    "import pandas as pd\n",
    "import seaborn as sns\n",
    "import matplotlib.pyplot as plt\n",
    "%matplotlib inline\n",
    "\n",
    "import warnings\n",
    "warnings.filterwarnings(\"ignore\")\n",
    "\n",
    "file_path = '/kaggle/input/bike-sharing-demand/train.csv'\n",
    "bike_df = pd.read_csv(file_path)\n",
    "print(bike_df.shape)\n",
    "bike_df.head(3)"
   ]
  },
  {
   "cell_type": "code",
   "execution_count": 3,
   "id": "50198528",
   "metadata": {
    "execution": {
     "iopub.execute_input": "2025-05-15T08:45:02.630725Z",
     "iopub.status.busy": "2025-05-15T08:45:02.630491Z",
     "iopub.status.idle": "2025-05-15T08:45:02.652831Z",
     "shell.execute_reply": "2025-05-15T08:45:02.652261Z"
    },
    "papermill": {
     "duration": 0.030819,
     "end_time": "2025-05-15T08:45:02.653873",
     "exception": false,
     "start_time": "2025-05-15T08:45:02.623054",
     "status": "completed"
    },
    "tags": []
   },
   "outputs": [],
   "source": [
    "bike_test = pd.read_csv('/kaggle/input/bike-sharing-demand/test.csv')"
   ]
  },
  {
   "cell_type": "code",
   "execution_count": 4,
   "id": "3d09615b",
   "metadata": {
    "execution": {
     "iopub.execute_input": "2025-05-15T08:45:02.668507Z",
     "iopub.status.busy": "2025-05-15T08:45:02.668264Z",
     "iopub.status.idle": "2025-05-15T08:45:02.672258Z",
     "shell.execute_reply": "2025-05-15T08:45:02.671701Z"
    },
    "papermill": {
     "duration": 0.012245,
     "end_time": "2025-05-15T08:45:02.673283",
     "exception": false,
     "start_time": "2025-05-15T08:45:02.661038",
     "status": "completed"
    },
    "tags": []
   },
   "outputs": [
    {
     "name": "stdout",
     "output_type": "stream",
     "text": [
      "casual\n",
      "registered\n",
      "count\n"
     ]
    }
   ],
   "source": [
    "for column in bike_df.columns:\n",
    "    if column not in bike_test.columns:\n",
    "        print(column)"
   ]
  },
  {
   "cell_type": "code",
   "execution_count": 5,
   "id": "632e0cbe",
   "metadata": {
    "execution": {
     "iopub.execute_input": "2025-05-15T08:45:02.687307Z",
     "iopub.status.busy": "2025-05-15T08:45:02.687120Z",
     "iopub.status.idle": "2025-05-15T08:45:02.692707Z",
     "shell.execute_reply": "2025-05-15T08:45:02.692163Z"
    },
    "papermill": {
     "duration": 0.01369,
     "end_time": "2025-05-15T08:45:02.693720",
     "exception": false,
     "start_time": "2025-05-15T08:45:02.680030",
     "status": "completed"
    },
    "tags": []
   },
   "outputs": [
    {
     "data": {
      "text/plain": [
       "Index(['datetime', 'season', 'holiday', 'workingday', 'weather', 'temp',\n",
       "       'atemp', 'humidity', 'windspeed', 'casual', 'registered', 'count'],\n",
       "      dtype='object')"
      ]
     },
     "execution_count": 5,
     "metadata": {},
     "output_type": "execute_result"
    }
   ],
   "source": [
    "bike_df.columns"
   ]
  },
  {
   "cell_type": "markdown",
   "id": "21379600",
   "metadata": {
    "papermill": {
     "duration": 0.006526,
     "end_time": "2025-05-15T08:45:02.706936",
     "exception": false,
     "start_time": "2025-05-15T08:45:02.700410",
     "status": "completed"
    },
    "tags": []
   },
   "source": [
    "## Column Analysis\n",
    "\n",
    "* Target = count\n",
    "* count = casual + registered\n",
    "* train: 'datetime', 'season', 'holiday', 'workingday', 'weather', 'temp',\n",
    "       'atemp', 'humidity', 'windspeed', 'casual', 'registered', 'count'\n",
    "* test: 'datetime', 'season', 'holiday', 'workingday', 'weather', 'temp',\n",
    "       'atemp', 'humidity', 'windspeed'"
   ]
  },
  {
   "cell_type": "code",
   "execution_count": 6,
   "id": "d8d40aa6",
   "metadata": {
    "execution": {
     "iopub.execute_input": "2025-05-15T08:45:02.720901Z",
     "iopub.status.busy": "2025-05-15T08:45:02.720728Z",
     "iopub.status.idle": "2025-05-15T08:45:02.725189Z",
     "shell.execute_reply": "2025-05-15T08:45:02.724541Z"
    },
    "papermill": {
     "duration": 0.012579,
     "end_time": "2025-05-15T08:45:02.726208",
     "exception": false,
     "start_time": "2025-05-15T08:45:02.713629",
     "status": "completed"
    },
    "tags": []
   },
   "outputs": [
    {
     "data": {
      "text/plain": [
       "(10886, 6493, 0.5964541613081021)"
      ]
     },
     "execution_count": 6,
     "metadata": {},
     "output_type": "execute_result"
    }
   ],
   "source": [
    "bike_df.shape[0], bike_test.shape[0], bike_test.shape[0] / bike_df.shape[0]"
   ]
  },
  {
   "cell_type": "markdown",
   "id": "e279042b",
   "metadata": {
    "papermill": {
     "duration": 0.006574,
     "end_time": "2025-05-15T08:45:02.739595",
     "exception": false,
     "start_time": "2025-05-15T08:45:02.733021",
     "status": "completed"
    },
    "tags": []
   },
   "source": [
    "Train : Test ~= 3 : 5"
   ]
  },
  {
   "cell_type": "markdown",
   "id": "5608983c",
   "metadata": {
    "papermill": {
     "duration": 0.006597,
     "end_time": "2025-05-15T08:45:02.752930",
     "exception": false,
     "start_time": "2025-05-15T08:45:02.746333",
     "status": "completed"
    },
    "tags": []
   },
   "source": [
    "## Data Type Adjustment"
   ]
  },
  {
   "cell_type": "code",
   "execution_count": 7,
   "id": "ea5bb22e",
   "metadata": {
    "execution": {
     "iopub.execute_input": "2025-05-15T08:45:02.767011Z",
     "iopub.status.busy": "2025-05-15T08:45:02.766819Z",
     "iopub.status.idle": "2025-05-15T08:45:02.788993Z",
     "shell.execute_reply": "2025-05-15T08:45:02.788411Z"
    },
    "papermill": {
     "duration": 0.030364,
     "end_time": "2025-05-15T08:45:02.789941",
     "exception": false,
     "start_time": "2025-05-15T08:45:02.759577",
     "status": "completed"
    },
    "tags": []
   },
   "outputs": [
    {
     "name": "stdout",
     "output_type": "stream",
     "text": [
      "<class 'pandas.core.frame.DataFrame'>\n",
      "RangeIndex: 10886 entries, 0 to 10885\n",
      "Data columns (total 12 columns):\n",
      " #   Column      Non-Null Count  Dtype  \n",
      "---  ------      --------------  -----  \n",
      " 0   datetime    10886 non-null  object \n",
      " 1   season      10886 non-null  int64  \n",
      " 2   holiday     10886 non-null  int64  \n",
      " 3   workingday  10886 non-null  int64  \n",
      " 4   weather     10886 non-null  int64  \n",
      " 5   temp        10886 non-null  float64\n",
      " 6   atemp       10886 non-null  float64\n",
      " 7   humidity    10886 non-null  int64  \n",
      " 8   windspeed   10886 non-null  float64\n",
      " 9   casual      10886 non-null  int64  \n",
      " 10  registered  10886 non-null  int64  \n",
      " 11  count       10886 non-null  int64  \n",
      "dtypes: float64(3), int64(8), object(1)\n",
      "memory usage: 1020.7+ KB\n"
     ]
    }
   ],
   "source": [
    "bike_df.info()"
   ]
  },
  {
   "cell_type": "code",
   "execution_count": 8,
   "id": "be54378c",
   "metadata": {
    "execution": {
     "iopub.execute_input": "2025-05-15T08:45:02.804917Z",
     "iopub.status.busy": "2025-05-15T08:45:02.804713Z",
     "iopub.status.idle": "2025-05-15T08:45:06.556838Z",
     "shell.execute_reply": "2025-05-15T08:45:06.556049Z"
    },
    "papermill": {
     "duration": 3.76142,
     "end_time": "2025-05-15T08:45:06.558376",
     "exception": false,
     "start_time": "2025-05-15T08:45:02.796956",
     "status": "completed"
    },
    "tags": []
   },
   "outputs": [],
   "source": [
    "bike_df['datetime'] = bike_df['datetime'].apply(pd.to_datetime)"
   ]
  },
  {
   "cell_type": "code",
   "execution_count": 9,
   "id": "f70bfc7d",
   "metadata": {
    "execution": {
     "iopub.execute_input": "2025-05-15T08:45:06.573804Z",
     "iopub.status.busy": "2025-05-15T08:45:06.573257Z",
     "iopub.status.idle": "2025-05-15T08:45:06.639713Z",
     "shell.execute_reply": "2025-05-15T08:45:06.639003Z"
    },
    "papermill": {
     "duration": 0.074881,
     "end_time": "2025-05-15T08:45:06.640754",
     "exception": false,
     "start_time": "2025-05-15T08:45:06.565873",
     "status": "completed"
    },
    "tags": []
   },
   "outputs": [
    {
     "data": {
      "text/html": [
       "<div>\n",
       "<style scoped>\n",
       "    .dataframe tbody tr th:only-of-type {\n",
       "        vertical-align: middle;\n",
       "    }\n",
       "\n",
       "    .dataframe tbody tr th {\n",
       "        vertical-align: top;\n",
       "    }\n",
       "\n",
       "    .dataframe thead th {\n",
       "        text-align: right;\n",
       "    }\n",
       "</style>\n",
       "<table border=\"1\" class=\"dataframe\">\n",
       "  <thead>\n",
       "    <tr style=\"text-align: right;\">\n",
       "      <th></th>\n",
       "      <th>season</th>\n",
       "      <th>holiday</th>\n",
       "      <th>workingday</th>\n",
       "      <th>weather</th>\n",
       "      <th>temp</th>\n",
       "      <th>atemp</th>\n",
       "      <th>humidity</th>\n",
       "      <th>windspeed</th>\n",
       "      <th>count</th>\n",
       "      <th>year</th>\n",
       "      <th>month</th>\n",
       "      <th>day</th>\n",
       "      <th>hour</th>\n",
       "      <th>dow</th>\n",
       "    </tr>\n",
       "  </thead>\n",
       "  <tbody>\n",
       "    <tr>\n",
       "      <th>0</th>\n",
       "      <td>1</td>\n",
       "      <td>0</td>\n",
       "      <td>0</td>\n",
       "      <td>1</td>\n",
       "      <td>9.84</td>\n",
       "      <td>14.395</td>\n",
       "      <td>81</td>\n",
       "      <td>0.0</td>\n",
       "      <td>16</td>\n",
       "      <td>2011</td>\n",
       "      <td>1</td>\n",
       "      <td>1</td>\n",
       "      <td>0</td>\n",
       "      <td>5</td>\n",
       "    </tr>\n",
       "    <tr>\n",
       "      <th>1</th>\n",
       "      <td>1</td>\n",
       "      <td>0</td>\n",
       "      <td>0</td>\n",
       "      <td>1</td>\n",
       "      <td>9.02</td>\n",
       "      <td>13.635</td>\n",
       "      <td>80</td>\n",
       "      <td>0.0</td>\n",
       "      <td>40</td>\n",
       "      <td>2011</td>\n",
       "      <td>1</td>\n",
       "      <td>1</td>\n",
       "      <td>1</td>\n",
       "      <td>5</td>\n",
       "    </tr>\n",
       "    <tr>\n",
       "      <th>2</th>\n",
       "      <td>1</td>\n",
       "      <td>0</td>\n",
       "      <td>0</td>\n",
       "      <td>1</td>\n",
       "      <td>9.02</td>\n",
       "      <td>13.635</td>\n",
       "      <td>80</td>\n",
       "      <td>0.0</td>\n",
       "      <td>32</td>\n",
       "      <td>2011</td>\n",
       "      <td>1</td>\n",
       "      <td>1</td>\n",
       "      <td>2</td>\n",
       "      <td>5</td>\n",
       "    </tr>\n",
       "  </tbody>\n",
       "</table>\n",
       "</div>"
      ],
      "text/plain": [
       "   season  holiday  workingday  weather  temp   atemp  humidity  windspeed  \\\n",
       "0       1        0           0        1  9.84  14.395        81        0.0   \n",
       "1       1        0           0        1  9.02  13.635        80        0.0   \n",
       "2       1        0           0        1  9.02  13.635        80        0.0   \n",
       "\n",
       "   count  year  month  day  hour  dow  \n",
       "0     16  2011      1    1     0    5  \n",
       "1     40  2011      1    1     1    5  \n",
       "2     32  2011      1    1     2    5  "
      ]
     },
     "execution_count": 9,
     "metadata": {},
     "output_type": "execute_result"
    }
   ],
   "source": [
    "# datetime 타입에서 년, 월, 일, 시간 추출\n",
    "bike_df['year'] = bike_df.datetime.apply(lambda x : x.year)\n",
    "bike_df['month'] = bike_df.datetime.apply(lambda x : x.month)\n",
    "bike_df['day'] = bike_df.datetime.apply(lambda x : x.day)\n",
    "bike_df['hour'] = bike_df.datetime.apply(lambda x: x.hour)\n",
    "bike_df['dow'] = bike_df.datetime.apply(lambda x: x.dayofweek)\n",
    "\n",
    "drop_columns = ['datetime','casual','registered'] # count = casual + registered\n",
    "bike_df.drop(drop_columns, axis=1,inplace=True)\n",
    "bike_df.head(3)"
   ]
  },
  {
   "cell_type": "markdown",
   "id": "845779ac",
   "metadata": {
    "papermill": {
     "duration": 0.007018,
     "end_time": "2025-05-15T08:45:06.654797",
     "exception": false,
     "start_time": "2025-05-15T08:45:06.647779",
     "status": "completed"
    },
    "tags": []
   },
   "source": [
    "## Column Type Classification\n",
    "\n",
    "* Category: season, holiday, weather, workingday, year, month, day, hour\n",
    "* Numerical Variables\n",
    "    * Continuous: temp, atemp, windspeed\n",
    "    * Discrete: humidity, count"
   ]
  },
  {
   "cell_type": "code",
   "execution_count": 10,
   "id": "87e72531",
   "metadata": {
    "execution": {
     "iopub.execute_input": "2025-05-15T08:45:06.669222Z",
     "iopub.status.busy": "2025-05-15T08:45:06.669007Z",
     "iopub.status.idle": "2025-05-15T08:45:09.554803Z",
     "shell.execute_reply": "2025-05-15T08:45:09.554128Z"
    },
    "papermill": {
     "duration": 2.894971,
     "end_time": "2025-05-15T08:45:09.556602",
     "exception": false,
     "start_time": "2025-05-15T08:45:06.661631",
     "status": "completed"
    },
    "tags": []
   },
   "outputs": [
    {
     "data": {
      "image/png": "[encoded data removed]",
      "text/plain": [
       "<Figure size 1600x800 with 8 Axes>"
      ]
     },
     "metadata": {},
     "output_type": "display_data"
    }
   ],
   "source": [
    "fig, axs = plt.subplots(figsize=(16, 8), ncols=4, nrows=2)\n",
    "cat_features = ['year', 'month','season','weather','day', 'hour', 'holiday','workingday']\n",
    "# cat_features에 있는 모든 칼럼별로 개별 칼럼값에 따른 count의 합을 barplot으로 시각화\n",
    "for i, feature in enumerate(cat_features):\n",
    "    row = int(i/4)\n",
    "    col = i%4\n",
    "    # 시본의 barplot을 이용해 칼럼값에 따른 count의 합을 표현\n",
    "    sns.barplot(x=feature, y='count', data=bike_df, ax=axs[row][col])"
   ]
  },
  {
   "cell_type": "code",
   "execution_count": 11,
   "id": "e88488bf",
   "metadata": {
    "execution": {
     "iopub.execute_input": "2025-05-15T08:45:09.574311Z",
     "iopub.status.busy": "2025-05-15T08:45:09.574082Z",
     "iopub.status.idle": "2025-05-15T08:45:09.800793Z",
     "shell.execute_reply": "2025-05-15T08:45:09.800172Z"
    },
    "papermill": {
     "duration": 0.237073,
     "end_time": "2025-05-15T08:45:09.802488",
     "exception": false,
     "start_time": "2025-05-15T08:45:09.565415",
     "status": "completed"
    },
    "tags": []
   },
   "outputs": [
    {
     "data": {
      "text/plain": [
       "<Axes: xlabel='windspeed', ylabel='count'>"
      ]
     },
     "execution_count": 11,
     "metadata": {},
     "output_type": "execute_result"
    },
    {
     "data": {
      "image/png": "[encoded data removed]",
      "text/plain": [
       "<Figure size 640x480 with 1 Axes>"
      ]
     },
     "metadata": {},
     "output_type": "display_data"
    }
   ],
   "source": [
    "bike_df.plot.scatter(x='windspeed',y='count')"
   ]
  },
  {
   "cell_type": "code",
   "execution_count": 12,
   "id": "bc81bf66",
   "metadata": {
    "execution": {
     "iopub.execute_input": "2025-05-15T08:45:09.865457Z",
     "iopub.status.busy": "2025-05-15T08:45:09.865134Z",
     "iopub.status.idle": "2025-05-15T08:45:10.125854Z",
     "shell.execute_reply": "2025-05-15T08:45:10.125147Z"
    },
    "papermill": {
     "duration": 0.315135,
     "end_time": "2025-05-15T08:45:10.126950",
     "exception": false,
     "start_time": "2025-05-15T08:45:09.811815",
     "status": "completed"
    },
    "tags": []
   },
   "outputs": [
    {
     "data": {
      "text/plain": [
       "<seaborn.axisgrid.FacetGrid at 0x7d9b9294ca90>"
      ]
     },
     "execution_count": 12,
     "metadata": {},
     "output_type": "execute_result"
    },
    {
     "data": {
      "image/png": "[encoded data removed]",
      "text/plain": [
       "<Figure size 500x500 with 1 Axes>"
      ]
     },
     "metadata": {},
     "output_type": "display_data"
    }
   ],
   "source": [
    "sns.displot(bike_df['windspeed'])"
   ]
  },
  {
   "cell_type": "markdown",
   "id": "721b8d65",
   "metadata": {
    "papermill": {
     "duration": 0.009971,
     "end_time": "2025-05-15T08:45:10.146265",
     "exception": false,
     "start_time": "2025-05-15T08:45:10.136294",
     "status": "completed"
    },
    "tags": []
   },
   "source": [
    "# Function Definition"
   ]
  },
  {
   "cell_type": "markdown",
   "id": "81522342",
   "metadata": {
    "papermill": {
     "duration": 0.008711,
     "end_time": "2025-05-15T08:45:10.163886",
     "exception": false,
     "start_time": "2025-05-15T08:45:10.155175",
     "status": "completed"
    },
    "tags": []
   },
   "source": [
    "## rmsle"
   ]
  },
  {
   "cell_type": "markdown",
   "id": "fb7700b7",
   "metadata": {
    "papermill": {
     "duration": 0.008896,
     "end_time": "2025-05-15T08:45:10.181605",
     "exception": false,
     "start_time": "2025-05-15T08:45:10.172709",
     "status": "completed"
    },
    "tags": []
   },
   "source": [
    "log1p() 를 이용하여 RMSLE 계산한 값을 출력"
   ]
  },
  {
   "cell_type": "code",
   "execution_count": 13,
   "id": "04427eb7",
   "metadata": {
    "execution": {
     "iopub.execute_input": "2025-05-15T08:45:10.200088Z",
     "iopub.status.busy": "2025-05-15T08:45:10.199857Z",
     "iopub.status.idle": "2025-05-15T08:45:10.463944Z",
     "shell.execute_reply": "2025-05-15T08:45:10.463400Z"
    },
    "papermill": {
     "duration": 0.274782,
     "end_time": "2025-05-15T08:45:10.465227",
     "exception": false,
     "start_time": "2025-05-15T08:45:10.190445",
     "status": "completed"
    },
    "tags": []
   },
   "outputs": [],
   "source": [
    "from sklearn.metrics import mean_squared_error, mean_absolute_error\n",
    "\n",
    "def rmsle(y, pred):\n",
    "    log_y = np.log1p(y)\n",
    "    log_pred = np.log1p(pred)\n",
    "    squared_error = (log_y - log_pred) ** 2\n",
    "    rmsle = np.sqrt(np.mean(squared_error))\n",
    "    return rmsle"
   ]
  },
  {
   "cell_type": "markdown",
   "id": "6a87a798",
   "metadata": {
    "papermill": {
     "duration": 0.008635,
     "end_time": "2025-05-15T08:45:10.483250",
     "exception": false,
     "start_time": "2025-05-15T08:45:10.474615",
     "status": "completed"
    },
    "tags": []
   },
   "source": [
    "## rmse"
   ]
  },
  {
   "cell_type": "markdown",
   "id": "55e8baf9",
   "metadata": {
    "papermill": {
     "duration": 0.008568,
     "end_time": "2025-05-15T08:45:10.500600",
     "exception": false,
     "start_time": "2025-05-15T08:45:10.492032",
     "status": "completed"
    },
    "tags": []
   },
   "source": [
    "MSE를 입력받아 RMSE 계산한 값을 출력"
   ]
  },
  {
   "cell_type": "code",
   "execution_count": 14,
   "id": "2521be76",
   "metadata": {
    "execution": {
     "iopub.execute_input": "2025-05-15T08:45:10.519088Z",
     "iopub.status.busy": "2025-05-15T08:45:10.518842Z",
     "iopub.status.idle": "2025-05-15T08:45:10.522140Z",
     "shell.execute_reply": "2025-05-15T08:45:10.521640Z"
    },
    "papermill": {
     "duration": 0.01392,
     "end_time": "2025-05-15T08:45:10.523159",
     "exception": false,
     "start_time": "2025-05-15T08:45:10.509239",
     "status": "completed"
    },
    "tags": []
   },
   "outputs": [],
   "source": [
    "def rmse(y,pred):\n",
    "    return np.sqrt(mean_squared_error(y,pred))"
   ]
  },
  {
   "cell_type": "markdown",
   "id": "c7258114",
   "metadata": {
    "papermill": {
     "duration": 0.008572,
     "end_time": "2025-05-15T08:45:10.540490",
     "exception": false,
     "start_time": "2025-05-15T08:45:10.531918",
     "status": "completed"
    },
    "tags": []
   },
   "source": [
    "## evaluate_regr"
   ]
  },
  {
   "cell_type": "markdown",
   "id": "3e0b69a7",
   "metadata": {
    "papermill": {
     "duration": 0.008618,
     "end_time": "2025-05-15T08:45:10.557839",
     "exception": false,
     "start_time": "2025-05-15T08:45:10.549221",
     "status": "completed"
    },
    "tags": []
   },
   "source": [
    "MSE, RMSE, RMSLE 를 각각 계산하여 print함수를 이용해 한 줄로 결과값 출력"
   ]
  },
  {
   "cell_type": "code",
   "execution_count": 15,
   "id": "a6355128",
   "metadata": {
    "execution": {
     "iopub.execute_input": "2025-05-15T08:45:10.576668Z",
     "iopub.status.busy": "2025-05-15T08:45:10.576408Z",
     "iopub.status.idle": "2025-05-15T08:45:10.580438Z",
     "shell.execute_reply": "2025-05-15T08:45:10.579877Z"
    },
    "papermill": {
     "duration": 0.014763,
     "end_time": "2025-05-15T08:45:10.581397",
     "exception": false,
     "start_time": "2025-05-15T08:45:10.566634",
     "status": "completed"
    },
    "tags": []
   },
   "outputs": [],
   "source": [
    "def evaluate_regr(y,pred):\n",
    "    rmsle_val = rmsle(y,pred)\n",
    "    rmse_val = rmse(y,pred)\n",
    "    # MAE 는 scikit learn의 mean_absolute_error() 로 계산\n",
    "    mae_val = mean_absolute_error(y,pred)\n",
    "    print('RMSLE: {0:.3f}, RMSE: {1:.3F}, MAE: {2:.3F}'.format(rmsle_val, rmse_val, mae_val))"
   ]
  },
  {
   "cell_type": "markdown",
   "id": "e18e5d6a",
   "metadata": {
    "papermill": {
     "duration": 0.008749,
     "end_time": "2025-05-15T08:45:10.598984",
     "exception": false,
     "start_time": "2025-05-15T08:45:10.590235",
     "status": "completed"
    },
    "tags": []
   },
   "source": [
    "## get_top_error_data"
   ]
  },
  {
   "cell_type": "markdown",
   "id": "6f09623c",
   "metadata": {
    "papermill": {
     "duration": 0.008536,
     "end_time": "2025-05-15T08:45:10.616327",
     "exception": false,
     "start_time": "2025-05-15T08:45:10.607791",
     "status": "completed"
    },
    "tags": []
   },
   "source": [
    "예측값과 실제값을 입력받아서 그 중 차이가 가장 큰 것을 내림차순으로 출력"
   ]
  },
  {
   "cell_type": "code",
   "execution_count": 16,
   "id": "c9c2a6c2",
   "metadata": {
    "execution": {
     "iopub.execute_input": "2025-05-15T08:45:10.634733Z",
     "iopub.status.busy": "2025-05-15T08:45:10.634491Z",
     "iopub.status.idle": "2025-05-15T08:45:10.638551Z",
     "shell.execute_reply": "2025-05-15T08:45:10.637990Z"
    },
    "papermill": {
     "duration": 0.014581,
     "end_time": "2025-05-15T08:45:10.639624",
     "exception": false,
     "start_time": "2025-05-15T08:45:10.625043",
     "status": "completed"
    },
    "tags": []
   },
   "outputs": [],
   "source": [
    "def get_top_error_data(y_test, pred, n_tops = 5):\n",
    "    # DataFrame에 컬럼들로 실제 대여횟수(count)와 예측 값을 서로 비교 할 수 있도록 생성. \n",
    "    result_df = pd.DataFrame(y_test.values, columns=['real_count'])\n",
    "    result_df['predicted_count']= np.round(pred)\n",
    "    result_df['diff'] = np.abs(result_df['real_count'] - result_df['predicted_count'])\n",
    "    # 예측값과 실제값이 가장 큰 데이터 순으로 출력. \n",
    "    print(result_df.sort_values('diff', ascending=False)[:n_tops])"
   ]
  },
  {
   "cell_type": "markdown",
   "id": "a3e6bfa7",
   "metadata": {
    "papermill": {
     "duration": 0.008861,
     "end_time": "2025-05-15T08:45:10.657538",
     "exception": false,
     "start_time": "2025-05-15T08:45:10.648677",
     "status": "completed"
    },
    "tags": []
   },
   "source": [
    "# Modeling & Evaluation"
   ]
  },
  {
   "cell_type": "markdown",
   "id": "bad58a46",
   "metadata": {
    "papermill": {
     "duration": 0.008871,
     "end_time": "2025-05-15T08:45:10.675317",
     "exception": false,
     "start_time": "2025-05-15T08:45:10.666446",
     "status": "completed"
    },
    "tags": []
   },
   "source": [
    "## Linear Regression"
   ]
  },
  {
   "cell_type": "code",
   "execution_count": 17,
   "id": "3b013408",
   "metadata": {
    "execution": {
     "iopub.execute_input": "2025-05-15T08:45:10.694024Z",
     "iopub.status.busy": "2025-05-15T08:45:10.693822Z",
     "iopub.status.idle": "2025-05-15T08:45:10.854544Z",
     "shell.execute_reply": "2025-05-15T08:45:10.853745Z"
    },
    "papermill": {
     "duration": 0.171784,
     "end_time": "2025-05-15T08:45:10.856053",
     "exception": false,
     "start_time": "2025-05-15T08:45:10.684269",
     "status": "completed"
    },
    "tags": []
   },
   "outputs": [
    {
     "name": "stdout",
     "output_type": "stream",
     "text": [
      "RMSLE: 1.174, RMSE: 140.823, MAE: 105.815\n"
     ]
    }
   ],
   "source": [
    "from sklearn.model_selection import train_test_split , GridSearchCV\n",
    "from sklearn.linear_model import LinearRegression , Ridge , Lasso\n",
    "\n",
    "y_target = bike_df['count']\n",
    "drop_col = ['count','day','temp','workingday'] # Target, Split Standard, temp ~= atepm but less descriptive\n",
    "X_features = bike_df.drop(drop_col,axis=1,inplace=False)\n",
    "\n",
    "X_train, X_test, y_train, y_test = train_test_split(X_features, y_target, test_size=0.3, random_state=0)\n",
    "\n",
    "lr_reg = LinearRegression()\n",
    "lr_reg.fit(X_train, y_train)\n",
    "pred = lr_reg.predict(X_test)\n",
    "\n",
    "evaluate_regr(y_test ,pred)"
   ]
  },
  {
   "cell_type": "code",
   "execution_count": 18,
   "id": "473b50ea",
   "metadata": {
    "execution": {
     "iopub.execute_input": "2025-05-15T08:45:10.888163Z",
     "iopub.status.busy": "2025-05-15T08:45:10.887916Z",
     "iopub.status.idle": "2025-05-15T08:45:10.896651Z",
     "shell.execute_reply": "2025-05-15T08:45:10.895958Z"
    },
    "papermill": {
     "duration": 0.025952,
     "end_time": "2025-05-15T08:45:10.898008",
     "exception": false,
     "start_time": "2025-05-15T08:45:10.872056",
     "status": "completed"
    },
    "tags": []
   },
   "outputs": [
    {
     "name": "stdout",
     "output_type": "stream",
     "text": [
      "      real_count  predicted_count   diff\n",
      "1618         890            318.0  572.0\n",
      "966          884            323.0  561.0\n",
      "3151         798            245.0  553.0\n",
      "412          745            193.0  552.0\n",
      "2314         766            220.0  546.0\n"
     ]
    }
   ],
   "source": [
    "get_top_error_data(y_test,pred,n_tops=5)"
   ]
  },
  {
   "cell_type": "code",
   "execution_count": 19,
   "id": "a34236a6",
   "metadata": {
    "execution": {
     "iopub.execute_input": "2025-05-15T08:45:10.929621Z",
     "iopub.status.busy": "2025-05-15T08:45:10.929380Z",
     "iopub.status.idle": "2025-05-15T08:45:11.128975Z",
     "shell.execute_reply": "2025-05-15T08:45:11.128287Z"
    },
    "papermill": {
     "duration": 0.216381,
     "end_time": "2025-05-15T08:45:11.130148",
     "exception": false,
     "start_time": "2025-05-15T08:45:10.913767",
     "status": "completed"
    },
    "tags": []
   },
   "outputs": [
    {
     "data": {
      "text/plain": [
       "<Axes: >"
      ]
     },
     "execution_count": 19,
     "metadata": {},
     "output_type": "execute_result"
    },
    {
     "data": {
      "image/png": "[encoded data removed]",
      "text/plain": [
       "<Figure size 640x480 with 1 Axes>"
      ]
     },
     "metadata": {},
     "output_type": "display_data"
    }
   ],
   "source": [
    "y_target.hist(bins = 50)"
   ]
  },
  {
   "cell_type": "markdown",
   "id": "aa61c578",
   "metadata": {
    "papermill": {
     "duration": 0.010775,
     "end_time": "2025-05-15T08:45:11.150780",
     "exception": false,
     "start_time": "2025-05-15T08:45:11.140005",
     "status": "completed"
    },
    "tags": []
   },
   "source": [
    "## y_target: Log Scaling"
   ]
  },
  {
   "cell_type": "code",
   "execution_count": 20,
   "id": "4d1856c5",
   "metadata": {
    "execution": {
     "iopub.execute_input": "2025-05-15T08:45:11.170730Z",
     "iopub.status.busy": "2025-05-15T08:45:11.170223Z",
     "iopub.status.idle": "2025-05-15T08:45:11.370084Z",
     "shell.execute_reply": "2025-05-15T08:45:11.369318Z"
    },
    "papermill": {
     "duration": 0.210892,
     "end_time": "2025-05-15T08:45:11.371233",
     "exception": false,
     "start_time": "2025-05-15T08:45:11.160341",
     "status": "completed"
    },
    "tags": []
   },
   "outputs": [
    {
     "data": {
      "text/plain": [
       "<Axes: >"
      ]
     },
     "execution_count": 20,
     "metadata": {},
     "output_type": "execute_result"
    },
    {
     "data": {
      "image/png": "[encoded data removed]",
      "text/plain": [
       "<Figure size 640x480 with 1 Axes>"
      ]
     },
     "metadata": {},
     "output_type": "display_data"
    }
   ],
   "source": [
    "y_log_transform = np.log1p(y_target)\n",
    "y_log_transform.hist(bins = 50)"
   ]
  },
  {
   "cell_type": "markdown",
   "id": "64c651b4",
   "metadata": {
    "papermill": {
     "duration": 0.009802,
     "end_time": "2025-05-15T08:45:11.391311",
     "exception": false,
     "start_time": "2025-05-15T08:45:11.381509",
     "status": "completed"
    },
    "tags": []
   },
   "source": [
    "Scaled Data Set Split & Linear Regression Modeling Evaluation"
   ]
  },
  {
   "cell_type": "markdown",
   "id": "558fae33",
   "metadata": {
    "papermill": {
     "duration": 0.009623,
     "end_time": "2025-05-15T08:45:11.410722",
     "exception": false,
     "start_time": "2025-05-15T08:45:11.401099",
     "status": "completed"
    },
    "tags": []
   },
   "source": [
    "## Reevaluation"
   ]
  },
  {
   "cell_type": "code",
   "execution_count": 21,
   "id": "1925e7e9",
   "metadata": {
    "execution": {
     "iopub.execute_input": "2025-05-15T08:45:11.431141Z",
     "iopub.status.busy": "2025-05-15T08:45:11.430889Z",
     "iopub.status.idle": "2025-05-15T08:45:11.448787Z",
     "shell.execute_reply": "2025-05-15T08:45:11.447567Z"
    },
    "papermill": {
     "duration": 0.029723,
     "end_time": "2025-05-15T08:45:11.450127",
     "exception": false,
     "start_time": "2025-05-15T08:45:11.420404",
     "status": "completed"
    },
    "tags": []
   },
   "outputs": [
    {
     "name": "stdout",
     "output_type": "stream",
     "text": [
      "RMSLE: 1.016, RMSE: 162.635, MAE: 109.193\n"
     ]
    }
   ],
   "source": [
    "# 타깃 칼럼인 count 값을 log1p로 로그 변환\n",
    "y_target_log = np.log1p(y_target)\n",
    "\n",
    "# 로그 변환된 y_target_log를 반영하여 학습/테스트 데이터 셋 분할\n",
    "X_train, X_test, y_train, y_test = train_test_split(X_features, y_target_log, test_size=0.3, random_state=0)\n",
    "lr_reg = LinearRegression()\n",
    "lr_reg.fit(X_train, y_train)\n",
    "pred = lr_reg.predict(X_test)\n",
    "\n",
    "# 테스트 데이터 셋의 Target 값은 Log 변환되었으므로 다시 expm1를 이용하여 원래 scale로 변환\n",
    "y_test_exp = np.expm1(y_test)\n",
    "\n",
    "# 예측 값 역시 Log 변환된 타깃 기반으로 학습되어 예측되었으므로 다시 exmpl으로 scale변환\n",
    "pred_exp = np.expm1(pred)\n",
    "\n",
    "evaluate_regr(y_test_exp ,pred_exp)"
   ]
  },
  {
   "cell_type": "markdown",
   "id": "2d80a3ab",
   "metadata": {
    "papermill": {
     "duration": 0.015974,
     "end_time": "2025-05-15T08:45:11.482786",
     "exception": false,
     "start_time": "2025-05-15T08:45:11.466812",
     "status": "completed"
    },
    "tags": []
   },
   "source": [
    "* Result: Even worse than before scaling"
   ]
  },
  {
   "cell_type": "code",
   "execution_count": 22,
   "id": "c93cbd61",
   "metadata": {
    "execution": {
     "iopub.execute_input": "2025-05-15T08:45:11.516102Z",
     "iopub.status.busy": "2025-05-15T08:45:11.515861Z",
     "iopub.status.idle": "2025-05-15T08:45:11.863872Z",
     "shell.execute_reply": "2025-05-15T08:45:11.863237Z"
    },
    "papermill": {
     "duration": 0.366309,
     "end_time": "2025-05-15T08:45:11.865209",
     "exception": false,
     "start_time": "2025-05-15T08:45:11.498900",
     "status": "completed"
    },
    "tags": []
   },
   "outputs": [
    {
     "data": {
      "image/png": "[encoded data removed]",
      "text/plain": [
       "<Figure size 640x480 with 1 Axes>"
      ]
     },
     "metadata": {},
     "output_type": "display_data"
    }
   ],
   "source": [
    "coef = pd.Series(lr_reg.coef_, index=X_features.columns)\n",
    "coef_sort = coef.sort_values(ascending=False)\n",
    "sns.barplot(x=coef_sort.values, y=coef_sort.index)\n",
    "plt.savefig('log_transform.png', format='png', dpi=300, bbox_inches='tight')"
   ]
  },
  {
   "cell_type": "markdown",
   "id": "f7d74634",
   "metadata": {
    "papermill": {
     "duration": 0.01028,
     "end_time": "2025-05-15T08:45:11.887317",
     "exception": false,
     "start_time": "2025-05-15T08:45:11.877037",
     "status": "completed"
    },
    "tags": []
   },
   "source": [
    "### Coefficiant index Ananlysis\n",
    "* Important Columns: Year\n",
    "* Unrelevant Columns: windspeed"
   ]
  },
  {
   "cell_type": "markdown",
   "id": "a10405c6",
   "metadata": {
    "papermill": {
     "duration": 0.009811,
     "end_time": "2025-05-15T08:45:11.907294",
     "exception": false,
     "start_time": "2025-05-15T08:45:11.897483",
     "status": "completed"
    },
    "tags": []
   },
   "source": [
    "## X_category_features Ont-hot Encoding"
   ]
  },
  {
   "cell_type": "code",
   "execution_count": 23,
   "id": "fd9b0095",
   "metadata": {
    "execution": {
     "iopub.execute_input": "2025-05-15T08:45:11.928662Z",
     "iopub.status.busy": "2025-05-15T08:45:11.928136Z",
     "iopub.status.idle": "2025-05-15T08:45:11.938870Z",
     "shell.execute_reply": "2025-05-15T08:45:11.938061Z"
    },
    "papermill": {
     "duration": 0.022598,
     "end_time": "2025-05-15T08:45:11.940008",
     "exception": false,
     "start_time": "2025-05-15T08:45:11.917410",
     "status": "completed"
    },
    "tags": []
   },
   "outputs": [],
   "source": [
    "# 'year', month', 'day', hour'등의 피처들을 One Hot Encoding\n",
    "X_features_ohe = pd.get_dummies(X_features, \n",
    "                                columns = ['year', 'month', 'dow','holiday','season','weather'], #hour 노미미\n",
    "                                drop_first=True\n",
    "                               )"
   ]
  },
  {
   "cell_type": "markdown",
   "id": "3e7e5024",
   "metadata": {
    "papermill": {
     "duration": 0.009763,
     "end_time": "2025-05-15T08:45:11.959804",
     "exception": false,
     "start_time": "2025-05-15T08:45:11.950041",
     "status": "completed"
    },
    "tags": []
   },
   "source": [
    "### Re-Evaluation"
   ]
  },
  {
   "cell_type": "code",
   "execution_count": 24,
   "id": "95004040",
   "metadata": {
    "execution": {
     "iopub.execute_input": "2025-05-15T08:45:11.980587Z",
     "iopub.status.busy": "2025-05-15T08:45:11.980362Z",
     "iopub.status.idle": "2025-05-15T08:45:12.092234Z",
     "shell.execute_reply": "2025-05-15T08:45:12.091528Z"
    },
    "papermill": {
     "duration": 0.12547,
     "end_time": "2025-05-15T08:45:12.095228",
     "exception": false,
     "start_time": "2025-05-15T08:45:11.969758",
     "status": "completed"
    },
    "tags": []
   },
   "outputs": [
    {
     "name": "stdout",
     "output_type": "stream",
     "text": [
      "### LinearRegression ###\n",
      "RMSLE: 1.002, RMSE: 159.278, MAE: 106.616\n",
      "### Ridge ###\n",
      "RMSLE: 1.002, RMSE: 159.299, MAE: 106.635\n",
      "### Lasso ###\n",
      "RMSLE: 1.008, RMSE: 160.765, MAE: 107.721\n"
     ]
    }
   ],
   "source": [
    "# 원-핫 인코딩이 적용된 feature 데이터 세트 기반으로 학습/예측 데이터 분할. \n",
    "X_train, X_test, y_train, y_test = train_test_split(X_features_ohe, y_target_log,\n",
    "                                                    test_size=0.3, random_state=0)\n",
    "\n",
    "# 모델과 학습/테스트 데이터 셋을 입력하면 성능 평가 수치를 반환\n",
    "def get_model_predict(model, X_train, X_test, y_train, y_test, is_expm1=False):\n",
    "    model.fit(X_train, y_train)\n",
    "    pred = model.predict(X_test)\n",
    "    if is_expm1 :\n",
    "        y_test = np.expm1(y_test)\n",
    "        pred = np.expm1(pred)\n",
    "    print('###',model.__class__.__name__,'###')\n",
    "    evaluate_regr(y_test, pred)\n",
    "# end of function get_model_predict    \n",
    "\n",
    "# model 별로 평가 수행\n",
    "lr_reg = LinearRegression()\n",
    "ridge_reg = Ridge(alpha=10)\n",
    "lasso_reg = Lasso(alpha=0.01)\n",
    "\n",
    "for model in [lr_reg, ridge_reg, lasso_reg]:\n",
    "    get_model_predict(model,X_train, X_test, y_train, y_test,is_expm1=True)"
   ]
  },
  {
   "cell_type": "code",
   "execution_count": 25,
   "id": "85ba0cbf",
   "metadata": {
    "execution": {
     "iopub.execute_input": "2025-05-15T08:45:12.135753Z",
     "iopub.status.busy": "2025-05-15T08:45:12.135486Z",
     "iopub.status.idle": "2025-05-15T08:45:12.729707Z",
     "shell.execute_reply": "2025-05-15T08:45:12.729158Z"
    },
    "papermill": {
     "duration": 0.613713,
     "end_time": "2025-05-15T08:45:12.731156",
     "exception": false,
     "start_time": "2025-05-15T08:45:12.117443",
     "status": "completed"
    },
    "tags": []
   },
   "outputs": [
    {
     "data": {
      "image/png": "[encoded data removed]",
      "text/plain": [
       "<Figure size 640x480 with 1 Axes>"
      ]
     },
     "metadata": {},
     "output_type": "display_data"
    }
   ],
   "source": [
    "coef = pd.Series(lr_reg.coef_ , index=X_features_ohe.columns)\n",
    "coef_sort = coef.sort_values(ascending=False)\n",
    "sns.barplot(x=coef_sort.values , y=coef_sort.index)\n",
    "plt.savefig('one-hotencoded.png', format='png', dpi=300, bbox_inches='tight')"
   ]
  },
  {
   "cell_type": "code",
   "execution_count": null,
   "id": "77066ff5",
   "metadata": {
    "papermill": {
     "duration": 0.010821,
     "end_time": "2025-05-15T08:45:12.753638",
     "exception": false,
     "start_time": "2025-05-15T08:45:12.742817",
     "status": "completed"
    },
    "tags": []
   },
   "outputs": [],
   "source": []
  },
  {
   "cell_type": "code",
   "execution_count": 26,
   "id": "c0237326",
   "metadata": {
    "execution": {
     "iopub.execute_input": "2025-05-15T08:45:12.776874Z",
     "iopub.status.busy": "2025-05-15T08:45:12.776234Z",
     "iopub.status.idle": "2025-05-15T08:45:14.275919Z",
     "shell.execute_reply": "2025-05-15T08:45:14.275178Z"
    },
    "papermill": {
     "duration": 1.512737,
     "end_time": "2025-05-15T08:45:14.277215",
     "exception": false,
     "start_time": "2025-05-15T08:45:12.764478",
     "status": "completed"
    },
    "tags": []
   },
   "outputs": [
    {
     "data": {
      "image/png": "[encoded data removed]",
      "text/plain": [
       "<Figure size 1200x1000 with 2 Axes>"
      ]
     },
     "metadata": {},
     "output_type": "display_data"
    }
   ],
   "source": [
    "corr_matrix = X_features_ohe.corr()\n",
    "\n",
    "# 2. 히트맵 시각화\n",
    "plt.figure(figsize=(12, 10))  # 크기 조정\n",
    "sns.heatmap(corr_matrix, cmap='coolwarm', square=True,\n",
    "            cbar_kws={\"shrink\": 0.8}, linewidths=0.5)\n",
    "\n",
    "plt.title('Feature Correlation Heatmap')\n",
    "plt.tight_layout()\n",
    "plt.savefig('correlation_heatmap.png', dpi=300)\n",
    "plt.show()"
   ]
  },
  {
   "cell_type": "code",
   "execution_count": 27,
   "id": "ed650b19",
   "metadata": {
    "execution": {
     "iopub.execute_input": "2025-05-15T08:45:14.304222Z",
     "iopub.status.busy": "2025-05-15T08:45:14.303995Z",
     "iopub.status.idle": "2025-05-15T08:45:14.308585Z",
     "shell.execute_reply": "2025-05-15T08:45:14.308054Z"
    },
    "papermill": {
     "duration": 0.019053,
     "end_time": "2025-05-15T08:45:14.309709",
     "exception": false,
     "start_time": "2025-05-15T08:45:14.290656",
     "status": "completed"
    },
    "tags": []
   },
   "outputs": [
    {
     "data": {
      "text/plain": [
       "False"
      ]
     },
     "execution_count": 27,
     "metadata": {},
     "output_type": "execute_result"
    }
   ],
   "source": [
    "X_features_ohe.columns.duplicated().any()"
   ]
  },
  {
   "cell_type": "code",
   "execution_count": 28,
   "id": "bc087f6e",
   "metadata": {
    "execution": {
     "iopub.execute_input": "2025-05-15T08:45:14.335120Z",
     "iopub.status.busy": "2025-05-15T08:45:14.334723Z",
     "iopub.status.idle": "2025-05-15T08:45:14.341929Z",
     "shell.execute_reply": "2025-05-15T08:45:14.341371Z"
    },
    "papermill": {
     "duration": 0.02104,
     "end_time": "2025-05-15T08:45:14.342905",
     "exception": false,
     "start_time": "2025-05-15T08:45:14.321865",
     "status": "completed"
    },
    "tags": []
   },
   "outputs": [
    {
     "data": {
      "text/plain": [
       " 0.055124    1\n",
       "-0.014158    1\n",
       " 0.005258    1\n",
       " 0.096617    1\n",
       " 0.399847    1\n",
       " 0.041242    1\n",
       " 0.035331    1\n",
       "-0.023743    1\n",
       " 0.190767    1\n",
       "-0.040190    1\n",
       "-0.137934    1\n",
       "-0.033835    1\n",
       " 0.222174    1\n",
       " 0.079767    1\n",
       " 0.136358    1\n",
       " 0.226369    1\n",
       "-0.008172    1\n",
       " 0.017837    1\n",
       " 0.038633    1\n",
       " 0.158115    1\n",
       " 0.151699    1\n",
       " 0.064776    1\n",
       " 0.022704    1\n",
       " 0.126834    1\n",
       " 0.050405    1\n",
       " 0.442494    1\n",
       " 0.124810    1\n",
       "-0.253418    1\n",
       " 1.036190    1\n",
       "Name: count, dtype: int64"
      ]
     },
     "execution_count": 28,
     "metadata": {},
     "output_type": "execute_result"
    }
   ],
   "source": [
    "coef.value_counts()"
   ]
  },
  {
   "cell_type": "markdown",
   "id": "a2768ce6",
   "metadata": {
    "papermill": {
     "duration": 0.011632,
     "end_time": "2025-05-15T08:45:14.366511",
     "exception": false,
     "start_time": "2025-05-15T08:45:14.354879",
     "status": "completed"
    },
    "tags": []
   },
   "source": [
    "## Regression Tree"
   ]
  },
  {
   "cell_type": "code",
   "execution_count": 29,
   "id": "1452c64a",
   "metadata": {
    "execution": {
     "iopub.execute_input": "2025-05-15T08:45:14.390935Z",
     "iopub.status.busy": "2025-05-15T08:45:14.390747Z",
     "iopub.status.idle": "2025-05-15T08:45:38.831117Z",
     "shell.execute_reply": "2025-05-15T08:45:38.830268Z"
    },
    "papermill": {
     "duration": 24.454112,
     "end_time": "2025-05-15T08:45:38.832435",
     "exception": false,
     "start_time": "2025-05-15T08:45:14.378323",
     "status": "completed"
    },
    "tags": []
   },
   "outputs": [
    {
     "name": "stdout",
     "output_type": "stream",
     "text": [
      "### RandomForestRegressor ###\n",
      "RMSLE: 0.340, RMSE: 48.733, MAE: 29.323\n",
      "### GradientBoostingRegressor ###\n",
      "RMSLE: 0.295, RMSE: 42.825, MAE: 25.812\n",
      "### XGBRegressor ###\n",
      "RMSLE: 0.308, RMSE: 44.453, MAE: 26.502\n",
      "### LGBMRegressor ###\n",
      "RMSLE: 0.299, RMSE: 43.874, MAE: 26.592\n"
     ]
    }
   ],
   "source": [
    "from sklearn.ensemble import RandomForestRegressor, GradientBoostingRegressor\n",
    "from xgboost import XGBRegressor\n",
    "from lightgbm import LGBMRegressor\n",
    "\n",
    "params = {'n_estimators': 500, \n",
    "          'max_depth': 5, \n",
    "          'random_state': 0, \n",
    "          'min_samples_leaf' : 10, \n",
    "          'learning_rate': 0.1, \n",
    "          'subsample': 0.7, \n",
    "          'loss': 'squared_error'\n",
    "         } #Ranker's Hyperparameter\n",
    "Best_Parameters = {'subsample': 0.9, 'verbose' : -1, 'reg_lambda': 0.0, 'reg_alpha': 0.0, 'num_leaves': 20, 'n_estimators': 500, 'max_depth': 6, 'learning_rate': 0.07, 'colsample_bytree': 0.8}\n",
    "# 랜덤 포레스트, GBM, XGBoost, LightGBM model 별로 평가 수행\n",
    "rf_reg = RandomForestRegressor(n_estimators=500)\n",
    "gbm_reg = GradientBoostingRegressor(**params)\n",
    "xgb_reg = XGBRegressor(n_estimators=500)\n",
    "lgbm_reg = LGBMRegressor(**Best_Parameters)\n",
    "\n",
    "for model in [rf_reg, gbm_reg, xgb_reg, lgbm_reg]:\n",
    "    # XGBoost의 경우 DataFrame이 입력 될 경우 버전에 따라 오류 발생 가능. ndarray로 변환.\n",
    "    get_model_predict(model,X_train.values, X_test.values, y_train.values, y_test.values,is_expm1=True)"
   ]
  },
  {
   "cell_type": "markdown",
   "id": "dde4e02e",
   "metadata": {
    "papermill": {
     "duration": 0.012104,
     "end_time": "2025-05-15T08:45:38.857825",
     "exception": false,
     "start_time": "2025-05-15T08:45:38.845721",
     "status": "completed"
    },
    "tags": []
   },
   "source": [
    "* Result: A lot better than Liear Regression, and my"
   ]
  },
  {
   "cell_type": "markdown",
   "id": "f1e8f500",
   "metadata": {
    "papermill": {
     "duration": 0.011878,
     "end_time": "2025-05-15T08:45:38.881811",
     "exception": false,
     "start_time": "2025-05-15T08:45:38.869933",
     "status": "completed"
    },
    "tags": []
   },
   "source": [
    "### Hyperparameter Tunning"
   ]
  },
  {
   "cell_type": "code",
   "execution_count": 30,
   "id": "c3f7ea4c",
   "metadata": {
    "execution": {
     "iopub.execute_input": "2025-05-15T08:45:38.908000Z",
     "iopub.status.busy": "2025-05-15T08:45:38.907104Z",
     "iopub.status.idle": "2025-05-15T08:47:33.838955Z",
     "shell.execute_reply": "2025-05-15T08:47:33.838025Z"
    },
    "papermill": {
     "duration": 114.946367,
     "end_time": "2025-05-15T08:47:33.840226",
     "exception": false,
     "start_time": "2025-05-15T08:45:38.893859",
     "status": "completed"
    },
    "tags": []
   },
   "outputs": [
    {
     "name": "stdout",
     "output_type": "stream",
     "text": [
      "Fitting 3 folds for each of 50 candidates, totalling 150 fits\n",
      "Best Parameters: {'subsample': 0.9, 'reg_lambda': 0.0, 'reg_alpha': 0.0, 'num_leaves': 35, 'n_estimators': 1000, 'max_depth': 8, 'learning_rate': 0.03, 'colsample_bytree': 1.0}\n",
      "### LGBMRegressor ###\n",
      "RMSLE: 0.296, RMSE: 42.044, MAE: 25.024\n"
     ]
    }
   ],
   "source": [
    "from sklearn.metrics import mean_squared_log_error, make_scorer\n",
    "from sklearn.model_selection import RandomizedSearchCV\n",
    "from lightgbm import early_stopping\n",
    "\n",
    "# 각 모델에 대한 파라미터 그리드\n",
    "param_grids = {\n",
    "        'num_leaves': [20, 35, 50],\n",
    "        'learning_rate': [0.03, 0.05, 0.07],\n",
    "        'max_depth': [4, 6, 8],\n",
    "        'reg_alpha': [0.0, 0.1, 0.5],\n",
    "        'reg_lambda': [0.0, 0.1, 0.5],\n",
    "        'subsample': [0.7, 0.8, 0.9],\n",
    "        'colsample_bytree': [0.6, 0.8, 1.0],\n",
    "        'n_estimators': [500, 800, 1000]\n",
    "    }\n",
    "\n",
    "model = LGBMRegressor(verbose = -1)\n",
    "rmsle_scorer = make_scorer(rmsle, greater_is_better=False)\n",
    "\n",
    "search = RandomizedSearchCV(\n",
    "        estimator=model,\n",
    "        param_distributions=param_grids,\n",
    "        n_iter=50, #기존10\n",
    "        scoring=rmsle_scorer,\n",
    "        cv=3,\n",
    "        verbose=1,\n",
    "        random_state=42,\n",
    "        n_jobs=-1\n",
    "    )\n",
    "search.fit(X_train, y_train)\n",
    "best_model = search.best_estimator_\n",
    "\n",
    "print(\"Best Parameters:\", search.best_params_)\n",
    "get_model_predict(best_model, X_train.values, X_test.values, y_train.values, y_test.values, is_expm1=True)"
   ]
  },
  {
   "cell_type": "markdown",
   "id": "84fa1d8f",
   "metadata": {
    "papermill": {
     "duration": 0.012123,
     "end_time": "2025-05-15T08:47:33.867249",
     "exception": false,
     "start_time": "2025-05-15T08:47:33.855126",
     "status": "completed"
    },
    "tags": []
   },
   "source": [
    "# Submission"
   ]
  },
  {
   "cell_type": "markdown",
   "id": "73583f65",
   "metadata": {
    "papermill": {
     "duration": 0.011919,
     "end_time": "2025-05-15T08:47:33.891280",
     "exception": false,
     "start_time": "2025-05-15T08:47:33.879361",
     "status": "completed"
    },
    "tags": []
   },
   "source": [
    "## Test Data Preprocess"
   ]
  },
  {
   "cell_type": "code",
   "execution_count": 31,
   "id": "d8c9882e",
   "metadata": {
    "execution": {
     "iopub.execute_input": "2025-05-15T08:47:33.916742Z",
     "iopub.status.busy": "2025-05-15T08:47:33.916241Z",
     "iopub.status.idle": "2025-05-15T08:47:36.280673Z",
     "shell.execute_reply": "2025-05-15T08:47:36.280060Z"
    },
    "papermill": {
     "duration": 2.378597,
     "end_time": "2025-05-15T08:47:36.282022",
     "exception": false,
     "start_time": "2025-05-15T08:47:33.903425",
     "status": "completed"
    },
    "tags": []
   },
   "outputs": [],
   "source": [
    "test = bike_test\n",
    "\n",
    "# train과 같은 전처리를 진행해보자\n",
    "test['datetime'] = test.datetime.apply(pd.to_datetime)\n",
    "\n",
    "# datetime 타입에서 년, 월, 일, 시간 추출\n",
    "test['year'] = test.datetime.apply(lambda x : x.year)\n",
    "test['month'] = test.datetime.apply(lambda x : x.month)\n",
    "test['day'] = test.datetime.apply(lambda x : x.day)\n",
    "test['hour'] = test.datetime.apply(lambda x: x.hour)\n",
    "test['dow'] = test.datetime.apply(lambda x: x.dayofweek)\n",
    "test.head(3)\n",
    "\n",
    "# 이미 테스트 데이터셋에는 casual, registered 가 빠져있음\n",
    "drop_columns = ['datetime','day','temp','workingday']\n",
    "test.drop(drop_columns, axis=1,inplace=True)\n",
    "\n",
    "# 'year', month', 'day', hour'등의 피처들을 One Hot Encoding\n",
    "test_ohe = pd.get_dummies(test, \n",
    "                          columns=['year', 'month', 'dow','holiday','season','weather'],\n",
    "                          drop_first=True\n",
    "                         )"
   ]
  },
  {
   "cell_type": "markdown",
   "id": "234d195e",
   "metadata": {
    "papermill": {
     "duration": 0.01221,
     "end_time": "2025-05-15T08:47:36.307630",
     "exception": false,
     "start_time": "2025-05-15T08:47:36.295420",
     "status": "completed"
    },
    "tags": []
   },
   "source": [
    "* test.day.nunique() != train.day.nunique()"
   ]
  },
  {
   "cell_type": "markdown",
   "id": "daceb442",
   "metadata": {
    "papermill": {
     "duration": 0.01209,
     "end_time": "2025-05-15T08:47:36.331878",
     "exception": false,
     "start_time": "2025-05-15T08:47:36.319788",
     "status": "completed"
    },
    "tags": []
   },
   "source": [
    "## Prediction by the final model"
   ]
  },
  {
   "cell_type": "code",
   "execution_count": 32,
   "id": "97d928ce",
   "metadata": {
    "execution": {
     "iopub.execute_input": "2025-05-15T08:47:36.357266Z",
     "iopub.status.busy": "2025-05-15T08:47:36.357003Z",
     "iopub.status.idle": "2025-05-15T08:47:36.724082Z",
     "shell.execute_reply": "2025-05-15T08:47:36.723307Z"
    },
    "papermill": {
     "duration": 0.381457,
     "end_time": "2025-05-15T08:47:36.725455",
     "exception": false,
     "start_time": "2025-05-15T08:47:36.343998",
     "status": "completed"
    },
    "tags": []
   },
   "outputs": [],
   "source": [
    "## sample_data를 받아오기\n",
    "sample = pd.read_csv('/kaggle/input/bike-sharing-demand/sampleSubmission.csv')\n",
    "\n",
    "# 테스트 데이터셋을 예측\n",
    "pred = best_model.predict(test_ohe)\n",
    "# 학습시 로그변환한 target을 썻으니 결과값을 다시 복원해야합니다\n",
    "pred_exp = np.expm1(pred)\n",
    "\n",
    "# sample 파일에 예측 값을 넣어주고\n",
    "sample[\"count\"] = pred_exp\n",
    "\n",
    "# csv로 저장하기\n",
    "sample.to_csv(\"/kaggle/working/submission.csv\", index=False)"
   ]
  }
 ],
 "metadata": {
  "kaggle": {
   "accelerator": "gpu",
   "dataSources": [
    {
     "databundleVersionId": 32624,
     "sourceId": 3948,
     "sourceType": "competition"
    }
   ],
   "dockerImageVersionId": 31040,
   "isGpuEnabled": true,
   "isInternetEnabled": true,
   "language": "python",
   "sourceType": "notebook"
  },
  "kernelspec": {
   "display_name": "Python 3",
   "language": "python",
   "name": "python3"
  },
  "language_info": {
   "codemirror_mode": {
    "name": "ipython",
    "version": 3
   },
   "file_extension": ".py",
   "mimetype": "text/x-python",
   "name": "python",
   "nbconvert_exporter": "python",
   "pygments_lexer": "ipython3",
   "version": "3.11.11"
  },
  "papermill": {
   "default_parameters": {},
   "duration": 164.898311,
   "end_time": "2025-05-15T08:47:39.355564",
   "environment_variables": {},
   "exception": null,
   "input_path": "__notebook__.ipynb",
   "output_path": "__notebook__.ipynb",
   "parameters": {},
   "start_time": "2025-05-15T08:44:54.457253",
   "version": "2.6.0"
  }
 },
 "nbformat": 4,
 "nbformat_minor": 5
}
