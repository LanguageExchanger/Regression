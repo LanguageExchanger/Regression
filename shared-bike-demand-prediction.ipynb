{
 "cells": [
  {
   "cell_type": "markdown",
   "id": "b1f52938",
   "metadata": {
    "papermill": {
     "duration": 0.007432,
     "end_time": "2025-05-15T08:08:07.962913",
     "exception": false,
     "start_time": "2025-05-15T08:08:07.955481",
     "status": "completed"
    },
    "tags": []
   },
   "source": [
    "# Data Loading"
   ]
  },
  {
   "cell_type": "code",
   "execution_count": 1,
   "id": "0330019f",
   "metadata": {
    "_cell_guid": "b1076dfc-b9ad-4769-8c92-a6c4dae69d19",
    "_uuid": "8f2839f25d086af736a60e9eeb907d3b93b6e0e5",
    "execution": {
     "iopub.execute_input": "2025-05-15T08:08:07.977177Z",
     "iopub.status.busy": "2025-05-15T08:08:07.976463Z",
     "iopub.status.idle": "2025-05-15T08:08:09.444480Z",
     "shell.execute_reply": "2025-05-15T08:08:09.443576Z"
    },
    "papermill": {
     "duration": 1.476288,
     "end_time": "2025-05-15T08:08:09.445698",
     "exception": false,
     "start_time": "2025-05-15T08:08:07.969410",
     "status": "completed"
    },
    "tags": []
   },
   "outputs": [
    {
     "name": "stdout",
     "output_type": "stream",
     "text": [
      "/kaggle/input/bike-sharing-demand/sampleSubmission.csv\n",
      "/kaggle/input/bike-sharing-demand/train.csv\n",
      "/kaggle/input/bike-sharing-demand/test.csv\n"
     ]
    }
   ],
   "source": [
    "# This Python 3 environment comes with many helpful analytics libraries installed\n",
    "# It is defined by the kaggle/python Docker image: https://github.com/kaggle/docker-python\n",
    "# For example, here's several helpful packages to load\n",
    "\n",
    "import numpy as np # linear algebra\n",
    "import pandas as pd # data processing, CSV file I/O (e.g. pd.read_csv)\n",
    "\n",
    "# Input data files are available in the read-only \"../input/\" directory\n",
    "# For example, running this (by clicking run or pressing Shift+Enter) will list all files under the input directory\n",
    "\n",
    "import os\n",
    "for dirname, _, filenames in os.walk('/kaggle/input'):\n",
    "    for filename in filenames:\n",
    "        print(os.path.join(dirname, filename))\n",
    "\n",
    "# You can write up to 20GB to the current directory (/kaggle/working/) that gets preserved as output when you create a version using \"Save & Run All\" \n",
    "# You can also write temporary files to /kaggle/temp/, but they won't be saved outside of the current session"
   ]
  },
  {
   "cell_type": "code",
   "execution_count": 2,
   "id": "f8bb8506",
   "metadata": {
    "execution": {
     "iopub.execute_input": "2025-05-15T08:08:09.459562Z",
     "iopub.status.busy": "2025-05-15T08:08:09.459283Z",
     "iopub.status.idle": "2025-05-15T08:08:11.115037Z",
     "shell.execute_reply": "2025-05-15T08:08:11.114351Z"
    },
    "papermill": {
     "duration": 1.663794,
     "end_time": "2025-05-15T08:08:11.116239",
     "exception": false,
     "start_time": "2025-05-15T08:08:09.452445",
     "status": "completed"
    },
    "tags": []
   },
   "outputs": [
    {
     "name": "stdout",
     "output_type": "stream",
     "text": [
      "(10886, 12)\n"
     ]
    },
    {
     "data": {
      "text/html": [
       "<div>\n",
       "<style scoped>\n",
       "    .dataframe tbody tr th:only-of-type {\n",
       "        vertical-align: middle;\n",
       "    }\n",
       "\n",
       "    .dataframe tbody tr th {\n",
       "        vertical-align: top;\n",
       "    }\n",
       "\n",
       "    .dataframe thead th {\n",
       "        text-align: right;\n",
       "    }\n",
       "</style>\n",
       "<table border=\"1\" class=\"dataframe\">\n",
       "  <thead>\n",
       "    <tr style=\"text-align: right;\">\n",
       "      <th></th>\n",
       "      <th>datetime</th>\n",
       "      <th>season</th>\n",
       "      <th>holiday</th>\n",
       "      <th>workingday</th>\n",
       "      <th>weather</th>\n",
       "      <th>temp</th>\n",
       "      <th>atemp</th>\n",
       "      <th>humidity</th>\n",
       "      <th>windspeed</th>\n",
       "      <th>casual</th>\n",
       "      <th>registered</th>\n",
       "      <th>count</th>\n",
       "    </tr>\n",
       "  </thead>\n",
       "  <tbody>\n",
       "    <tr>\n",
       "      <th>0</th>\n",
       "      <td>2011-01-01 00:00:00</td>\n",
       "      <td>1</td>\n",
       "      <td>0</td>\n",
       "      <td>0</td>\n",
       "      <td>1</td>\n",
       "      <td>9.84</td>\n",
       "      <td>14.395</td>\n",
       "      <td>81</td>\n",
       "      <td>0.0</td>\n",
       "      <td>3</td>\n",
       "      <td>13</td>\n",
       "      <td>16</td>\n",
       "    </tr>\n",
       "    <tr>\n",
       "      <th>1</th>\n",
       "      <td>2011-01-01 01:00:00</td>\n",
       "      <td>1</td>\n",
       "      <td>0</td>\n",
       "      <td>0</td>\n",
       "      <td>1</td>\n",
       "      <td>9.02</td>\n",
       "      <td>13.635</td>\n",
       "      <td>80</td>\n",
       "      <td>0.0</td>\n",
       "      <td>8</td>\n",
       "      <td>32</td>\n",
       "      <td>40</td>\n",
       "    </tr>\n",
       "    <tr>\n",
       "      <th>2</th>\n",
       "      <td>2011-01-01 02:00:00</td>\n",
       "      <td>1</td>\n",
       "      <td>0</td>\n",
       "      <td>0</td>\n",
       "      <td>1</td>\n",
       "      <td>9.02</td>\n",
       "      <td>13.635</td>\n",
       "      <td>80</td>\n",
       "      <td>0.0</td>\n",
       "      <td>5</td>\n",
       "      <td>27</td>\n",
       "      <td>32</td>\n",
       "    </tr>\n",
       "  </tbody>\n",
       "</table>\n",
       "</div>"
      ],
      "text/plain": [
       "              datetime  season  holiday  workingday  weather  temp   atemp  \\\n",
       "0  2011-01-01 00:00:00       1        0           0        1  9.84  14.395   \n",
       "1  2011-01-01 01:00:00       1        0           0        1  9.02  13.635   \n",
       "2  2011-01-01 02:00:00       1        0           0        1  9.02  13.635   \n",
       "\n",
       "   humidity  windspeed  casual  registered  count  \n",
       "0        81        0.0       3          13     16  \n",
       "1        80        0.0       8          32     40  \n",
       "2        80        0.0       5          27     32  "
      ]
     },
     "execution_count": 2,
     "metadata": {},
     "output_type": "execute_result"
    }
   ],
   "source": [
    "import numpy as np\n",
    "import pandas as pd\n",
    "import seaborn as sns\n",
    "import matplotlib.pyplot as plt\n",
    "%matplotlib inline\n",
    "\n",
    "import warnings\n",
    "warnings.filterwarnings(\"ignore\")\n",
    "\n",
    "file_path = '/kaggle/input/bike-sharing-demand/train.csv'\n",
    "bike_df = pd.read_csv(file_path)\n",
    "print(bike_df.shape)\n",
    "bike_df.head(3)"
   ]
  },
  {
   "cell_type": "code",
   "execution_count": 3,
   "id": "c70daed8",
   "metadata": {
    "execution": {
     "iopub.execute_input": "2025-05-15T08:08:11.130495Z",
     "iopub.status.busy": "2025-05-15T08:08:11.130266Z",
     "iopub.status.idle": "2025-05-15T08:08:11.149982Z",
     "shell.execute_reply": "2025-05-15T08:08:11.149436Z"
    },
    "papermill": {
     "duration": 0.027903,
     "end_time": "2025-05-15T08:08:11.151038",
     "exception": false,
     "start_time": "2025-05-15T08:08:11.123135",
     "status": "completed"
    },
    "tags": []
   },
   "outputs": [],
   "source": [
    "bike_test = pd.read_csv('/kaggle/input/bike-sharing-demand/test.csv')"
   ]
  },
  {
   "cell_type": "code",
   "execution_count": 4,
   "id": "abe6ed87",
   "metadata": {
    "execution": {
     "iopub.execute_input": "2025-05-15T08:08:11.165296Z",
     "iopub.status.busy": "2025-05-15T08:08:11.164823Z",
     "iopub.status.idle": "2025-05-15T08:08:11.168726Z",
     "shell.execute_reply": "2025-05-15T08:08:11.168087Z"
    },
    "papermill": {
     "duration": 0.011801,
     "end_time": "2025-05-15T08:08:11.169734",
     "exception": false,
     "start_time": "2025-05-15T08:08:11.157933",
     "status": "completed"
    },
    "tags": []
   },
   "outputs": [
    {
     "name": "stdout",
     "output_type": "stream",
     "text": [
      "casual\n",
      "registered\n",
      "count\n"
     ]
    }
   ],
   "source": [
    "for column in bike_df.columns:\n",
    "    if column not in bike_test.columns:\n",
    "        print(column)"
   ]
  },
  {
   "cell_type": "code",
   "execution_count": 5,
   "id": "5a7d8214",
   "metadata": {
    "execution": {
     "iopub.execute_input": "2025-05-15T08:08:11.183271Z",
     "iopub.status.busy": "2025-05-15T08:08:11.183074Z",
     "iopub.status.idle": "2025-05-15T08:08:11.188503Z",
     "shell.execute_reply": "2025-05-15T08:08:11.187975Z"
    },
    "papermill": {
     "duration": 0.013346,
     "end_time": "2025-05-15T08:08:11.189518",
     "exception": false,
     "start_time": "2025-05-15T08:08:11.176172",
     "status": "completed"
    },
    "tags": []
   },
   "outputs": [
    {
     "data": {
      "text/plain": [
       "Index(['datetime', 'season', 'holiday', 'workingday', 'weather', 'temp',\n",
       "       'atemp', 'humidity', 'windspeed', 'casual', 'registered', 'count'],\n",
       "      dtype='object')"
      ]
     },
     "execution_count": 5,
     "metadata": {},
     "output_type": "execute_result"
    }
   ],
   "source": [
    "bike_df.columns"
   ]
  },
  {
   "cell_type": "markdown",
   "id": "6bf41afa",
   "metadata": {
    "papermill": {
     "duration": 0.006401,
     "end_time": "2025-05-15T08:08:11.202459",
     "exception": false,
     "start_time": "2025-05-15T08:08:11.196058",
     "status": "completed"
    },
    "tags": []
   },
   "source": [
    "## Column Analysis\n",
    "\n",
    "* Target = count\n",
    "* count = casual + registered\n",
    "* train: 'datetime', 'season', 'holiday', 'workingday', 'weather', 'temp',\n",
    "       'atemp', 'humidity', 'windspeed', 'casual', 'registered', 'count'\n",
    "* test: 'datetime', 'season', 'holiday', 'workingday', 'weather', 'temp',\n",
    "       'atemp', 'humidity', 'windspeed'"
   ]
  },
  {
   "cell_type": "code",
   "execution_count": 6,
   "id": "274a2bbf",
   "metadata": {
    "execution": {
     "iopub.execute_input": "2025-05-15T08:08:11.216088Z",
     "iopub.status.busy": "2025-05-15T08:08:11.215913Z",
     "iopub.status.idle": "2025-05-15T08:08:11.220084Z",
     "shell.execute_reply": "2025-05-15T08:08:11.219592Z"
    },
    "papermill": {
     "duration": 0.012034,
     "end_time": "2025-05-15T08:08:11.221048",
     "exception": false,
     "start_time": "2025-05-15T08:08:11.209014",
     "status": "completed"
    },
    "tags": []
   },
   "outputs": [
    {
     "data": {
      "text/plain": [
       "(10886, 6493, 0.5964541613081021)"
      ]
     },
     "execution_count": 6,
     "metadata": {},
     "output_type": "execute_result"
    }
   ],
   "source": [
    "bike_df.shape[0], bike_test.shape[0], bike_test.shape[0] / bike_df.shape[0]"
   ]
  },
  {
   "cell_type": "markdown",
   "id": "d267e727",
   "metadata": {
    "papermill": {
     "duration": 0.006365,
     "end_time": "2025-05-15T08:08:11.234505",
     "exception": false,
     "start_time": "2025-05-15T08:08:11.228140",
     "status": "completed"
    },
    "tags": []
   },
   "source": [
    "Train : Test ~= 3 : 5"
   ]
  },
  {
   "cell_type": "markdown",
   "id": "c622ecdb",
   "metadata": {
    "papermill": {
     "duration": 0.006317,
     "end_time": "2025-05-15T08:08:11.247325",
     "exception": false,
     "start_time": "2025-05-15T08:08:11.241008",
     "status": "completed"
    },
    "tags": []
   },
   "source": [
    "## Data Type Adjustment"
   ]
  },
  {
   "cell_type": "code",
   "execution_count": 7,
   "id": "84663e03",
   "metadata": {
    "execution": {
     "iopub.execute_input": "2025-05-15T08:08:11.261572Z",
     "iopub.status.busy": "2025-05-15T08:08:11.261373Z",
     "iopub.status.idle": "2025-05-15T08:08:11.281526Z",
     "shell.execute_reply": "2025-05-15T08:08:11.280701Z"
    },
    "papermill": {
     "duration": 0.028557,
     "end_time": "2025-05-15T08:08:11.282555",
     "exception": false,
     "start_time": "2025-05-15T08:08:11.253998",
     "status": "completed"
    },
    "tags": []
   },
   "outputs": [
    {
     "name": "stdout",
     "output_type": "stream",
     "text": [
      "<class 'pandas.core.frame.DataFrame'>\n",
      "RangeIndex: 10886 entries, 0 to 10885\n",
      "Data columns (total 12 columns):\n",
      " #   Column      Non-Null Count  Dtype  \n",
      "---  ------      --------------  -----  \n",
      " 0   datetime    10886 non-null  object \n",
      " 1   season      10886 non-null  int64  \n",
      " 2   holiday     10886 non-null  int64  \n",
      " 3   workingday  10886 non-null  int64  \n",
      " 4   weather     10886 non-null  int64  \n",
      " 5   temp        10886 non-null  float64\n",
      " 6   atemp       10886 non-null  float64\n",
      " 7   humidity    10886 non-null  int64  \n",
      " 8   windspeed   10886 non-null  float64\n",
      " 9   casual      10886 non-null  int64  \n",
      " 10  registered  10886 non-null  int64  \n",
      " 11  count       10886 non-null  int64  \n",
      "dtypes: float64(3), int64(8), object(1)\n",
      "memory usage: 1020.7+ KB\n"
     ]
    }
   ],
   "source": [
    "bike_df.info()"
   ]
  },
  {
   "cell_type": "code",
   "execution_count": 8,
   "id": "efeac7cc",
   "metadata": {
    "execution": {
     "iopub.execute_input": "2025-05-15T08:08:11.296662Z",
     "iopub.status.busy": "2025-05-15T08:08:11.296485Z",
     "iopub.status.idle": "2025-05-15T08:08:15.090883Z",
     "shell.execute_reply": "2025-05-15T08:08:15.090323Z"
    },
    "papermill": {
     "duration": 3.802884,
     "end_time": "2025-05-15T08:08:15.092248",
     "exception": false,
     "start_time": "2025-05-15T08:08:11.289364",
     "status": "completed"
    },
    "tags": []
   },
   "outputs": [],
   "source": [
    "bike_df['datetime'] = bike_df['datetime'].apply(pd.to_datetime)"
   ]
  },
  {
   "cell_type": "code",
   "execution_count": 9,
   "id": "65d8f98d",
   "metadata": {
    "execution": {
     "iopub.execute_input": "2025-05-15T08:08:15.107176Z",
     "iopub.status.busy": "2025-05-15T08:08:15.106765Z",
     "iopub.status.idle": "2025-05-15T08:08:15.171355Z",
     "shell.execute_reply": "2025-05-15T08:08:15.170815Z"
    },
    "papermill": {
     "duration": 0.073028,
     "end_time": "2025-05-15T08:08:15.172397",
     "exception": false,
     "start_time": "2025-05-15T08:08:15.099369",
     "status": "completed"
    },
    "tags": []
   },
   "outputs": [
    {
     "data": {
      "text/html": [
       "<div>\n",
       "<style scoped>\n",
       "    .dataframe tbody tr th:only-of-type {\n",
       "        vertical-align: middle;\n",
       "    }\n",
       "\n",
       "    .dataframe tbody tr th {\n",
       "        vertical-align: top;\n",
       "    }\n",
       "\n",
       "    .dataframe thead th {\n",
       "        text-align: right;\n",
       "    }\n",
       "</style>\n",
       "<table border=\"1\" class=\"dataframe\">\n",
       "  <thead>\n",
       "    <tr style=\"text-align: right;\">\n",
       "      <th></th>\n",
       "      <th>season</th>\n",
       "      <th>holiday</th>\n",
       "      <th>workingday</th>\n",
       "      <th>weather</th>\n",
       "      <th>temp</th>\n",
       "      <th>atemp</th>\n",
       "      <th>humidity</th>\n",
       "      <th>windspeed</th>\n",
       "      <th>count</th>\n",
       "      <th>year</th>\n",
       "      <th>month</th>\n",
       "      <th>day</th>\n",
       "      <th>hour</th>\n",
       "      <th>dow</th>\n",
       "    </tr>\n",
       "  </thead>\n",
       "  <tbody>\n",
       "    <tr>\n",
       "      <th>0</th>\n",
       "      <td>1</td>\n",
       "      <td>0</td>\n",
       "      <td>0</td>\n",
       "      <td>1</td>\n",
       "      <td>9.84</td>\n",
       "      <td>14.395</td>\n",
       "      <td>81</td>\n",
       "      <td>0.0</td>\n",
       "      <td>16</td>\n",
       "      <td>2011</td>\n",
       "      <td>1</td>\n",
       "      <td>1</td>\n",
       "      <td>0</td>\n",
       "      <td>5</td>\n",
       "    </tr>\n",
       "    <tr>\n",
       "      <th>1</th>\n",
       "      <td>1</td>\n",
       "      <td>0</td>\n",
       "      <td>0</td>\n",
       "      <td>1</td>\n",
       "      <td>9.02</td>\n",
       "      <td>13.635</td>\n",
       "      <td>80</td>\n",
       "      <td>0.0</td>\n",
       "      <td>40</td>\n",
       "      <td>2011</td>\n",
       "      <td>1</td>\n",
       "      <td>1</td>\n",
       "      <td>1</td>\n",
       "      <td>5</td>\n",
       "    </tr>\n",
       "    <tr>\n",
       "      <th>2</th>\n",
       "      <td>1</td>\n",
       "      <td>0</td>\n",
       "      <td>0</td>\n",
       "      <td>1</td>\n",
       "      <td>9.02</td>\n",
       "      <td>13.635</td>\n",
       "      <td>80</td>\n",
       "      <td>0.0</td>\n",
       "      <td>32</td>\n",
       "      <td>2011</td>\n",
       "      <td>1</td>\n",
       "      <td>1</td>\n",
       "      <td>2</td>\n",
       "      <td>5</td>\n",
       "    </tr>\n",
       "  </tbody>\n",
       "</table>\n",
       "</div>"
      ],
      "text/plain": [
       "   season  holiday  workingday  weather  temp   atemp  humidity  windspeed  \\\n",
       "0       1        0           0        1  9.84  14.395        81        0.0   \n",
       "1       1        0           0        1  9.02  13.635        80        0.0   \n",
       "2       1        0           0        1  9.02  13.635        80        0.0   \n",
       "\n",
       "   count  year  month  day  hour  dow  \n",
       "0     16  2011      1    1     0    5  \n",
       "1     40  2011      1    1     1    5  \n",
       "2     32  2011      1    1     2    5  "
      ]
     },
     "execution_count": 9,
     "metadata": {},
     "output_type": "execute_result"
    }
   ],
   "source": [
    "# datetime 타입에서 년, 월, 일, 시간 추출\n",
    "bike_df['year'] = bike_df.datetime.apply(lambda x : x.year)\n",
    "bike_df['month'] = bike_df.datetime.apply(lambda x : x.month)\n",
    "bike_df['day'] = bike_df.datetime.apply(lambda x : x.day)\n",
    "bike_df['hour'] = bike_df.datetime.apply(lambda x: x.hour)\n",
    "bike_df['dow'] = bike_df.datetime.apply(lambda x: x.dayofweek)\n",
    "\n",
    "drop_columns = ['datetime','casual','registered'] # count = casual + registered\n",
    "bike_df.drop(drop_columns, axis=1,inplace=True)\n",
    "bike_df.head(3)"
   ]
  },
  {
   "cell_type": "markdown",
   "id": "5576e867",
   "metadata": {
    "papermill": {
     "duration": 0.007006,
     "end_time": "2025-05-15T08:08:15.186894",
     "exception": false,
     "start_time": "2025-05-15T08:08:15.179888",
     "status": "completed"
    },
    "tags": []
   },
   "source": [
    "## Column Type Classification\n",
    "\n",
    "* Category: season, holiday, weather, workingday, year, month, day, hour\n",
    "* Numerical Variables\n",
    "    * Continuous: temp, atemp, windspeed\n",
    "    * Discrete: humidity, count"
   ]
  },
  {
   "cell_type": "code",
   "execution_count": 10,
   "id": "97526f08",
   "metadata": {
    "execution": {
     "iopub.execute_input": "2025-05-15T08:08:15.201273Z",
     "iopub.status.busy": "2025-05-15T08:08:15.201086Z",
     "iopub.status.idle": "2025-05-15T08:08:18.054574Z",
     "shell.execute_reply": "2025-05-15T08:08:18.053831Z"
    },
    "papermill": {
     "duration": 2.862193,
     "end_time": "2025-05-15T08:08:18.055851",
     "exception": false,
     "start_time": "2025-05-15T08:08:15.193658",
     "status": "completed"
    },
    "tags": []
   },
   "outputs": [
    {
     "data": {
      "image/png": "[encoded data removed]",
      "text/plain": [
       "<Figure size 1600x800 with 8 Axes>"
      ]
     },
     "metadata": {},
     "output_type": "display_data"
    }
   ],
   "source": [
    "fig, axs = plt.subplots(figsize=(16, 8), ncols=4, nrows=2)\n",
    "cat_features = ['year', 'month','season','weather','day', 'hour', 'holiday','workingday']\n",
    "# cat_features에 있는 모든 칼럼별로 개별 칼럼값에 따른 count의 합을 barplot으로 시각화\n",
    "for i, feature in enumerate(cat_features):\n",
    "    row = int(i/4)\n",
    "    col = i%4\n",
    "    # 시본의 barplot을 이용해 칼럼값에 따른 count의 합을 표현\n",
    "    sns.barplot(x=feature, y='count', data=bike_df, ax=axs[row][col])"
   ]
  },
  {
   "cell_type": "markdown",
   "id": "00c01ed3",
   "metadata": {
    "papermill": {
     "duration": 0.007873,
     "end_time": "2025-05-15T08:08:18.072258",
     "exception": false,
     "start_time": "2025-05-15T08:08:18.064385",
     "status": "completed"
    },
    "tags": []
   },
   "source": [
    "# Function Definition"
   ]
  },
  {
   "cell_type": "markdown",
   "id": "78f79556",
   "metadata": {
    "papermill": {
     "duration": 0.051984,
     "end_time": "2025-05-15T08:08:18.131977",
     "exception": false,
     "start_time": "2025-05-15T08:08:18.079993",
     "status": "completed"
    },
    "tags": []
   },
   "source": [
    "## rmsle"
   ]
  },
  {
   "cell_type": "markdown",
   "id": "ec3b0ae0",
   "metadata": {
    "papermill": {
     "duration": 0.007652,
     "end_time": "2025-05-15T08:08:18.147562",
     "exception": false,
     "start_time": "2025-05-15T08:08:18.139910",
     "status": "completed"
    },
    "tags": []
   },
   "source": [
    "log1p() 를 이용하여 RMSLE 계산한 값을 출력"
   ]
  },
  {
   "cell_type": "code",
   "execution_count": 11,
   "id": "fccf9136",
   "metadata": {
    "execution": {
     "iopub.execute_input": "2025-05-15T08:08:18.164004Z",
     "iopub.status.busy": "2025-05-15T08:08:18.163720Z",
     "iopub.status.idle": "2025-05-15T08:08:18.397209Z",
     "shell.execute_reply": "2025-05-15T08:08:18.396324Z"
    },
    "papermill": {
     "duration": 0.243541,
     "end_time": "2025-05-15T08:08:18.398713",
     "exception": false,
     "start_time": "2025-05-15T08:08:18.155172",
     "status": "completed"
    },
    "tags": []
   },
   "outputs": [],
   "source": [
    "from sklearn.metrics import mean_squared_error, mean_absolute_error\n",
    "\n",
    "def rmsle(y, pred):\n",
    "    log_y = np.log1p(y)\n",
    "    log_pred = np.log1p(pred)\n",
    "    squared_error = (log_y - log_pred) ** 2\n",
    "    rmsle = np.sqrt(np.mean(squared_error))\n",
    "    return rmsle"
   ]
  },
  {
   "cell_type": "markdown",
   "id": "a92186e8",
   "metadata": {
    "papermill": {
     "duration": 0.007782,
     "end_time": "2025-05-15T08:08:18.415009",
     "exception": false,
     "start_time": "2025-05-15T08:08:18.407227",
     "status": "completed"
    },
    "tags": []
   },
   "source": [
    "## rmse"
   ]
  },
  {
   "cell_type": "markdown",
   "id": "e04079a9",
   "metadata": {
    "papermill": {
     "duration": 0.00761,
     "end_time": "2025-05-15T08:08:18.430539",
     "exception": false,
     "start_time": "2025-05-15T08:08:18.422929",
     "status": "completed"
    },
    "tags": []
   },
   "source": [
    "MSE를 입력받아 RMSE 계산한 값을 출력"
   ]
  },
  {
   "cell_type": "code",
   "execution_count": 12,
   "id": "97f75e60",
   "metadata": {
    "execution": {
     "iopub.execute_input": "2025-05-15T08:08:18.446984Z",
     "iopub.status.busy": "2025-05-15T08:08:18.446691Z",
     "iopub.status.idle": "2025-05-15T08:08:18.450314Z",
     "shell.execute_reply": "2025-05-15T08:08:18.449780Z"
    },
    "papermill": {
     "duration": 0.013131,
     "end_time": "2025-05-15T08:08:18.451298",
     "exception": false,
     "start_time": "2025-05-15T08:08:18.438167",
     "status": "completed"
    },
    "tags": []
   },
   "outputs": [],
   "source": [
    "def rmse(y,pred):\n",
    "    return np.sqrt(mean_squared_error(y,pred))"
   ]
  },
  {
   "cell_type": "markdown",
   "id": "2cf9320e",
   "metadata": {
    "papermill": {
     "duration": 0.00758,
     "end_time": "2025-05-15T08:08:18.466615",
     "exception": false,
     "start_time": "2025-05-15T08:08:18.459035",
     "status": "completed"
    },
    "tags": []
   },
   "source": [
    "## evaluate_regr"
   ]
  },
  {
   "cell_type": "markdown",
   "id": "637caf59",
   "metadata": {
    "papermill": {
     "duration": 0.007532,
     "end_time": "2025-05-15T08:08:18.481795",
     "exception": false,
     "start_time": "2025-05-15T08:08:18.474263",
     "status": "completed"
    },
    "tags": []
   },
   "source": [
    "MSE, RMSE, RMSLE 를 각각 계산하여 print함수를 이용해 한 줄로 결과값 출력"
   ]
  },
  {
   "cell_type": "code",
   "execution_count": 13,
   "id": "972c34cb",
   "metadata": {
    "execution": {
     "iopub.execute_input": "2025-05-15T08:08:18.498064Z",
     "iopub.status.busy": "2025-05-15T08:08:18.497863Z",
     "iopub.status.idle": "2025-05-15T08:08:18.501329Z",
     "shell.execute_reply": "2025-05-15T08:08:18.500813Z"
    },
    "papermill": {
     "duration": 0.012791,
     "end_time": "2025-05-15T08:08:18.502378",
     "exception": false,
     "start_time": "2025-05-15T08:08:18.489587",
     "status": "completed"
    },
    "tags": []
   },
   "outputs": [],
   "source": [
    "def evaluate_regr(y,pred):\n",
    "    rmsle_val = rmsle(y,pred)\n",
    "    rmse_val = rmse(y,pred)\n",
    "    # MAE 는 scikit learn의 mean_absolute_error() 로 계산\n",
    "    mae_val = mean_absolute_error(y,pred)\n",
    "    print('RMSLE: {0:.3f}, RMSE: {1:.3F}, MAE: {2:.3F}'.format(rmsle_val, rmse_val, mae_val))"
   ]
  },
  {
   "cell_type": "markdown",
   "id": "3de24c90",
   "metadata": {
    "papermill": {
     "duration": 0.007478,
     "end_time": "2025-05-15T08:08:18.517660",
     "exception": false,
     "start_time": "2025-05-15T08:08:18.510182",
     "status": "completed"
    },
    "tags": []
   },
   "source": [
    "## get_top_error_data"
   ]
  },
  {
   "cell_type": "markdown",
   "id": "b8758faf",
   "metadata": {
    "papermill": {
     "duration": 0.007445,
     "end_time": "2025-05-15T08:08:18.532784",
     "exception": false,
     "start_time": "2025-05-15T08:08:18.525339",
     "status": "completed"
    },
    "tags": []
   },
   "source": [
    "예측값과 실제값을 입력받아서 그 중 차이가 가장 큰 것을 내림차순으로 출력"
   ]
  },
  {
   "cell_type": "code",
   "execution_count": 14,
   "id": "113235f7",
   "metadata": {
    "execution": {
     "iopub.execute_input": "2025-05-15T08:08:18.549066Z",
     "iopub.status.busy": "2025-05-15T08:08:18.548855Z",
     "iopub.status.idle": "2025-05-15T08:08:18.552722Z",
     "shell.execute_reply": "2025-05-15T08:08:18.552279Z"
    },
    "papermill": {
     "duration": 0.013264,
     "end_time": "2025-05-15T08:08:18.553699",
     "exception": false,
     "start_time": "2025-05-15T08:08:18.540435",
     "status": "completed"
    },
    "tags": []
   },
   "outputs": [],
   "source": [
    "def get_top_error_data(y_test, pred, n_tops = 5):\n",
    "    # DataFrame에 컬럼들로 실제 대여횟수(count)와 예측 값을 서로 비교 할 수 있도록 생성. \n",
    "    result_df = pd.DataFrame(y_test.values, columns=['real_count'])\n",
    "    result_df['predicted_count']= np.round(pred)\n",
    "    result_df['diff'] = np.abs(result_df['real_count'] - result_df['predicted_count'])\n",
    "    # 예측값과 실제값이 가장 큰 데이터 순으로 출력. \n",
    "    print(result_df.sort_values('diff', ascending=False)[:n_tops])"
   ]
  },
  {
   "cell_type": "markdown",
   "id": "a515d1bb",
   "metadata": {
    "papermill": {
     "duration": 0.007534,
     "end_time": "2025-05-15T08:08:18.569014",
     "exception": false,
     "start_time": "2025-05-15T08:08:18.561480",
     "status": "completed"
    },
    "tags": []
   },
   "source": [
    "# Modeling & Evaluation"
   ]
  },
  {
   "cell_type": "markdown",
   "id": "df4708f0",
   "metadata": {
    "papermill": {
     "duration": 0.007591,
     "end_time": "2025-05-15T08:08:18.584203",
     "exception": false,
     "start_time": "2025-05-15T08:08:18.576612",
     "status": "completed"
    },
    "tags": []
   },
   "source": [
    "## Linear Regression"
   ]
  },
  {
   "cell_type": "code",
   "execution_count": 15,
   "id": "a7ada944",
   "metadata": {
    "execution": {
     "iopub.execute_input": "2025-05-15T08:08:18.600569Z",
     "iopub.status.busy": "2025-05-15T08:08:18.600189Z",
     "iopub.status.idle": "2025-05-15T08:08:18.757329Z",
     "shell.execute_reply": "2025-05-15T08:08:18.755913Z"
    },
    "papermill": {
     "duration": 0.166851,
     "end_time": "2025-05-15T08:08:18.758749",
     "exception": false,
     "start_time": "2025-05-15T08:08:18.591898",
     "status": "completed"
    },
    "tags": []
   },
   "outputs": [
    {
     "name": "stdout",
     "output_type": "stream",
     "text": [
      "RMSLE: 1.165, RMSE: 140.817, MAE: 105.871\n"
     ]
    }
   ],
   "source": [
    "from sklearn.model_selection import train_test_split , GridSearchCV\n",
    "from sklearn.linear_model import LinearRegression , Ridge , Lasso\n",
    "\n",
    "y_target = bike_df['count']\n",
    "drop_col = ['count','day','temp'] # Target, Split Standard, temp ~= atepm but less descriptive\n",
    "X_features = bike_df.drop(drop_col,axis=1,inplace=False)\n",
    "\n",
    "X_train, X_test, y_train, y_test = train_test_split(X_features, y_target, test_size=0.3, random_state=0)\n",
    "\n",
    "lr_reg = LinearRegression()\n",
    "lr_reg.fit(X_train, y_train)\n",
    "pred = lr_reg.predict(X_test)\n",
    "\n",
    "evaluate_regr(y_test ,pred)"
   ]
  },
  {
   "cell_type": "code",
   "execution_count": 16,
   "id": "f6fc4c74",
   "metadata": {
    "execution": {
     "iopub.execute_input": "2025-05-15T08:08:18.778403Z",
     "iopub.status.busy": "2025-05-15T08:08:18.777857Z",
     "iopub.status.idle": "2025-05-15T08:08:18.786137Z",
     "shell.execute_reply": "2025-05-15T08:08:18.785323Z"
    },
    "papermill": {
     "duration": 0.018553,
     "end_time": "2025-05-15T08:08:18.787376",
     "exception": false,
     "start_time": "2025-05-15T08:08:18.768823",
     "status": "completed"
    },
    "tags": []
   },
   "outputs": [
    {
     "name": "stdout",
     "output_type": "stream",
     "text": [
      "      real_count  predicted_count   diff\n",
      "1618         890            319.0  571.0\n",
      "966          884            324.0  560.0\n",
      "3151         798            246.0  552.0\n",
      "412          745            195.0  550.0\n",
      "2314         766            222.0  544.0\n"
     ]
    }
   ],
   "source": [
    "get_top_error_data(y_test,pred,n_tops=5)"
   ]
  },
  {
   "cell_type": "code",
   "execution_count": 17,
   "id": "d7fece4a",
   "metadata": {
    "execution": {
     "iopub.execute_input": "2025-05-15T08:08:18.804422Z",
     "iopub.status.busy": "2025-05-15T08:08:18.804207Z",
     "iopub.status.idle": "2025-05-15T08:08:19.032520Z",
     "shell.execute_reply": "2025-05-15T08:08:19.031905Z"
    },
    "papermill": {
     "duration": 0.237967,
     "end_time": "2025-05-15T08:08:19.033557",
     "exception": false,
     "start_time": "2025-05-15T08:08:18.795590",
     "status": "completed"
    },
    "tags": []
   },
   "outputs": [
    {
     "data": {
      "text/plain": [
       "<Axes: >"
      ]
     },
     "execution_count": 17,
     "metadata": {},
     "output_type": "execute_result"
    },
    {
     "data": {
      "image/png": "[encoded data removed]",
      "text/plain": [
       "<Figure size 640x480 with 1 Axes>"
      ]
     },
     "metadata": {},
     "output_type": "display_data"
    }
   ],
   "source": [
    "y_target.hist(bins = 50)"
   ]
  },
  {
   "cell_type": "markdown",
   "id": "3d92ae4b",
   "metadata": {
    "papermill": {
     "duration": 0.008396,
     "end_time": "2025-05-15T08:08:19.050829",
     "exception": false,
     "start_time": "2025-05-15T08:08:19.042433",
     "status": "completed"
    },
    "tags": []
   },
   "source": [
    "## y_target: Log Scaling"
   ]
  },
  {
   "cell_type": "code",
   "execution_count": 18,
   "id": "68c89a31",
   "metadata": {
    "execution": {
     "iopub.execute_input": "2025-05-15T08:08:19.068752Z",
     "iopub.status.busy": "2025-05-15T08:08:19.068226Z",
     "iopub.status.idle": "2025-05-15T08:08:19.257553Z",
     "shell.execute_reply": "2025-05-15T08:08:19.256940Z"
    },
    "papermill": {
     "duration": 0.199631,
     "end_time": "2025-05-15T08:08:19.258715",
     "exception": false,
     "start_time": "2025-05-15T08:08:19.059084",
     "status": "completed"
    },
    "tags": []
   },
   "outputs": [
    {
     "data": {
      "text/plain": [
       "<Axes: >"
      ]
     },
     "execution_count": 18,
     "metadata": {},
     "output_type": "execute_result"
    },
    {
     "data": {
      "image/png": "[encoded data removed]",
      "text/plain": [
       "<Figure size 640x480 with 1 Axes>"
      ]
     },
     "metadata": {},
     "output_type": "display_data"
    }
   ],
   "source": [
    "y_log_transform = np.log1p(y_target)\n",
    "y_log_transform.hist(bins = 50)"
   ]
  },
  {
   "cell_type": "markdown",
   "id": "ac38b833",
   "metadata": {
    "papermill": {
     "duration": 0.008265,
     "end_time": "2025-05-15T08:08:19.276435",
     "exception": false,
     "start_time": "2025-05-15T08:08:19.268170",
     "status": "completed"
    },
    "tags": []
   },
   "source": [
    "Scaled Data Set Split & Linear Regression Modeling Evaluation"
   ]
  },
  {
   "cell_type": "markdown",
   "id": "faa4ded8",
   "metadata": {
    "papermill": {
     "duration": 0.008334,
     "end_time": "2025-05-15T08:08:19.293061",
     "exception": false,
     "start_time": "2025-05-15T08:08:19.284727",
     "status": "completed"
    },
    "tags": []
   },
   "source": [
    "## Reevaluation"
   ]
  },
  {
   "cell_type": "code",
   "execution_count": 19,
   "id": "11266e8a",
   "metadata": {
    "execution": {
     "iopub.execute_input": "2025-05-15T08:08:19.310459Z",
     "iopub.status.busy": "2025-05-15T08:08:19.310259Z",
     "iopub.status.idle": "2025-05-15T08:08:19.327134Z",
     "shell.execute_reply": "2025-05-15T08:08:19.326151Z"
    },
    "papermill": {
     "duration": 0.027165,
     "end_time": "2025-05-15T08:08:19.328515",
     "exception": false,
     "start_time": "2025-05-15T08:08:19.301350",
     "status": "completed"
    },
    "tags": []
   },
   "outputs": [
    {
     "name": "stdout",
     "output_type": "stream",
     "text": [
      "RMSLE: 1.016, RMSE: 162.671, MAE: 109.222\n"
     ]
    }
   ],
   "source": [
    "# 타깃 칼럼인 count 값을 log1p로 로그 변환\n",
    "y_target_log = np.log1p(y_target)\n",
    "\n",
    "# 로그 변환된 y_target_log를 반영하여 학습/테스트 데이터 셋 분할\n",
    "X_train, X_test, y_train, y_test = train_test_split(X_features, y_target_log, test_size=0.3, random_state=0)\n",
    "lr_reg = LinearRegression()\n",
    "lr_reg.fit(X_train, y_train)\n",
    "pred = lr_reg.predict(X_test)\n",
    "\n",
    "# 테스트 데이터 셋의 Target 값은 Log 변환되었으므로 다시 expm1를 이용하여 원래 scale로 변환\n",
    "y_test_exp = np.expm1(y_test)\n",
    "\n",
    "# 예측 값 역시 Log 변환된 타깃 기반으로 학습되어 예측되었으므로 다시 exmpl으로 scale변환\n",
    "pred_exp = np.expm1(pred)\n",
    "\n",
    "evaluate_regr(y_test_exp ,pred_exp)"
   ]
  },
  {
   "cell_type": "markdown",
   "id": "f92b45f4",
   "metadata": {
    "papermill": {
     "duration": 0.009098,
     "end_time": "2025-05-15T08:08:19.348920",
     "exception": false,
     "start_time": "2025-05-15T08:08:19.339822",
     "status": "completed"
    },
    "tags": []
   },
   "source": [
    "* Result: Even worse than before scaling"
   ]
  },
  {
   "cell_type": "code",
   "execution_count": 20,
   "id": "741d4e62",
   "metadata": {
    "execution": {
     "iopub.execute_input": "2025-05-15T08:08:19.367501Z",
     "iopub.status.busy": "2025-05-15T08:08:19.366930Z",
     "iopub.status.idle": "2025-05-15T08:08:19.733293Z",
     "shell.execute_reply": "2025-05-15T08:08:19.732515Z"
    },
    "papermill": {
     "duration": 0.376985,
     "end_time": "2025-05-15T08:08:19.734537",
     "exception": false,
     "start_time": "2025-05-15T08:08:19.357552",
     "status": "completed"
    },
    "tags": []
   },
   "outputs": [
    {
     "data": {
      "image/png": "[encoded data removed]",
      "text/plain": [
       "<Figure size 640x480 with 1 Axes>"
      ]
     },
     "metadata": {},
     "output_type": "display_data"
    }
   ],
   "source": [
    "coef = pd.Series(lr_reg.coef_, index=X_features.columns)\n",
    "coef_sort = coef.sort_values(ascending=False)\n",
    "sns.barplot(x=coef_sort.values, y=coef_sort.index)\n",
    "plt.savefig('log_transform.png', format='png', dpi=300, bbox_inches='tight')"
   ]
  },
  {
   "cell_type": "markdown",
   "id": "b38bb0e2",
   "metadata": {
    "papermill": {
     "duration": 0.008676,
     "end_time": "2025-05-15T08:08:19.752452",
     "exception": false,
     "start_time": "2025-05-15T08:08:19.743776",
     "status": "completed"
    },
    "tags": []
   },
   "source": [
    "### Coefficiant index Ananlysis\n",
    "* Important Columns: Year\n",
    "* Unrelevant Columns: windspeed"
   ]
  },
  {
   "cell_type": "markdown",
   "id": "976405bc",
   "metadata": {
    "papermill": {
     "duration": 0.00844,
     "end_time": "2025-05-15T08:08:19.769547",
     "exception": false,
     "start_time": "2025-05-15T08:08:19.761107",
     "status": "completed"
    },
    "tags": []
   },
   "source": [
    "## X_category_features Ont-hot Encoding"
   ]
  },
  {
   "cell_type": "code",
   "execution_count": 21,
   "id": "3166cf79",
   "metadata": {
    "execution": {
     "iopub.execute_input": "2025-05-15T08:08:19.795392Z",
     "iopub.status.busy": "2025-05-15T08:08:19.795105Z",
     "iopub.status.idle": "2025-05-15T08:08:19.810419Z",
     "shell.execute_reply": "2025-05-15T08:08:19.809275Z"
    },
    "papermill": {
     "duration": 0.030724,
     "end_time": "2025-05-15T08:08:19.812236",
     "exception": false,
     "start_time": "2025-05-15T08:08:19.781512",
     "status": "completed"
    },
    "tags": []
   },
   "outputs": [],
   "source": [
    "# 'year', month', 'day', hour'등의 피처들을 One Hot Encoding\n",
    "X_features_ohe = pd.get_dummies(X_features, \n",
    "                                columns = ['year', 'month', 'dow','holiday','workingday','season','weather'], #hour 노미미\n",
    "                                drop_first=True\n",
    "                               )"
   ]
  },
  {
   "cell_type": "markdown",
   "id": "da39e021",
   "metadata": {
    "papermill": {
     "duration": 0.010202,
     "end_time": "2025-05-15T08:08:19.835720",
     "exception": false,
     "start_time": "2025-05-15T08:08:19.825518",
     "status": "completed"
    },
    "tags": []
   },
   "source": [
    "### Re-Evaluation"
   ]
  },
  {
   "cell_type": "code",
   "execution_count": 22,
   "id": "4a636ca8",
   "metadata": {
    "execution": {
     "iopub.execute_input": "2025-05-15T08:08:19.860631Z",
     "iopub.status.busy": "2025-05-15T08:08:19.860376Z",
     "iopub.status.idle": "2025-05-15T08:08:19.935285Z",
     "shell.execute_reply": "2025-05-15T08:08:19.931884Z"
    },
    "papermill": {
     "duration": 0.086488,
     "end_time": "2025-05-15T08:08:19.936717",
     "exception": false,
     "start_time": "2025-05-15T08:08:19.850229",
     "status": "completed"
    },
    "tags": []
   },
   "outputs": [
    {
     "name": "stdout",
     "output_type": "stream",
     "text": [
      "### LinearRegression ###\n",
      "RMSLE: 1.002, RMSE: 159.278, MAE: 106.616\n",
      "### Ridge ###\n",
      "RMSLE: 1.002, RMSE: 159.293, MAE: 106.627\n",
      "### Lasso ###\n",
      "RMSLE: 1.008, RMSE: 160.719, MAE: 107.664\n"
     ]
    }
   ],
   "source": [
    "# 원-핫 인코딩이 적용된 feature 데이터 세트 기반으로 학습/예측 데이터 분할. \n",
    "X_train, X_test, y_train, y_test = train_test_split(X_features_ohe, y_target_log,\n",
    "                                                    test_size=0.3, random_state=0)\n",
    "\n",
    "# 모델과 학습/테스트 데이터 셋을 입력하면 성능 평가 수치를 반환\n",
    "def get_model_predict(model, X_train, X_test, y_train, y_test, is_expm1=False):\n",
    "    model.fit(X_train, y_train)\n",
    "    pred = model.predict(X_test)\n",
    "    if is_expm1 :\n",
    "        y_test = np.expm1(y_test)\n",
    "        pred = np.expm1(pred)\n",
    "    print('###',model.__class__.__name__,'###')\n",
    "    evaluate_regr(y_test, pred)\n",
    "# end of function get_model_predict    \n",
    "\n",
    "# model 별로 평가 수행\n",
    "lr_reg = LinearRegression()\n",
    "ridge_reg = Ridge(alpha=10)\n",
    "lasso_reg = Lasso(alpha=0.01)\n",
    "\n",
    "for model in [lr_reg, ridge_reg, lasso_reg]:\n",
    "    get_model_predict(model,X_train, X_test, y_train, y_test,is_expm1=True)"
   ]
  },
  {
   "cell_type": "code",
   "execution_count": 23,
   "id": "6095c121",
   "metadata": {
    "execution": {
     "iopub.execute_input": "2025-05-15T08:08:19.978635Z",
     "iopub.status.busy": "2025-05-15T08:08:19.978056Z",
     "iopub.status.idle": "2025-05-15T08:08:20.606046Z",
     "shell.execute_reply": "2025-05-15T08:08:20.605303Z"
    },
    "papermill": {
     "duration": 0.64568,
     "end_time": "2025-05-15T08:08:20.607476",
     "exception": false,
     "start_time": "2025-05-15T08:08:19.961796",
     "status": "completed"
    },
    "tags": []
   },
   "outputs": [
    {
     "data": {
      "image/png": "[encoded data removed]",
      "text/plain": [
       "<Figure size 640x480 with 1 Axes>"
      ]
     },
     "metadata": {},
     "output_type": "display_data"
    }
   ],
   "source": [
    "coef = pd.Series(lr_reg.coef_ , index=X_features_ohe.columns)\n",
    "coef_sort = coef.sort_values(ascending=False)\n",
    "sns.barplot(x=coef_sort.values , y=coef_sort.index)\n",
    "plt.savefig('one-hotencoded.png', format='png', dpi=300, bbox_inches='tight')"
   ]
  },
  {
   "cell_type": "code",
   "execution_count": null,
   "id": "d43c82d8",
   "metadata": {
    "papermill": {
     "duration": 0.009994,
     "end_time": "2025-05-15T08:08:20.628732",
     "exception": false,
     "start_time": "2025-05-15T08:08:20.618738",
     "status": "completed"
    },
    "tags": []
   },
   "outputs": [],
   "source": []
  },
  {
   "cell_type": "code",
   "execution_count": 24,
   "id": "a01414de",
   "metadata": {
    "execution": {
     "iopub.execute_input": "2025-05-15T08:08:20.649043Z",
     "iopub.status.busy": "2025-05-15T08:08:20.648649Z",
     "iopub.status.idle": "2025-05-15T08:08:22.077459Z",
     "shell.execute_reply": "2025-05-15T08:08:22.076710Z"
    },
    "papermill": {
     "duration": 1.440455,
     "end_time": "2025-05-15T08:08:22.078983",
     "exception": false,
     "start_time": "2025-05-15T08:08:20.638528",
     "status": "completed"
    },
    "tags": []
   },
   "outputs": [
    {
     "data": {
      "image/png": "[encoded data removed]",
      "text/plain": [
       "<Figure size 1200x1000 with 2 Axes>"
      ]
     },
     "metadata": {},
     "output_type": "display_data"
    }
   ],
   "source": [
    "corr_matrix = X_features_ohe.corr()\n",
    "\n",
    "# 2. 히트맵 시각화\n",
    "plt.figure(figsize=(12, 10))  # 크기 조정\n",
    "sns.heatmap(corr_matrix, cmap='coolwarm', square=True,\n",
    "            cbar_kws={\"shrink\": 0.8}, linewidths=0.5)\n",
    "\n",
    "plt.title('Feature Correlation Heatmap')\n",
    "plt.tight_layout()\n",
    "plt.savefig('correlation_heatmap.png', dpi=300)\n",
    "plt.show()"
   ]
  },
  {
   "cell_type": "code",
   "execution_count": 25,
   "id": "ec4d0d6c",
   "metadata": {
    "execution": {
     "iopub.execute_input": "2025-05-15T08:08:22.102398Z",
     "iopub.status.busy": "2025-05-15T08:08:22.102136Z",
     "iopub.status.idle": "2025-05-15T08:08:22.106894Z",
     "shell.execute_reply": "2025-05-15T08:08:22.106195Z"
    },
    "papermill": {
     "duration": 0.017413,
     "end_time": "2025-05-15T08:08:22.108043",
     "exception": false,
     "start_time": "2025-05-15T08:08:22.090630",
     "status": "completed"
    },
    "tags": []
   },
   "outputs": [
    {
     "data": {
      "text/plain": [
       "False"
      ]
     },
     "execution_count": 25,
     "metadata": {},
     "output_type": "execute_result"
    }
   ],
   "source": [
    "X_features_ohe.columns.duplicated().any()"
   ]
  },
  {
   "cell_type": "code",
   "execution_count": 26,
   "id": "78e7e71a",
   "metadata": {
    "execution": {
     "iopub.execute_input": "2025-05-15T08:08:22.130629Z",
     "iopub.status.busy": "2025-05-15T08:08:22.130431Z",
     "iopub.status.idle": "2025-05-15T08:08:22.137554Z",
     "shell.execute_reply": "2025-05-15T08:08:22.136921Z"
    },
    "papermill": {
     "duration": 0.019573,
     "end_time": "2025-05-15T08:08:22.138674",
     "exception": false,
     "start_time": "2025-05-15T08:08:22.119101",
     "status": "completed"
    },
    "tags": []
   },
   "outputs": [
    {
     "data": {
      "text/plain": [
       " 0.055124    1\n",
       "-0.014158    1\n",
       " 0.005258    1\n",
       " 0.096617    1\n",
       " 0.399847    1\n",
       " 0.041242    1\n",
       " 0.035331    1\n",
       "-0.023743    1\n",
       " 0.190767    1\n",
       "-0.040190    1\n",
       "-0.137934    1\n",
       "-0.033835    1\n",
       " 0.222174    1\n",
       " 0.079767    1\n",
       " 0.136358    1\n",
       " 0.226369    1\n",
       "-0.008172    1\n",
       " 0.017837    1\n",
       " 0.038633    1\n",
       " 0.158115    1\n",
       " 0.091904    1\n",
       " 0.004981    1\n",
       "-0.037091    1\n",
       "-0.059795    1\n",
       " 0.126834    1\n",
       " 0.050405    1\n",
       " 0.442494    1\n",
       " 0.124810    1\n",
       "-0.253418    1\n",
       " 1.036190    1\n",
       "Name: count, dtype: int64"
      ]
     },
     "execution_count": 26,
     "metadata": {},
     "output_type": "execute_result"
    }
   ],
   "source": [
    "coef.value_counts()"
   ]
  },
  {
   "cell_type": "markdown",
   "id": "420e1896",
   "metadata": {
    "papermill": {
     "duration": 0.011001,
     "end_time": "2025-05-15T08:08:22.161282",
     "exception": false,
     "start_time": "2025-05-15T08:08:22.150281",
     "status": "completed"
    },
    "tags": []
   },
   "source": [
    "## Regression Tree"
   ]
  },
  {
   "cell_type": "code",
   "execution_count": 27,
   "id": "f17f090f",
   "metadata": {
    "execution": {
     "iopub.execute_input": "2025-05-15T08:08:22.183620Z",
     "iopub.status.busy": "2025-05-15T08:08:22.183424Z",
     "iopub.status.idle": "2025-05-15T08:08:46.691420Z",
     "shell.execute_reply": "2025-05-15T08:08:46.690608Z"
    },
    "papermill": {
     "duration": 24.520652,
     "end_time": "2025-05-15T08:08:46.692740",
     "exception": false,
     "start_time": "2025-05-15T08:08:22.172088",
     "status": "completed"
    },
    "tags": []
   },
   "outputs": [
    {
     "name": "stdout",
     "output_type": "stream",
     "text": [
      "### RandomForestRegressor ###\n",
      "RMSLE: 0.319, RMSE: 45.273, MAE: 27.379\n",
      "### GradientBoostingRegressor ###\n",
      "RMSLE: 0.290, RMSE: 40.891, MAE: 24.735\n",
      "### XGBRegressor ###\n",
      "RMSLE: 0.304, RMSE: 43.836, MAE: 25.765\n",
      "### LGBMRegressor ###\n",
      "RMSLE: 0.287, RMSE: 41.932, MAE: 25.438\n"
     ]
    }
   ],
   "source": [
    "from sklearn.ensemble import RandomForestRegressor, GradientBoostingRegressor\n",
    "from xgboost import XGBRegressor\n",
    "from lightgbm import LGBMRegressor\n",
    "\n",
    "params = {'n_estimators': 500, \n",
    "          'max_depth': 5, \n",
    "          'random_state': 0, \n",
    "          'min_samples_leaf' : 10, \n",
    "          'learning_rate': 0.1, \n",
    "          'subsample': 0.7, \n",
    "          'loss': 'squared_error'\n",
    "         } #Ranker's Hyperparameter\n",
    "Best_Parameters = {'subsample': 0.9, 'verbose' : -1, 'reg_lambda': 0.0, 'reg_alpha': 0.0, 'num_leaves': 20, 'n_estimators': 500, 'max_depth': 6, 'learning_rate': 0.07, 'colsample_bytree': 0.8}\n",
    "# 랜덤 포레스트, GBM, XGBoost, LightGBM model 별로 평가 수행\n",
    "rf_reg = RandomForestRegressor(n_estimators=500)\n",
    "gbm_reg = GradientBoostingRegressor(**params)\n",
    "xgb_reg = XGBRegressor(n_estimators=500)\n",
    "lgbm_reg = LGBMRegressor(**Best_Parameters)\n",
    "\n",
    "for model in [rf_reg, gbm_reg, xgb_reg, lgbm_reg]:\n",
    "    # XGBoost의 경우 DataFrame이 입력 될 경우 버전에 따라 오류 발생 가능. ndarray로 변환.\n",
    "    get_model_predict(model,X_train.values, X_test.values, y_train.values, y_test.values,is_expm1=True)"
   ]
  },
  {
   "cell_type": "markdown",
   "id": "8564100c",
   "metadata": {
    "papermill": {
     "duration": 0.011692,
     "end_time": "2025-05-15T08:08:46.717315",
     "exception": false,
     "start_time": "2025-05-15T08:08:46.705623",
     "status": "completed"
    },
    "tags": []
   },
   "source": [
    "* Result: A lot better than Liear Regression, and my"
   ]
  },
  {
   "cell_type": "markdown",
   "id": "7f36abf3",
   "metadata": {
    "papermill": {
     "duration": 0.011376,
     "end_time": "2025-05-15T08:08:46.740002",
     "exception": false,
     "start_time": "2025-05-15T08:08:46.728626",
     "status": "completed"
    },
    "tags": []
   },
   "source": [
    "### Hyperparameter Tunning"
   ]
  },
  {
   "cell_type": "code",
   "execution_count": 28,
   "id": "1a27783a",
   "metadata": {
    "execution": {
     "iopub.execute_input": "2025-05-15T08:08:46.764863Z",
     "iopub.status.busy": "2025-05-15T08:08:46.764431Z",
     "iopub.status.idle": "2025-05-15T08:10:41.984996Z",
     "shell.execute_reply": "2025-05-15T08:10:41.984189Z"
    },
    "papermill": {
     "duration": 115.234373,
     "end_time": "2025-05-15T08:10:41.986381",
     "exception": false,
     "start_time": "2025-05-15T08:08:46.752008",
     "status": "completed"
    },
    "tags": []
   },
   "outputs": [
    {
     "name": "stdout",
     "output_type": "stream",
     "text": [
      "Fitting 3 folds for each of 50 candidates, totalling 150 fits\n",
      "Best Parameters: {'subsample': 0.9, 'reg_lambda': 0.0, 'reg_alpha': 0.0, 'num_leaves': 20, 'n_estimators': 500, 'max_depth': 6, 'learning_rate': 0.07, 'colsample_bytree': 0.8}\n",
      "### LGBMRegressor ###\n",
      "RMSLE: 0.287, RMSE: 41.932, MAE: 25.438\n"
     ]
    }
   ],
   "source": [
    "from sklearn.metrics import mean_squared_log_error, make_scorer\n",
    "from sklearn.model_selection import RandomizedSearchCV\n",
    "from lightgbm import early_stopping\n",
    "\n",
    "# 각 모델에 대한 파라미터 그리드\n",
    "param_grids = {\n",
    "        'num_leaves': [20, 35, 50],\n",
    "        'learning_rate': [0.03, 0.05, 0.07],\n",
    "        'max_depth': [4, 6, 8],\n",
    "        'reg_alpha': [0.0, 0.1, 0.5],\n",
    "        'reg_lambda': [0.0, 0.1, 0.5],\n",
    "        'subsample': [0.7, 0.8, 0.9],\n",
    "        'colsample_bytree': [0.6, 0.8, 1.0],\n",
    "        'n_estimators': [500, 800, 1000]\n",
    "    }\n",
    "\n",
    "model = LGBMRegressor(verbose = -1)\n",
    "rmsle_scorer = make_scorer(rmsle, greater_is_better=False)\n",
    "\n",
    "search = RandomizedSearchCV(\n",
    "        estimator=model,\n",
    "        param_distributions=param_grids,\n",
    "        n_iter=50, #기존10\n",
    "        scoring=rmsle_scorer,\n",
    "        cv=3,\n",
    "        verbose=1,\n",
    "        random_state=42,\n",
    "        n_jobs=-1\n",
    "    )\n",
    "search.fit(X_train, y_train)\n",
    "best_model = search.best_estimator_\n",
    "\n",
    "print(\"Best Parameters:\", search.best_params_)\n",
    "get_model_predict(best_model, X_train.values, X_test.values, y_train.values, y_test.values, is_expm1=True)"
   ]
  },
  {
   "cell_type": "markdown",
   "id": "5d7781e6",
   "metadata": {
    "papermill": {
     "duration": 0.011593,
     "end_time": "2025-05-15T08:10:42.011051",
     "exception": false,
     "start_time": "2025-05-15T08:10:41.999458",
     "status": "completed"
    },
    "tags": []
   },
   "source": [
    "# Submission"
   ]
  },
  {
   "cell_type": "markdown",
   "id": "465373e2",
   "metadata": {
    "papermill": {
     "duration": 0.011526,
     "end_time": "2025-05-15T08:10:42.034193",
     "exception": false,
     "start_time": "2025-05-15T08:10:42.022667",
     "status": "completed"
    },
    "tags": []
   },
   "source": [
    "## Test Data Preprocess"
   ]
  },
  {
   "cell_type": "code",
   "execution_count": 29,
   "id": "45f56a9a",
   "metadata": {
    "execution": {
     "iopub.execute_input": "2025-05-15T08:10:42.058527Z",
     "iopub.status.busy": "2025-05-15T08:10:42.058303Z",
     "iopub.status.idle": "2025-05-15T08:10:44.337015Z",
     "shell.execute_reply": "2025-05-15T08:10:44.336417Z"
    },
    "papermill": {
     "duration": 2.292726,
     "end_time": "2025-05-15T08:10:44.338454",
     "exception": false,
     "start_time": "2025-05-15T08:10:42.045728",
     "status": "completed"
    },
    "tags": []
   },
   "outputs": [],
   "source": [
    "test = bike_test\n",
    "\n",
    "# train과 같은 전처리를 진행해보자\n",
    "test['datetime'] = test.datetime.apply(pd.to_datetime)\n",
    "\n",
    "# datetime 타입에서 년, 월, 일, 시간 추출\n",
    "test['year'] = test.datetime.apply(lambda x : x.year)\n",
    "test['month'] = test.datetime.apply(lambda x : x.month)\n",
    "test['day'] = test.datetime.apply(lambda x : x.day)\n",
    "test['hour'] = test.datetime.apply(lambda x: x.hour)\n",
    "test['dow'] = test.datetime.apply(lambda x: x.dayofweek)\n",
    "test.head(3)\n",
    "\n",
    "# 이미 테스트 데이터셋에는 casual, registered 가 빠져있음\n",
    "drop_columns = ['datetime','day','temp']\n",
    "test.drop(drop_columns, axis=1,inplace=True)\n",
    "\n",
    "# 'year', month', 'day', hour'등의 피처들을 One Hot Encoding\n",
    "test_ohe = pd.get_dummies(test, \n",
    "                          columns=['year', 'month', 'dow','holiday','workingday','season','weather'],\n",
    "                          drop_first=True\n",
    "                         )"
   ]
  },
  {
   "cell_type": "markdown",
   "id": "db437516",
   "metadata": {
    "papermill": {
     "duration": 0.010992,
     "end_time": "2025-05-15T08:10:44.361434",
     "exception": false,
     "start_time": "2025-05-15T08:10:44.350442",
     "status": "completed"
    },
    "tags": []
   },
   "source": [
    "* test.day.nunique() != train.day.nunique()"
   ]
  },
  {
   "cell_type": "markdown",
   "id": "3114aec1",
   "metadata": {
    "papermill": {
     "duration": 0.01089,
     "end_time": "2025-05-15T08:10:44.383570",
     "exception": false,
     "start_time": "2025-05-15T08:10:44.372680",
     "status": "completed"
    },
    "tags": []
   },
   "source": [
    "## Prediction by the final model"
   ]
  },
  {
   "cell_type": "code",
   "execution_count": 30,
   "id": "7541b747",
   "metadata": {
    "execution": {
     "iopub.execute_input": "2025-05-15T08:10:44.407440Z",
     "iopub.status.busy": "2025-05-15T08:10:44.406841Z",
     "iopub.status.idle": "2025-05-15T08:10:44.532735Z",
     "shell.execute_reply": "2025-05-15T08:10:44.532132Z"
    },
    "papermill": {
     "duration": 0.139305,
     "end_time": "2025-05-15T08:10:44.534199",
     "exception": false,
     "start_time": "2025-05-15T08:10:44.394894",
     "status": "completed"
    },
    "tags": []
   },
   "outputs": [],
   "source": [
    "## sample_data를 받아오기\n",
    "sample = pd.read_csv('/kaggle/input/bike-sharing-demand/sampleSubmission.csv')\n",
    "\n",
    "# 테스트 데이터셋을 예측\n",
    "pred = best_model.predict(test_ohe)\n",
    "# 학습시 로그변환한 target을 썻으니 결과값을 다시 복원해야합니다\n",
    "pred_exp = np.expm1(pred)\n",
    "\n",
    "# sample 파일에 예측 값을 넣어주고\n",
    "sample[\"count\"] = pred_exp\n",
    "\n",
    "# csv로 저장하기\n",
    "sample.to_csv(\"/kaggle/working/submission.csv\", index=False)"
   ]
  }
 ],
 "metadata": {
  "kaggle": {
   "accelerator": "gpu",
   "dataSources": [
    {
     "databundleVersionId": 32624,
     "sourceId": 3948,
     "sourceType": "competition"
    }
   ],
   "dockerImageVersionId": 31040,
   "isGpuEnabled": true,
   "isInternetEnabled": true,
   "language": "python",
   "sourceType": "notebook"
  },
  "kernelspec": {
   "display_name": "Python 3",
   "language": "python",
   "name": "python3"
  },
  "language_info": {
   "codemirror_mode": {
    "name": "ipython",
    "version": 3
   },
   "file_extension": ".py",
   "mimetype": "text/x-python",
   "name": "python",
   "nbconvert_exporter": "python",
   "pygments_lexer": "ipython3",
   "version": "3.11.11"
  },
  "papermill": {
   "default_parameters": {},
   "duration": 163.488135,
   "end_time": "2025-05-15T08:10:47.164687",
   "environment_variables": {},
   "exception": null,
   "input_path": "__notebook__.ipynb",
   "output_path": "__notebook__.ipynb",
   "parameters": {},
   "start_time": "2025-05-15T08:08:03.676552",
   "version": "2.6.0"
  }
 },
 "nbformat": 4,
 "nbformat_minor": 5
}
