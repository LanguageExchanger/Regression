{
 "cells": [
  {
   "cell_type": "markdown",
   "id": "02c19cc9",
   "metadata": {
    "papermill": {
     "duration": 0.007361,
     "end_time": "2025-05-15T06:03:34.571357",
     "exception": false,
     "start_time": "2025-05-15T06:03:34.563996",
     "status": "completed"
    },
    "tags": []
   },
   "source": [
    "# Data Loading"
   ]
  },
  {
   "cell_type": "code",
   "execution_count": 1,
   "id": "8fbb5632",
   "metadata": {
    "_cell_guid": "b1076dfc-b9ad-4769-8c92-a6c4dae69d19",
    "_uuid": "8f2839f25d086af736a60e9eeb907d3b93b6e0e5",
    "execution": {
     "iopub.execute_input": "2025-05-15T06:03:34.585528Z",
     "iopub.status.busy": "2025-05-15T06:03:34.585262Z",
     "iopub.status.idle": "2025-05-15T06:03:36.105559Z",
     "shell.execute_reply": "2025-05-15T06:03:36.104619Z"
    },
    "papermill": {
     "duration": 1.528668,
     "end_time": "2025-05-15T06:03:36.106795",
     "exception": false,
     "start_time": "2025-05-15T06:03:34.578127",
     "status": "completed"
    },
    "tags": []
   },
   "outputs": [
    {
     "name": "stdout",
     "output_type": "stream",
     "text": [
      "/kaggle/input/bike-sharing-demand/sampleSubmission.csv\n",
      "/kaggle/input/bike-sharing-demand/train.csv\n",
      "/kaggle/input/bike-sharing-demand/test.csv\n"
     ]
    }
   ],
   "source": [
    "# This Python 3 environment comes with many helpful analytics libraries installed\n",
    "# It is defined by the kaggle/python Docker image: https://github.com/kaggle/docker-python\n",
    "# For example, here's several helpful packages to load\n",
    "\n",
    "import numpy as np # linear algebra\n",
    "import pandas as pd # data processing, CSV file I/O (e.g. pd.read_csv)\n",
    "\n",
    "# Input data files are available in the read-only \"../input/\" directory\n",
    "# For example, running this (by clicking run or pressing Shift+Enter) will list all files under the input directory\n",
    "\n",
    "import os\n",
    "for dirname, _, filenames in os.walk('/kaggle/input'):\n",
    "    for filename in filenames:\n",
    "        print(os.path.join(dirname, filename))\n",
    "\n",
    "# You can write up to 20GB to the current directory (/kaggle/working/) that gets preserved as output when you create a version using \"Save & Run All\" \n",
    "# You can also write temporary files to /kaggle/temp/, but they won't be saved outside of the current session"
   ]
  },
  {
   "cell_type": "code",
   "execution_count": 2,
   "id": "5ba1ddc3",
   "metadata": {
    "execution": {
     "iopub.execute_input": "2025-05-15T06:03:36.122421Z",
     "iopub.status.busy": "2025-05-15T06:03:36.121493Z",
     "iopub.status.idle": "2025-05-15T06:03:37.682893Z",
     "shell.execute_reply": "2025-05-15T06:03:37.682123Z"
    },
    "papermill": {
     "duration": 1.570524,
     "end_time": "2025-05-15T06:03:37.684153",
     "exception": false,
     "start_time": "2025-05-15T06:03:36.113629",
     "status": "completed"
    },
    "tags": []
   },
   "outputs": [
    {
     "name": "stdout",
     "output_type": "stream",
     "text": [
      "(10886, 12)\n"
     ]
    },
    {
     "data": {
      "text/html": [
       "<div>\n",
       "<style scoped>\n",
       "    .dataframe tbody tr th:only-of-type {\n",
       "        vertical-align: middle;\n",
       "    }\n",
       "\n",
       "    .dataframe tbody tr th {\n",
       "        vertical-align: top;\n",
       "    }\n",
       "\n",
       "    .dataframe thead th {\n",
       "        text-align: right;\n",
       "    }\n",
       "</style>\n",
       "<table border=\"1\" class=\"dataframe\">\n",
       "  <thead>\n",
       "    <tr style=\"text-align: right;\">\n",
       "      <th></th>\n",
       "      <th>datetime</th>\n",
       "      <th>season</th>\n",
       "      <th>holiday</th>\n",
       "      <th>workingday</th>\n",
       "      <th>weather</th>\n",
       "      <th>temp</th>\n",
       "      <th>atemp</th>\n",
       "      <th>humidity</th>\n",
       "      <th>windspeed</th>\n",
       "      <th>casual</th>\n",
       "      <th>registered</th>\n",
       "      <th>count</th>\n",
       "    </tr>\n",
       "  </thead>\n",
       "  <tbody>\n",
       "    <tr>\n",
       "      <th>0</th>\n",
       "      <td>2011-01-01 00:00:00</td>\n",
       "      <td>1</td>\n",
       "      <td>0</td>\n",
       "      <td>0</td>\n",
       "      <td>1</td>\n",
       "      <td>9.84</td>\n",
       "      <td>14.395</td>\n",
       "      <td>81</td>\n",
       "      <td>0.0</td>\n",
       "      <td>3</td>\n",
       "      <td>13</td>\n",
       "      <td>16</td>\n",
       "    </tr>\n",
       "    <tr>\n",
       "      <th>1</th>\n",
       "      <td>2011-01-01 01:00:00</td>\n",
       "      <td>1</td>\n",
       "      <td>0</td>\n",
       "      <td>0</td>\n",
       "      <td>1</td>\n",
       "      <td>9.02</td>\n",
       "      <td>13.635</td>\n",
       "      <td>80</td>\n",
       "      <td>0.0</td>\n",
       "      <td>8</td>\n",
       "      <td>32</td>\n",
       "      <td>40</td>\n",
       "    </tr>\n",
       "    <tr>\n",
       "      <th>2</th>\n",
       "      <td>2011-01-01 02:00:00</td>\n",
       "      <td>1</td>\n",
       "      <td>0</td>\n",
       "      <td>0</td>\n",
       "      <td>1</td>\n",
       "      <td>9.02</td>\n",
       "      <td>13.635</td>\n",
       "      <td>80</td>\n",
       "      <td>0.0</td>\n",
       "      <td>5</td>\n",
       "      <td>27</td>\n",
       "      <td>32</td>\n",
       "    </tr>\n",
       "  </tbody>\n",
       "</table>\n",
       "</div>"
      ],
      "text/plain": [
       "              datetime  season  holiday  workingday  weather  temp   atemp  \\\n",
       "0  2011-01-01 00:00:00       1        0           0        1  9.84  14.395   \n",
       "1  2011-01-01 01:00:00       1        0           0        1  9.02  13.635   \n",
       "2  2011-01-01 02:00:00       1        0           0        1  9.02  13.635   \n",
       "\n",
       "   humidity  windspeed  casual  registered  count  \n",
       "0        81        0.0       3          13     16  \n",
       "1        80        0.0       8          32     40  \n",
       "2        80        0.0       5          27     32  "
      ]
     },
     "execution_count": 2,
     "metadata": {},
     "output_type": "execute_result"
    }
   ],
   "source": [
    "import numpy as np\n",
    "import pandas as pd\n",
    "import seaborn as sns\n",
    "import matplotlib.pyplot as plt\n",
    "%matplotlib inline\n",
    "\n",
    "import warnings\n",
    "warnings.filterwarnings(\"ignore\")\n",
    "\n",
    "file_path = '/kaggle/input/bike-sharing-demand/train.csv'\n",
    "bike_df = pd.read_csv(file_path)\n",
    "print(bike_df.shape)\n",
    "bike_df.head(3)"
   ]
  },
  {
   "cell_type": "code",
   "execution_count": 3,
   "id": "a290c0a6",
   "metadata": {
    "execution": {
     "iopub.execute_input": "2025-05-15T06:03:37.698222Z",
     "iopub.status.busy": "2025-05-15T06:03:37.698004Z",
     "iopub.status.idle": "2025-05-15T06:03:37.717351Z",
     "shell.execute_reply": "2025-05-15T06:03:37.716603Z"
    },
    "papermill": {
     "duration": 0.027634,
     "end_time": "2025-05-15T06:03:37.718611",
     "exception": false,
     "start_time": "2025-05-15T06:03:37.690977",
     "status": "completed"
    },
    "tags": []
   },
   "outputs": [],
   "source": [
    "bike_test = pd.read_csv('/kaggle/input/bike-sharing-demand/test.csv')"
   ]
  },
  {
   "cell_type": "code",
   "execution_count": 4,
   "id": "22c39945",
   "metadata": {
    "execution": {
     "iopub.execute_input": "2025-05-15T06:03:37.733174Z",
     "iopub.status.busy": "2025-05-15T06:03:37.732948Z",
     "iopub.status.idle": "2025-05-15T06:03:37.737130Z",
     "shell.execute_reply": "2025-05-15T06:03:37.736487Z"
    },
    "papermill": {
     "duration": 0.012331,
     "end_time": "2025-05-15T06:03:37.738211",
     "exception": false,
     "start_time": "2025-05-15T06:03:37.725880",
     "status": "completed"
    },
    "tags": []
   },
   "outputs": [
    {
     "name": "stdout",
     "output_type": "stream",
     "text": [
      "casual\n",
      "registered\n",
      "count\n"
     ]
    }
   ],
   "source": [
    "for column in bike_df.columns:\n",
    "    if column not in bike_test.columns:\n",
    "        print(column)"
   ]
  },
  {
   "cell_type": "code",
   "execution_count": 5,
   "id": "ef46aee7",
   "metadata": {
    "execution": {
     "iopub.execute_input": "2025-05-15T06:03:37.752649Z",
     "iopub.status.busy": "2025-05-15T06:03:37.751977Z",
     "iopub.status.idle": "2025-05-15T06:03:37.757598Z",
     "shell.execute_reply": "2025-05-15T06:03:37.756899Z"
    },
    "papermill": {
     "duration": 0.013782,
     "end_time": "2025-05-15T06:03:37.758688",
     "exception": false,
     "start_time": "2025-05-15T06:03:37.744906",
     "status": "completed"
    },
    "tags": []
   },
   "outputs": [
    {
     "data": {
      "text/plain": [
       "Index(['datetime', 'season', 'holiday', 'workingday', 'weather', 'temp',\n",
       "       'atemp', 'humidity', 'windspeed', 'casual', 'registered', 'count'],\n",
       "      dtype='object')"
      ]
     },
     "execution_count": 5,
     "metadata": {},
     "output_type": "execute_result"
    }
   ],
   "source": [
    "bike_df.columns"
   ]
  },
  {
   "cell_type": "markdown",
   "id": "08ef1334",
   "metadata": {
    "papermill": {
     "duration": 0.007439,
     "end_time": "2025-05-15T06:03:37.775869",
     "exception": false,
     "start_time": "2025-05-15T06:03:37.768430",
     "status": "completed"
    },
    "tags": []
   },
   "source": [
    "## Column Analysis\n",
    "\n",
    "* Target = count\n",
    "* count = casual + registered\n",
    "* train: 'datetime', 'season', 'holiday', 'workingday', 'weather', 'temp',\n",
    "       'atemp', 'humidity', 'windspeed', 'casual', 'registered', 'count'\n",
    "* test: 'datetime', 'season', 'holiday', 'workingday', 'weather', 'temp',\n",
    "       'atemp', 'humidity', 'windspeed'"
   ]
  },
  {
   "cell_type": "code",
   "execution_count": 6,
   "id": "ec2670ed",
   "metadata": {
    "execution": {
     "iopub.execute_input": "2025-05-15T06:03:37.792666Z",
     "iopub.status.busy": "2025-05-15T06:03:37.792377Z",
     "iopub.status.idle": "2025-05-15T06:03:37.798041Z",
     "shell.execute_reply": "2025-05-15T06:03:37.797289Z"
    },
    "papermill": {
     "duration": 0.016234,
     "end_time": "2025-05-15T06:03:37.799225",
     "exception": false,
     "start_time": "2025-05-15T06:03:37.782991",
     "status": "completed"
    },
    "tags": []
   },
   "outputs": [
    {
     "data": {
      "text/plain": [
       "(10886, 6493, 0.5964541613081021)"
      ]
     },
     "execution_count": 6,
     "metadata": {},
     "output_type": "execute_result"
    }
   ],
   "source": [
    "bike_df.shape[0], bike_test.shape[0], bike_test.shape[0] / bike_df.shape[0]"
   ]
  },
  {
   "cell_type": "markdown",
   "id": "29a014b5",
   "metadata": {
    "papermill": {
     "duration": 0.006512,
     "end_time": "2025-05-15T06:03:37.812459",
     "exception": false,
     "start_time": "2025-05-15T06:03:37.805947",
     "status": "completed"
    },
    "tags": []
   },
   "source": [
    "Train : Test ~= 3 : 5"
   ]
  },
  {
   "cell_type": "markdown",
   "id": "d659e744",
   "metadata": {
    "papermill": {
     "duration": 0.006431,
     "end_time": "2025-05-15T06:03:37.825548",
     "exception": false,
     "start_time": "2025-05-15T06:03:37.819117",
     "status": "completed"
    },
    "tags": []
   },
   "source": [
    "## Data Type Adjustment"
   ]
  },
  {
   "cell_type": "code",
   "execution_count": 7,
   "id": "aa84d551",
   "metadata": {
    "execution": {
     "iopub.execute_input": "2025-05-15T06:03:37.839440Z",
     "iopub.status.busy": "2025-05-15T06:03:37.839239Z",
     "iopub.status.idle": "2025-05-15T06:03:37.858034Z",
     "shell.execute_reply": "2025-05-15T06:03:37.857273Z"
    },
    "papermill": {
     "duration": 0.027032,
     "end_time": "2025-05-15T06:03:37.859146",
     "exception": false,
     "start_time": "2025-05-15T06:03:37.832114",
     "status": "completed"
    },
    "tags": []
   },
   "outputs": [
    {
     "name": "stdout",
     "output_type": "stream",
     "text": [
      "<class 'pandas.core.frame.DataFrame'>\n",
      "RangeIndex: 10886 entries, 0 to 10885\n",
      "Data columns (total 12 columns):\n",
      " #   Column      Non-Null Count  Dtype  \n",
      "---  ------      --------------  -----  \n",
      " 0   datetime    10886 non-null  object \n",
      " 1   season      10886 non-null  int64  \n",
      " 2   holiday     10886 non-null  int64  \n",
      " 3   workingday  10886 non-null  int64  \n",
      " 4   weather     10886 non-null  int64  \n",
      " 5   temp        10886 non-null  float64\n",
      " 6   atemp       10886 non-null  float64\n",
      " 7   humidity    10886 non-null  int64  \n",
      " 8   windspeed   10886 non-null  float64\n",
      " 9   casual      10886 non-null  int64  \n",
      " 10  registered  10886 non-null  int64  \n",
      " 11  count       10886 non-null  int64  \n",
      "dtypes: float64(3), int64(8), object(1)\n",
      "memory usage: 1020.7+ KB\n"
     ]
    }
   ],
   "source": [
    "bike_df.info()"
   ]
  },
  {
   "cell_type": "code",
   "execution_count": 8,
   "id": "6e0dee3b",
   "metadata": {
    "execution": {
     "iopub.execute_input": "2025-05-15T06:03:37.872902Z",
     "iopub.status.busy": "2025-05-15T06:03:37.872666Z",
     "iopub.status.idle": "2025-05-15T06:03:41.579896Z",
     "shell.execute_reply": "2025-05-15T06:03:41.579271Z"
    },
    "papermill": {
     "duration": 3.715637,
     "end_time": "2025-05-15T06:03:41.581240",
     "exception": false,
     "start_time": "2025-05-15T06:03:37.865603",
     "status": "completed"
    },
    "tags": []
   },
   "outputs": [],
   "source": [
    "bike_df['datetime'] = bike_df['datetime'].apply(pd.to_datetime)"
   ]
  },
  {
   "cell_type": "code",
   "execution_count": 9,
   "id": "1da92dc0",
   "metadata": {
    "execution": {
     "iopub.execute_input": "2025-05-15T06:03:41.596439Z",
     "iopub.status.busy": "2025-05-15T06:03:41.596216Z",
     "iopub.status.idle": "2025-05-15T06:03:41.651517Z",
     "shell.execute_reply": "2025-05-15T06:03:41.650968Z"
    },
    "papermill": {
     "duration": 0.064248,
     "end_time": "2025-05-15T06:03:41.652647",
     "exception": false,
     "start_time": "2025-05-15T06:03:41.588399",
     "status": "completed"
    },
    "tags": []
   },
   "outputs": [
    {
     "data": {
      "text/html": [
       "<div>\n",
       "<style scoped>\n",
       "    .dataframe tbody tr th:only-of-type {\n",
       "        vertical-align: middle;\n",
       "    }\n",
       "\n",
       "    .dataframe tbody tr th {\n",
       "        vertical-align: top;\n",
       "    }\n",
       "\n",
       "    .dataframe thead th {\n",
       "        text-align: right;\n",
       "    }\n",
       "</style>\n",
       "<table border=\"1\" class=\"dataframe\">\n",
       "  <thead>\n",
       "    <tr style=\"text-align: right;\">\n",
       "      <th></th>\n",
       "      <th>season</th>\n",
       "      <th>holiday</th>\n",
       "      <th>workingday</th>\n",
       "      <th>weather</th>\n",
       "      <th>temp</th>\n",
       "      <th>atemp</th>\n",
       "      <th>humidity</th>\n",
       "      <th>windspeed</th>\n",
       "      <th>count</th>\n",
       "      <th>year</th>\n",
       "      <th>month</th>\n",
       "      <th>day</th>\n",
       "      <th>hour</th>\n",
       "    </tr>\n",
       "  </thead>\n",
       "  <tbody>\n",
       "    <tr>\n",
       "      <th>0</th>\n",
       "      <td>1</td>\n",
       "      <td>0</td>\n",
       "      <td>0</td>\n",
       "      <td>1</td>\n",
       "      <td>9.84</td>\n",
       "      <td>14.395</td>\n",
       "      <td>81</td>\n",
       "      <td>0.0</td>\n",
       "      <td>16</td>\n",
       "      <td>2011</td>\n",
       "      <td>1</td>\n",
       "      <td>1</td>\n",
       "      <td>0</td>\n",
       "    </tr>\n",
       "    <tr>\n",
       "      <th>1</th>\n",
       "      <td>1</td>\n",
       "      <td>0</td>\n",
       "      <td>0</td>\n",
       "      <td>1</td>\n",
       "      <td>9.02</td>\n",
       "      <td>13.635</td>\n",
       "      <td>80</td>\n",
       "      <td>0.0</td>\n",
       "      <td>40</td>\n",
       "      <td>2011</td>\n",
       "      <td>1</td>\n",
       "      <td>1</td>\n",
       "      <td>1</td>\n",
       "    </tr>\n",
       "    <tr>\n",
       "      <th>2</th>\n",
       "      <td>1</td>\n",
       "      <td>0</td>\n",
       "      <td>0</td>\n",
       "      <td>1</td>\n",
       "      <td>9.02</td>\n",
       "      <td>13.635</td>\n",
       "      <td>80</td>\n",
       "      <td>0.0</td>\n",
       "      <td>32</td>\n",
       "      <td>2011</td>\n",
       "      <td>1</td>\n",
       "      <td>1</td>\n",
       "      <td>2</td>\n",
       "    </tr>\n",
       "  </tbody>\n",
       "</table>\n",
       "</div>"
      ],
      "text/plain": [
       "   season  holiday  workingday  weather  temp   atemp  humidity  windspeed  \\\n",
       "0       1        0           0        1  9.84  14.395        81        0.0   \n",
       "1       1        0           0        1  9.02  13.635        80        0.0   \n",
       "2       1        0           0        1  9.02  13.635        80        0.0   \n",
       "\n",
       "   count  year  month  day  hour  \n",
       "0     16  2011      1    1     0  \n",
       "1     40  2011      1    1     1  \n",
       "2     32  2011      1    1     2  "
      ]
     },
     "execution_count": 9,
     "metadata": {},
     "output_type": "execute_result"
    }
   ],
   "source": [
    "# datetime 타입에서 년, 월, 일, 시간 추출\n",
    "bike_df['year'] = bike_df.datetime.apply(lambda x : x.year)\n",
    "bike_df['month'] = bike_df.datetime.apply(lambda x : x.month)\n",
    "bike_df['day'] = bike_df.datetime.apply(lambda x : x.day)\n",
    "bike_df['hour'] = bike_df.datetime.apply(lambda x: x.hour)\n",
    "\n",
    "drop_columns = ['datetime','casual','registered'] # count = casual + registered\n",
    "bike_df.drop(drop_columns, axis=1,inplace=True)\n",
    "bike_df.head(3)"
   ]
  },
  {
   "cell_type": "markdown",
   "id": "3a7ed8d5",
   "metadata": {
    "papermill": {
     "duration": 0.006639,
     "end_time": "2025-05-15T06:03:41.666534",
     "exception": false,
     "start_time": "2025-05-15T06:03:41.659895",
     "status": "completed"
    },
    "tags": []
   },
   "source": [
    "## Column Type Classification\n",
    "\n",
    "* Category: season, holiday, weather, workingday, year, month, day, hour\n",
    "* Numerical Variables\n",
    "    * Continuous: temp, atemp, windspeed\n",
    "    * Discrete: humidity, count"
   ]
  },
  {
   "cell_type": "code",
   "execution_count": 10,
   "id": "8096ddeb",
   "metadata": {
    "execution": {
     "iopub.execute_input": "2025-05-15T06:03:41.681342Z",
     "iopub.status.busy": "2025-05-15T06:03:41.681084Z",
     "iopub.status.idle": "2025-05-15T06:03:44.478284Z",
     "shell.execute_reply": "2025-05-15T06:03:44.477611Z"
    },
    "papermill": {
     "duration": 2.806615,
     "end_time": "2025-05-15T06:03:44.479853",
     "exception": false,
     "start_time": "2025-05-15T06:03:41.673238",
     "status": "completed"
    },
    "tags": []
   },
   "outputs": [
    {
     "data": {
      "image/png": "[encoded data removed]",
      "text/plain": [
       "<Figure size 1600x800 with 8 Axes>"
      ]
     },
     "metadata": {},
     "output_type": "display_data"
    }
   ],
   "source": [
    "fig, axs = plt.subplots(figsize=(16, 8), ncols=4, nrows=2)\n",
    "cat_features = ['year', 'month','season','weather','day', 'hour', 'holiday','workingday']\n",
    "# cat_features에 있는 모든 칼럼별로 개별 칼럼값에 따른 count의 합을 barplot으로 시각화\n",
    "for i, feature in enumerate(cat_features):\n",
    "    row = int(i/4)\n",
    "    col = i%4\n",
    "    # 시본의 barplot을 이용해 칼럼값에 따른 count의 합을 표현\n",
    "    sns.barplot(x=feature, y='count', data=bike_df, ax=axs[row][col])"
   ]
  },
  {
   "cell_type": "markdown",
   "id": "a49ab92e",
   "metadata": {
    "papermill": {
     "duration": 0.007769,
     "end_time": "2025-05-15T06:03:44.495916",
     "exception": false,
     "start_time": "2025-05-15T06:03:44.488147",
     "status": "completed"
    },
    "tags": []
   },
   "source": [
    "# Function Definition"
   ]
  },
  {
   "cell_type": "markdown",
   "id": "4fb6e781",
   "metadata": {
    "papermill": {
     "duration": 0.055656,
     "end_time": "2025-05-15T06:03:44.559291",
     "exception": false,
     "start_time": "2025-05-15T06:03:44.503635",
     "status": "completed"
    },
    "tags": []
   },
   "source": [
    "## rmsle"
   ]
  },
  {
   "cell_type": "markdown",
   "id": "e6be757c",
   "metadata": {
    "papermill": {
     "duration": 0.007407,
     "end_time": "2025-05-15T06:03:44.574537",
     "exception": false,
     "start_time": "2025-05-15T06:03:44.567130",
     "status": "completed"
    },
    "tags": []
   },
   "source": [
    "log1p() 를 이용하여 RMSLE 계산한 값을 출력"
   ]
  },
  {
   "cell_type": "code",
   "execution_count": 11,
   "id": "63567a88",
   "metadata": {
    "execution": {
     "iopub.execute_input": "2025-05-15T06:03:44.590923Z",
     "iopub.status.busy": "2025-05-15T06:03:44.590628Z",
     "iopub.status.idle": "2025-05-15T06:03:44.791230Z",
     "shell.execute_reply": "2025-05-15T06:03:44.790691Z"
    },
    "papermill": {
     "duration": 0.210194,
     "end_time": "2025-05-15T06:03:44.792444",
     "exception": false,
     "start_time": "2025-05-15T06:03:44.582250",
     "status": "completed"
    },
    "tags": []
   },
   "outputs": [],
   "source": [
    "from sklearn.metrics import mean_squared_error, mean_absolute_error\n",
    "\n",
    "def rmsle(y, pred):\n",
    "    log_y = np.log1p(y)\n",
    "    log_pred = np.log1p(pred)\n",
    "    squared_error = (log_y - log_pred) ** 2\n",
    "    rmsle = np.sqrt(np.mean(squared_error))\n",
    "    return rmsle"
   ]
  },
  {
   "cell_type": "markdown",
   "id": "da3264e4",
   "metadata": {
    "papermill": {
     "duration": 0.007585,
     "end_time": "2025-05-15T06:03:44.808152",
     "exception": false,
     "start_time": "2025-05-15T06:03:44.800567",
     "status": "completed"
    },
    "tags": []
   },
   "source": [
    "## rmse"
   ]
  },
  {
   "cell_type": "markdown",
   "id": "8cb81d2e",
   "metadata": {
    "papermill": {
     "duration": 0.007445,
     "end_time": "2025-05-15T06:03:44.823233",
     "exception": false,
     "start_time": "2025-05-15T06:03:44.815788",
     "status": "completed"
    },
    "tags": []
   },
   "source": [
    "MSE를 입력받아 RMSE 계산한 값을 출력"
   ]
  },
  {
   "cell_type": "code",
   "execution_count": 12,
   "id": "7ed2e701",
   "metadata": {
    "execution": {
     "iopub.execute_input": "2025-05-15T06:03:44.839324Z",
     "iopub.status.busy": "2025-05-15T06:03:44.839105Z",
     "iopub.status.idle": "2025-05-15T06:03:44.842267Z",
     "shell.execute_reply": "2025-05-15T06:03:44.841776Z"
    },
    "papermill": {
     "duration": 0.012346,
     "end_time": "2025-05-15T06:03:44.843245",
     "exception": false,
     "start_time": "2025-05-15T06:03:44.830899",
     "status": "completed"
    },
    "tags": []
   },
   "outputs": [],
   "source": [
    "def rmse(y,pred):\n",
    "    return np.sqrt(mean_squared_error(y,pred))"
   ]
  },
  {
   "cell_type": "markdown",
   "id": "62c6bdae",
   "metadata": {
    "papermill": {
     "duration": 0.007532,
     "end_time": "2025-05-15T06:03:44.858562",
     "exception": false,
     "start_time": "2025-05-15T06:03:44.851030",
     "status": "completed"
    },
    "tags": []
   },
   "source": [
    "## evaluate_regr"
   ]
  },
  {
   "cell_type": "markdown",
   "id": "8ee2a30a",
   "metadata": {
    "papermill": {
     "duration": 0.007613,
     "end_time": "2025-05-15T06:03:44.874121",
     "exception": false,
     "start_time": "2025-05-15T06:03:44.866508",
     "status": "completed"
    },
    "tags": []
   },
   "source": [
    "MSE, RMSE, RMSLE 를 각각 계산하여 print함수를 이용해 한 줄로 결과값 출력"
   ]
  },
  {
   "cell_type": "code",
   "execution_count": 13,
   "id": "52081c73",
   "metadata": {
    "execution": {
     "iopub.execute_input": "2025-05-15T06:03:44.890287Z",
     "iopub.status.busy": "2025-05-15T06:03:44.890082Z",
     "iopub.status.idle": "2025-05-15T06:03:44.893414Z",
     "shell.execute_reply": "2025-05-15T06:03:44.892977Z"
    },
    "papermill": {
     "duration": 0.012623,
     "end_time": "2025-05-15T06:03:44.894446",
     "exception": false,
     "start_time": "2025-05-15T06:03:44.881823",
     "status": "completed"
    },
    "tags": []
   },
   "outputs": [],
   "source": [
    "def evaluate_regr(y,pred):\n",
    "    rmsle_val = rmsle(y,pred)\n",
    "    rmse_val = rmse(y,pred)\n",
    "    # MAE 는 scikit learn의 mean_absolute_error() 로 계산\n",
    "    mae_val = mean_absolute_error(y,pred)\n",
    "    print('RMSLE: {0:.3f}, RMSE: {1:.3F}, MAE: {2:.3F}'.format(rmsle_val, rmse_val, mae_val))"
   ]
  },
  {
   "cell_type": "markdown",
   "id": "778d0057",
   "metadata": {
    "papermill": {
     "duration": 0.007362,
     "end_time": "2025-05-15T06:03:44.909510",
     "exception": false,
     "start_time": "2025-05-15T06:03:44.902148",
     "status": "completed"
    },
    "tags": []
   },
   "source": [
    "## get_top_error_data"
   ]
  },
  {
   "cell_type": "markdown",
   "id": "5b353855",
   "metadata": {
    "papermill": {
     "duration": 0.007457,
     "end_time": "2025-05-15T06:03:44.924529",
     "exception": false,
     "start_time": "2025-05-15T06:03:44.917072",
     "status": "completed"
    },
    "tags": []
   },
   "source": [
    "예측값과 실제값을 입력받아서 그 중 차이가 가장 큰 것을 내림차순으로 출력"
   ]
  },
  {
   "cell_type": "code",
   "execution_count": 14,
   "id": "7f362ef0",
   "metadata": {
    "execution": {
     "iopub.execute_input": "2025-05-15T06:03:44.940391Z",
     "iopub.status.busy": "2025-05-15T06:03:44.940182Z",
     "iopub.status.idle": "2025-05-15T06:03:44.944069Z",
     "shell.execute_reply": "2025-05-15T06:03:44.943534Z"
    },
    "papermill": {
     "duration": 0.012997,
     "end_time": "2025-05-15T06:03:44.945085",
     "exception": false,
     "start_time": "2025-05-15T06:03:44.932088",
     "status": "completed"
    },
    "tags": []
   },
   "outputs": [],
   "source": [
    "def get_top_error_data(y_test, pred, n_tops = 5):\n",
    "    # DataFrame에 컬럼들로 실제 대여횟수(count)와 예측 값을 서로 비교 할 수 있도록 생성. \n",
    "    result_df = pd.DataFrame(y_test.values, columns=['real_count'])\n",
    "    result_df['predicted_count']= np.round(pred)\n",
    "    result_df['diff'] = np.abs(result_df['real_count'] - result_df['predicted_count'])\n",
    "    # 예측값과 실제값이 가장 큰 데이터 순으로 출력. \n",
    "    print(result_df.sort_values('diff', ascending=False)[:n_tops])"
   ]
  },
  {
   "cell_type": "markdown",
   "id": "13944dc4",
   "metadata": {
    "papermill": {
     "duration": 0.007437,
     "end_time": "2025-05-15T06:03:44.960293",
     "exception": false,
     "start_time": "2025-05-15T06:03:44.952856",
     "status": "completed"
    },
    "tags": []
   },
   "source": [
    "# Modeling & Evaluation"
   ]
  },
  {
   "cell_type": "markdown",
   "id": "5c579656",
   "metadata": {
    "papermill": {
     "duration": 0.007501,
     "end_time": "2025-05-15T06:03:44.975369",
     "exception": false,
     "start_time": "2025-05-15T06:03:44.967868",
     "status": "completed"
    },
    "tags": []
   },
   "source": [
    "## Linear Regression"
   ]
  },
  {
   "cell_type": "code",
   "execution_count": 15,
   "id": "f30ae30b",
   "metadata": {
    "execution": {
     "iopub.execute_input": "2025-05-15T06:03:44.991304Z",
     "iopub.status.busy": "2025-05-15T06:03:44.991105Z",
     "iopub.status.idle": "2025-05-15T06:03:45.135454Z",
     "shell.execute_reply": "2025-05-15T06:03:45.134569Z"
    },
    "papermill": {
     "duration": 0.154592,
     "end_time": "2025-05-15T06:03:45.137524",
     "exception": false,
     "start_time": "2025-05-15T06:03:44.982932",
     "status": "completed"
    },
    "tags": []
   },
   "outputs": [
    {
     "name": "stdout",
     "output_type": "stream",
     "text": [
      "RMSLE: 1.168, RMSE: 140.828, MAE: 105.882\n"
     ]
    }
   ],
   "source": [
    "from sklearn.model_selection import train_test_split , GridSearchCV\n",
    "from sklearn.linear_model import LinearRegression , Ridge , Lasso\n",
    "\n",
    "y_target = bike_df['count']\n",
    "drop_col = ['count','day','temp'] # Target, Split Standard, temp ~= atepm but less descriptive\n",
    "X_features = bike_df.drop(drop_col,axis=1,inplace=False)\n",
    "\n",
    "X_train, X_test, y_train, y_test = train_test_split(X_features, y_target, test_size=0.3, random_state=0)\n",
    "\n",
    "lr_reg = LinearRegression()\n",
    "lr_reg.fit(X_train, y_train)\n",
    "pred = lr_reg.predict(X_test)\n",
    "\n",
    "evaluate_regr(y_test ,pred)"
   ]
  },
  {
   "cell_type": "code",
   "execution_count": 16,
   "id": "ac7ca7b9",
   "metadata": {
    "execution": {
     "iopub.execute_input": "2025-05-15T06:03:45.165024Z",
     "iopub.status.busy": "2025-05-15T06:03:45.164795Z",
     "iopub.status.idle": "2025-05-15T06:03:45.173295Z",
     "shell.execute_reply": "2025-05-15T06:03:45.172616Z"
    },
    "papermill": {
     "duration": 0.023657,
     "end_time": "2025-05-15T06:03:45.174703",
     "exception": false,
     "start_time": "2025-05-15T06:03:45.151046",
     "status": "completed"
    },
    "tags": []
   },
   "outputs": [
    {
     "name": "stdout",
     "output_type": "stream",
     "text": [
      "      real_count  predicted_count   diff\n",
      "1618         890            319.0  571.0\n",
      "966          884            324.0  560.0\n",
      "3151         798            246.0  552.0\n",
      "412          745            195.0  550.0\n",
      "2314         766            221.0  545.0\n"
     ]
    }
   ],
   "source": [
    "get_top_error_data(y_test,pred,n_tops=5)"
   ]
  },
  {
   "cell_type": "code",
   "execution_count": 17,
   "id": "e9f7a6cc",
   "metadata": {
    "execution": {
     "iopub.execute_input": "2025-05-15T06:03:45.201655Z",
     "iopub.status.busy": "2025-05-15T06:03:45.201431Z",
     "iopub.status.idle": "2025-05-15T06:03:45.441414Z",
     "shell.execute_reply": "2025-05-15T06:03:45.440767Z"
    },
    "papermill": {
     "duration": 0.254793,
     "end_time": "2025-05-15T06:03:45.442595",
     "exception": false,
     "start_time": "2025-05-15T06:03:45.187802",
     "status": "completed"
    },
    "tags": []
   },
   "outputs": [
    {
     "data": {
      "text/plain": [
       "<Axes: >"
      ]
     },
     "execution_count": 17,
     "metadata": {},
     "output_type": "execute_result"
    },
    {
     "data": {
      "image/png": "[encoded data removed]",
      "text/plain": [
       "<Figure size 640x480 with 1 Axes>"
      ]
     },
     "metadata": {},
     "output_type": "display_data"
    }
   ],
   "source": [
    "y_target.hist(bins = 50)"
   ]
  },
  {
   "cell_type": "markdown",
   "id": "2f26336c",
   "metadata": {
    "papermill": {
     "duration": 0.0084,
     "end_time": "2025-05-15T06:03:45.459924",
     "exception": false,
     "start_time": "2025-05-15T06:03:45.451524",
     "status": "completed"
    },
    "tags": []
   },
   "source": [
    "## y_target: Log Scaling"
   ]
  },
  {
   "cell_type": "code",
   "execution_count": 18,
   "id": "86d8e53d",
   "metadata": {
    "execution": {
     "iopub.execute_input": "2025-05-15T06:03:45.477540Z",
     "iopub.status.busy": "2025-05-15T06:03:45.477020Z",
     "iopub.status.idle": "2025-05-15T06:03:45.663614Z",
     "shell.execute_reply": "2025-05-15T06:03:45.662931Z"
    },
    "papermill": {
     "duration": 0.19676,
     "end_time": "2025-05-15T06:03:45.664923",
     "exception": false,
     "start_time": "2025-05-15T06:03:45.468163",
     "status": "completed"
    },
    "tags": []
   },
   "outputs": [
    {
     "data": {
      "text/plain": [
       "<Axes: >"
      ]
     },
     "execution_count": 18,
     "metadata": {},
     "output_type": "execute_result"
    },
    {
     "data": {
      "image/png": "[encoded data removed]",
      "text/plain": [
       "<Figure size 640x480 with 1 Axes>"
      ]
     },
     "metadata": {},
     "output_type": "display_data"
    }
   ],
   "source": [
    "y_log_transform = np.log1p(y_target)\n",
    "y_log_transform.hist(bins = 50)"
   ]
  },
  {
   "cell_type": "markdown",
   "id": "d93133b8",
   "metadata": {
    "papermill": {
     "duration": 0.008637,
     "end_time": "2025-05-15T06:03:45.682285",
     "exception": false,
     "start_time": "2025-05-15T06:03:45.673648",
     "status": "completed"
    },
    "tags": []
   },
   "source": [
    "Scaled Data Set Split & Linear Regression Modeling Evaluation"
   ]
  },
  {
   "cell_type": "markdown",
   "id": "c1dcbc2e",
   "metadata": {
    "papermill": {
     "duration": 0.008073,
     "end_time": "2025-05-15T06:03:45.698655",
     "exception": false,
     "start_time": "2025-05-15T06:03:45.690582",
     "status": "completed"
    },
    "tags": []
   },
   "source": [
    "## Reevaluation"
   ]
  },
  {
   "cell_type": "code",
   "execution_count": 19,
   "id": "6819fb6d",
   "metadata": {
    "execution": {
     "iopub.execute_input": "2025-05-15T06:03:45.716673Z",
     "iopub.status.busy": "2025-05-15T06:03:45.715996Z",
     "iopub.status.idle": "2025-05-15T06:03:45.733473Z",
     "shell.execute_reply": "2025-05-15T06:03:45.732223Z"
    },
    "papermill": {
     "duration": 0.028004,
     "end_time": "2025-05-15T06:03:45.734881",
     "exception": false,
     "start_time": "2025-05-15T06:03:45.706877",
     "status": "completed"
    },
    "tags": []
   },
   "outputs": [
    {
     "name": "stdout",
     "output_type": "stream",
     "text": [
      "RMSLE: 1.017, RMSE: 162.572, MAE: 109.230\n"
     ]
    }
   ],
   "source": [
    "# 타깃 칼럼인 count 값을 log1p로 로그 변환\n",
    "y_target_log = np.log1p(y_target)\n",
    "\n",
    "# 로그 변환된 y_target_log를 반영하여 학습/테스트 데이터 셋 분할\n",
    "X_train, X_test, y_train, y_test = train_test_split(X_features, y_target_log, test_size=0.3, random_state=0)\n",
    "lr_reg = LinearRegression()\n",
    "lr_reg.fit(X_train, y_train)\n",
    "pred = lr_reg.predict(X_test)\n",
    "\n",
    "# 테스트 데이터 셋의 Target 값은 Log 변환되었으므로 다시 expm1를 이용하여 원래 scale로 변환\n",
    "y_test_exp = np.expm1(y_test)\n",
    "\n",
    "# 예측 값 역시 Log 변환된 타깃 기반으로 학습되어 예측되었으므로 다시 exmpl으로 scale변환\n",
    "pred_exp = np.expm1(pred)\n",
    "\n",
    "evaluate_regr(y_test_exp ,pred_exp)"
   ]
  },
  {
   "cell_type": "markdown",
   "id": "7d01b9db",
   "metadata": {
    "papermill": {
     "duration": 0.008468,
     "end_time": "2025-05-15T06:03:45.754346",
     "exception": false,
     "start_time": "2025-05-15T06:03:45.745878",
     "status": "completed"
    },
    "tags": []
   },
   "source": [
    "* Result: Even worse than before scaling"
   ]
  },
  {
   "cell_type": "code",
   "execution_count": 20,
   "id": "4d69dc8a",
   "metadata": {
    "execution": {
     "iopub.execute_input": "2025-05-15T06:03:45.772603Z",
     "iopub.status.busy": "2025-05-15T06:03:45.772356Z",
     "iopub.status.idle": "2025-05-15T06:03:46.117357Z",
     "shell.execute_reply": "2025-05-15T06:03:46.116792Z"
    },
    "papermill": {
     "duration": 0.355796,
     "end_time": "2025-05-15T06:03:46.118660",
     "exception": false,
     "start_time": "2025-05-15T06:03:45.762864",
     "status": "completed"
    },
    "tags": []
   },
   "outputs": [
    {
     "data": {
      "image/png": "[encoded data removed]",
      "text/plain": [
       "<Figure size 640x480 with 1 Axes>"
      ]
     },
     "metadata": {},
     "output_type": "display_data"
    }
   ],
   "source": [
    "coef = pd.Series(lr_reg.coef_, index=X_features.columns)\n",
    "coef_sort = coef.sort_values(ascending=False)\n",
    "sns.barplot(x=coef_sort.values, y=coef_sort.index)\n",
    "plt.savefig('log_transform.png', format='png', dpi=300, bbox_inches='tight')"
   ]
  },
  {
   "cell_type": "markdown",
   "id": "0616f70c",
   "metadata": {
    "papermill": {
     "duration": 0.008527,
     "end_time": "2025-05-15T06:03:46.136816",
     "exception": false,
     "start_time": "2025-05-15T06:03:46.128289",
     "status": "completed"
    },
    "tags": []
   },
   "source": [
    "### Coefficiant index Ananlysis\n",
    "* Important Columns: Year\n",
    "* Unrelevant Columns: windspeed"
   ]
  },
  {
   "cell_type": "markdown",
   "id": "aee0d403",
   "metadata": {
    "papermill": {
     "duration": 0.008703,
     "end_time": "2025-05-15T06:03:46.154158",
     "exception": false,
     "start_time": "2025-05-15T06:03:46.145455",
     "status": "completed"
    },
    "tags": []
   },
   "source": [
    "## X_category_features Ont-hot Encoding"
   ]
  },
  {
   "cell_type": "code",
   "execution_count": 21,
   "id": "55ef699c",
   "metadata": {
    "execution": {
     "iopub.execute_input": "2025-05-15T06:03:46.172348Z",
     "iopub.status.busy": "2025-05-15T06:03:46.172110Z",
     "iopub.status.idle": "2025-05-15T06:03:46.182284Z",
     "shell.execute_reply": "2025-05-15T06:03:46.181583Z"
    },
    "papermill": {
     "duration": 0.02047,
     "end_time": "2025-05-15T06:03:46.183316",
     "exception": false,
     "start_time": "2025-05-15T06:03:46.162846",
     "status": "completed"
    },
    "tags": []
   },
   "outputs": [],
   "source": [
    "# 'year', month', 'day', hour'등의 피처들을 One Hot Encoding\n",
    "X_features_ohe = pd.get_dummies(X_features, \n",
    "                                columns = ['year', 'month', 'holiday','workingday','season','weather'], #hour 노미미\n",
    "                                drop_first=True\n",
    "                               )"
   ]
  },
  {
   "cell_type": "markdown",
   "id": "271d44f2",
   "metadata": {
    "papermill": {
     "duration": 0.008432,
     "end_time": "2025-05-15T06:03:46.200471",
     "exception": false,
     "start_time": "2025-05-15T06:03:46.192039",
     "status": "completed"
    },
    "tags": []
   },
   "source": [
    "### Re-Evaluation"
   ]
  },
  {
   "cell_type": "code",
   "execution_count": 22,
   "id": "85d3b24f",
   "metadata": {
    "execution": {
     "iopub.execute_input": "2025-05-15T06:03:46.218342Z",
     "iopub.status.busy": "2025-05-15T06:03:46.218119Z",
     "iopub.status.idle": "2025-05-15T06:03:46.327178Z",
     "shell.execute_reply": "2025-05-15T06:03:46.326543Z"
    },
    "papermill": {
     "duration": 0.120379,
     "end_time": "2025-05-15T06:03:46.329443",
     "exception": false,
     "start_time": "2025-05-15T06:03:46.209064",
     "status": "completed"
    },
    "tags": []
   },
   "outputs": [
    {
     "name": "stdout",
     "output_type": "stream",
     "text": [
      "### LinearRegression ###\n",
      "RMSLE: 1.004, RMSE: 159.126, MAE: 106.632\n",
      "### Ridge ###\n",
      "RMSLE: 1.004, RMSE: 159.136, MAE: 106.638\n",
      "### Lasso ###\n",
      "RMSLE: 1.009, RMSE: 160.774, MAE: 107.756\n"
     ]
    }
   ],
   "source": [
    "# 원-핫 인코딩이 적용된 feature 데이터 세트 기반으로 학습/예측 데이터 분할. \n",
    "X_train, X_test, y_train, y_test = train_test_split(X_features_ohe, y_target_log,\n",
    "                                                    test_size=0.3, random_state=0)\n",
    "\n",
    "# 모델과 학습/테스트 데이터 셋을 입력하면 성능 평가 수치를 반환\n",
    "def get_model_predict(model, X_train, X_test, y_train, y_test, is_expm1=False):\n",
    "    model.fit(X_train, y_train)\n",
    "    pred = model.predict(X_test)\n",
    "    if is_expm1 :\n",
    "        y_test = np.expm1(y_test)\n",
    "        pred = np.expm1(pred)\n",
    "    print('###',model.__class__.__name__,'###')\n",
    "    evaluate_regr(y_test, pred)\n",
    "# end of function get_model_predict    \n",
    "\n",
    "# model 별로 평가 수행\n",
    "lr_reg = LinearRegression()\n",
    "ridge_reg = Ridge(alpha=10)\n",
    "lasso_reg = Lasso(alpha=0.01)\n",
    "\n",
    "for model in [lr_reg, ridge_reg, lasso_reg]:\n",
    "    get_model_predict(model,X_train, X_test, y_train, y_test,is_expm1=True)"
   ]
  },
  {
   "cell_type": "code",
   "execution_count": 23,
   "id": "de69f40b",
   "metadata": {
    "execution": {
     "iopub.execute_input": "2025-05-15T06:03:46.362681Z",
     "iopub.status.busy": "2025-05-15T06:03:46.362446Z",
     "iopub.status.idle": "2025-05-15T06:03:46.889389Z",
     "shell.execute_reply": "2025-05-15T06:03:46.888798Z"
    },
    "papermill": {
     "duration": 0.544436,
     "end_time": "2025-05-15T06:03:46.891077",
     "exception": false,
     "start_time": "2025-05-15T06:03:46.346641",
     "status": "completed"
    },
    "tags": []
   },
   "outputs": [
    {
     "data": {
      "image/png": "[encoded data removed]",
      "text/plain": [
       "<Figure size 640x480 with 1 Axes>"
      ]
     },
     "metadata": {},
     "output_type": "display_data"
    }
   ],
   "source": [
    "coef = pd.Series(lr_reg.coef_ , index=X_features_ohe.columns)\n",
    "coef_sort = coef.sort_values(ascending=False)\n",
    "sns.barplot(x=coef_sort.values , y=coef_sort.index)\n",
    "plt.savefig('one-hotencoded.png', format='png', dpi=300, bbox_inches='tight')"
   ]
  },
  {
   "cell_type": "code",
   "execution_count": 24,
   "id": "92efbc49",
   "metadata": {
    "execution": {
     "iopub.execute_input": "2025-05-15T06:03:46.914081Z",
     "iopub.status.busy": "2025-05-15T06:03:46.913612Z",
     "iopub.status.idle": "2025-05-15T06:03:48.205252Z",
     "shell.execute_reply": "2025-05-15T06:03:48.204651Z"
    },
    "papermill": {
     "duration": 1.304404,
     "end_time": "2025-05-15T06:03:48.207390",
     "exception": false,
     "start_time": "2025-05-15T06:03:46.902986",
     "status": "completed"
    },
    "tags": []
   },
   "outputs": [
    {
     "data": {
      "image/png": "[encoded data removed]",
      "text/plain": [
       "<Figure size 1200x1000 with 2 Axes>"
      ]
     },
     "metadata": {},
     "output_type": "display_data"
    }
   ],
   "source": [
    "corr_matrix = X_features_ohe.corr()\n",
    "\n",
    "# 2. 히트맵 시각화\n",
    "plt.figure(figsize=(12, 10))  # 크기 조정\n",
    "sns.heatmap(corr_matrix, cmap='coolwarm', square=True,\n",
    "            cbar_kws={\"shrink\": 0.8}, linewidths=0.5)\n",
    "\n",
    "plt.title('Feature Correlation Heatmap')\n",
    "plt.tight_layout()\n",
    "plt.savefig('correlation_heatmap.png', dpi=300)\n",
    "plt.show()"
   ]
  },
  {
   "cell_type": "code",
   "execution_count": 25,
   "id": "159b0a5c",
   "metadata": {
    "execution": {
     "iopub.execute_input": "2025-05-15T06:03:48.231332Z",
     "iopub.status.busy": "2025-05-15T06:03:48.231096Z",
     "iopub.status.idle": "2025-05-15T06:03:48.235695Z",
     "shell.execute_reply": "2025-05-15T06:03:48.235141Z"
    },
    "papermill": {
     "duration": 0.017907,
     "end_time": "2025-05-15T06:03:48.236873",
     "exception": false,
     "start_time": "2025-05-15T06:03:48.218966",
     "status": "completed"
    },
    "tags": []
   },
   "outputs": [
    {
     "data": {
      "text/plain": [
       "False"
      ]
     },
     "execution_count": 25,
     "metadata": {},
     "output_type": "execute_result"
    }
   ],
   "source": [
    "X_features_ohe.columns.duplicated().any()"
   ]
  },
  {
   "cell_type": "code",
   "execution_count": 26,
   "id": "7cfbada6",
   "metadata": {
    "execution": {
     "iopub.execute_input": "2025-05-15T06:03:48.259934Z",
     "iopub.status.busy": "2025-05-15T06:03:48.259441Z",
     "iopub.status.idle": "2025-05-15T06:03:48.267163Z",
     "shell.execute_reply": "2025-05-15T06:03:48.266483Z"
    },
    "papermill": {
     "duration": 0.020266,
     "end_time": "2025-05-15T06:03:48.268275",
     "exception": false,
     "start_time": "2025-05-15T06:03:48.248009",
     "status": "completed"
    },
    "tags": []
   },
   "outputs": [
    {
     "data": {
      "text/plain": [
       " 0.053835    1\n",
       "-0.014444    1\n",
       " 0.004920    1\n",
       " 0.096557    1\n",
       " 0.398546    1\n",
       " 0.057870    1\n",
       " 0.056626    1\n",
       "-0.025007    1\n",
       " 0.198729    1\n",
       "-0.026363    1\n",
       "-0.130598    1\n",
       "-0.022883    1\n",
       " 0.229165    1\n",
       " 0.089360    1\n",
       " 0.143162    1\n",
       " 0.225712    1\n",
       "-0.056012    1\n",
       "-0.065896    1\n",
       " 0.147359    1\n",
       " 0.075684    1\n",
       " 0.458234    1\n",
       " 0.124515    1\n",
       "-0.254583    1\n",
       " 1.007798    1\n",
       "Name: count, dtype: int64"
      ]
     },
     "execution_count": 26,
     "metadata": {},
     "output_type": "execute_result"
    }
   ],
   "source": [
    "coef.value_counts()"
   ]
  },
  {
   "cell_type": "markdown",
   "id": "7bfab262",
   "metadata": {
    "papermill": {
     "duration": 0.011092,
     "end_time": "2025-05-15T06:03:48.290248",
     "exception": false,
     "start_time": "2025-05-15T06:03:48.279156",
     "status": "completed"
    },
    "tags": []
   },
   "source": [
    "## Regression Tree"
   ]
  },
  {
   "cell_type": "code",
   "execution_count": 27,
   "id": "a080d349",
   "metadata": {
    "execution": {
     "iopub.execute_input": "2025-05-15T06:03:48.313690Z",
     "iopub.status.busy": "2025-05-15T06:03:48.313212Z",
     "iopub.status.idle": "2025-05-15T06:04:09.500928Z",
     "shell.execute_reply": "2025-05-15T06:04:09.500089Z"
    },
    "papermill": {
     "duration": 21.201017,
     "end_time": "2025-05-15T06:04:09.502237",
     "exception": false,
     "start_time": "2025-05-15T06:03:48.301220",
     "status": "completed"
    },
    "tags": []
   },
   "outputs": [
    {
     "name": "stdout",
     "output_type": "stream",
     "text": [
      "### RandomForestRegressor ###\n",
      "RMSLE: 0.341, RMSE: 48.341, MAE: 29.698\n",
      "### GradientBoostingRegressor ###\n",
      "RMSLE: 0.327, RMSE: 49.051, MAE: 30.364\n",
      "### XGBRegressor ###\n",
      "RMSLE: 0.331, RMSE: 50.598, MAE: 30.227\n",
      "### LGBMRegressor ###\n",
      "RMSLE: 0.312, RMSE: 44.741, MAE: 27.478\n"
     ]
    }
   ],
   "source": [
    "from sklearn.ensemble import RandomForestRegressor, GradientBoostingRegressor\n",
    "from xgboost import XGBRegressor\n",
    "from lightgbm import LGBMRegressor\n",
    "\n",
    "# 랜덤 포레스트, GBM, XGBoost, LightGBM model 별로 평가 수행\n",
    "rf_reg = RandomForestRegressor(n_estimators=500)\n",
    "gbm_reg = GradientBoostingRegressor(n_estimators=500)\n",
    "xgb_reg = XGBRegressor(n_estimators=500)\n",
    "lgbm_reg = LGBMRegressor(n_estimators=500, verbose = -1)\n",
    "\n",
    "for model in [rf_reg, gbm_reg, xgb_reg, lgbm_reg]:\n",
    "    # XGBoost의 경우 DataFrame이 입력 될 경우 버전에 따라 오류 발생 가능. ndarray로 변환.\n",
    "    get_model_predict(model,X_train.values, X_test.values, y_train.values, y_test.values,is_expm1=True)"
   ]
  },
  {
   "cell_type": "markdown",
   "id": "11ee75f8",
   "metadata": {
    "papermill": {
     "duration": 0.010648,
     "end_time": "2025-05-15T06:04:09.526400",
     "exception": false,
     "start_time": "2025-05-15T06:04:09.515752",
     "status": "completed"
    },
    "tags": []
   },
   "source": [
    "* Result: A lot better than Liear Regression"
   ]
  },
  {
   "cell_type": "markdown",
   "id": "2e4001f8",
   "metadata": {
    "papermill": {
     "duration": 0.010674,
     "end_time": "2025-05-15T06:04:09.547808",
     "exception": false,
     "start_time": "2025-05-15T06:04:09.537134",
     "status": "completed"
    },
    "tags": []
   },
   "source": [
    "### Hyperparameter Tunning"
   ]
  },
  {
   "cell_type": "code",
   "execution_count": 28,
   "id": "76908f2f",
   "metadata": {
    "execution": {
     "iopub.execute_input": "2025-05-15T06:04:09.570411Z",
     "iopub.status.busy": "2025-05-15T06:04:09.569672Z",
     "iopub.status.idle": "2025-05-15T06:04:57.347910Z",
     "shell.execute_reply": "2025-05-15T06:04:57.346874Z"
    },
    "papermill": {
     "duration": 47.790719,
     "end_time": "2025-05-15T06:04:57.349152",
     "exception": false,
     "start_time": "2025-05-15T06:04:09.558433",
     "status": "completed"
    },
    "tags": []
   },
   "outputs": [
    {
     "name": "stdout",
     "output_type": "stream",
     "text": [
      "Fitting 3 folds for each of 10 candidates, totalling 30 fits\n",
      "Best Parameters: {'subsample': 0.8, 'reg_lambda': 0.0, 'reg_alpha': 0.0, 'num_leaves': 31, 'n_estimators': 1000, 'min_child_samples': 20, 'max_depth': 10, 'learning_rate': 0.05, 'colsample_bytree': 0.6}\n",
      "### LGBMRegressor ###\n",
      "RMSLE: 0.310, RMSE: 44.859, MAE: 27.773\n"
     ]
    }
   ],
   "source": [
    "from sklearn.metrics import mean_squared_log_error, make_scorer\n",
    "from sklearn.model_selection import RandomizedSearchCV\n",
    "\n",
    "# 각 모델에 대한 파라미터 그리드\n",
    "param_grids = {\n",
    "        # 'max_depth': [2, 4, 8, 16],\n",
    "        'num_leaves': [31, 50, 70, 100],\n",
    "        'max_depth': [5, 7, 10, 20],\n",
    "        'learning_rate': [0.01, 0.05, 0.1, 0.2],\n",
    "        'n_estimators': [500, 1000, 1500],\n",
    "        'subsample': [0.6, 0.8, 1.0],\n",
    "        'colsample_bytree': [0.6, 0.8, 1.0],\n",
    "        'reg_alpha': [0.0, 0.1, 0.5],\n",
    "        'reg_lambda': [0.0, 0.1, 0.5],\n",
    "        'min_child_samples': [10, 20, 50]\n",
    "    }\n",
    "\n",
    "model = LGBMRegressor(verbose = -1)\n",
    "rmsle_scorer = make_scorer(rmsle, greater_is_better=False)\n",
    "search = RandomizedSearchCV(\n",
    "        estimator=model,\n",
    "        param_distributions=param_grids,\n",
    "        n_iter=10,\n",
    "        scoring=rmsle_scorer,\n",
    "        cv=3,\n",
    "        verbose=1,\n",
    "        random_state=42,\n",
    "        n_jobs=-1\n",
    "    )\n",
    "search.fit(X_train.values, y_train.values)\n",
    "best_model = search.best_estimator_\n",
    "\n",
    "print(\"Best Parameters:\", search.best_params_)\n",
    "get_model_predict(best_model, X_train.values, X_test.values, y_train.values, y_test.values, is_expm1=True)"
   ]
  },
  {
   "cell_type": "markdown",
   "id": "9ba6245d",
   "metadata": {
    "papermill": {
     "duration": 0.011297,
     "end_time": "2025-05-15T06:04:57.372446",
     "exception": false,
     "start_time": "2025-05-15T06:04:57.361149",
     "status": "completed"
    },
    "tags": []
   },
   "source": [
    "# Submission"
   ]
  },
  {
   "cell_type": "markdown",
   "id": "60eed582",
   "metadata": {
    "papermill": {
     "duration": 0.011297,
     "end_time": "2025-05-15T06:04:57.394959",
     "exception": false,
     "start_time": "2025-05-15T06:04:57.383662",
     "status": "completed"
    },
    "tags": []
   },
   "source": [
    "## Test Data Preprocess"
   ]
  },
  {
   "cell_type": "code",
   "execution_count": 29,
   "id": "c0002723",
   "metadata": {
    "execution": {
     "iopub.execute_input": "2025-05-15T06:04:57.418410Z",
     "iopub.status.busy": "2025-05-15T06:04:57.418169Z",
     "iopub.status.idle": "2025-05-15T06:04:59.669242Z",
     "shell.execute_reply": "2025-05-15T06:04:59.668503Z"
    },
    "papermill": {
     "duration": 2.264905,
     "end_time": "2025-05-15T06:04:59.670985",
     "exception": false,
     "start_time": "2025-05-15T06:04:57.406080",
     "status": "completed"
    },
    "tags": []
   },
   "outputs": [],
   "source": [
    "test = bike_test\n",
    "\n",
    "# train과 같은 전처리를 진행해보자\n",
    "test['datetime'] = test.datetime.apply(pd.to_datetime)\n",
    "\n",
    "# datetime 타입에서 년, 월, 일, 시간 추출\n",
    "test['year'] = test.datetime.apply(lambda x : x.year)\n",
    "test['month'] = test.datetime.apply(lambda x : x.month)\n",
    "test['day'] = test.datetime.apply(lambda x : x.day)\n",
    "test['hour'] = test.datetime.apply(lambda x: x.hour)\n",
    "test.head(3)\n",
    "\n",
    "# 이미 테스트 데이터셋에는 casual, registered 가 빠져있음\n",
    "drop_columns = ['datetime','day','temp']\n",
    "test.drop(drop_columns, axis=1,inplace=True)\n",
    "\n",
    "# 'year', month', 'day', hour'등의 피처들을 One Hot Encoding\n",
    "test_ohe = pd.get_dummies(test, columns=['year', 'month',  'holiday',\n",
    "                                              'workingday','season','weather'],\n",
    "                         drop_first=True)"
   ]
  },
  {
   "cell_type": "markdown",
   "id": "ae4bfa0f",
   "metadata": {
    "papermill": {
     "duration": 0.012068,
     "end_time": "2025-05-15T06:04:59.697815",
     "exception": false,
     "start_time": "2025-05-15T06:04:59.685747",
     "status": "completed"
    },
    "tags": []
   },
   "source": [
    "* test.day.nunique() != train.day.nunique()"
   ]
  },
  {
   "cell_type": "markdown",
   "id": "de1580c2",
   "metadata": {
    "papermill": {
     "duration": 0.010918,
     "end_time": "2025-05-15T06:04:59.719827",
     "exception": false,
     "start_time": "2025-05-15T06:04:59.708909",
     "status": "completed"
    },
    "tags": []
   },
   "source": [
    "## Prediction by the final model"
   ]
  },
  {
   "cell_type": "code",
   "execution_count": 30,
   "id": "1ec5d824",
   "metadata": {
    "execution": {
     "iopub.execute_input": "2025-05-15T06:04:59.743595Z",
     "iopub.status.busy": "2025-05-15T06:04:59.743062Z",
     "iopub.status.idle": "2025-05-15T06:05:00.132551Z",
     "shell.execute_reply": "2025-05-15T06:05:00.131760Z"
    },
    "papermill": {
     "duration": 0.402936,
     "end_time": "2025-05-15T06:05:00.133947",
     "exception": false,
     "start_time": "2025-05-15T06:04:59.731011",
     "status": "completed"
    },
    "tags": []
   },
   "outputs": [],
   "source": [
    "## sample_data를 받아오기\n",
    "sample = pd.read_csv('/kaggle/input/bike-sharing-demand/sampleSubmission.csv')\n",
    "\n",
    "# 테스트 데이터셋을 예측\n",
    "pred = best_model.predict(test_ohe)\n",
    "# 학습시 로그변환한 target을 썻으니 결과값을 다시 복원해야합니다\n",
    "pred_exp = np.expm1(pred)\n",
    "\n",
    "# sample 파일에 예측 값을 넣어주고\n",
    "sample[\"count\"] = pred_exp\n",
    "\n",
    "# csv로 저장하기\n",
    "sample.to_csv(\"/kaggle/working/submission.csv\", index=False)"
   ]
  }
 ],
 "metadata": {
  "kaggle": {
   "accelerator": "none",
   "dataSources": [
    {
     "databundleVersionId": 32624,
     "sourceId": 3948,
     "sourceType": "competition"
    }
   ],
   "dockerImageVersionId": 31040,
   "isGpuEnabled": false,
   "isInternetEnabled": true,
   "language": "python",
   "sourceType": "notebook"
  },
  "kernelspec": {
   "display_name": "Python 3",
   "language": "python",
   "name": "python3"
  },
  "language_info": {
   "codemirror_mode": {
    "name": "ipython",
    "version": 3
   },
   "file_extension": ".py",
   "mimetype": "text/x-python",
   "name": "python",
   "nbconvert_exporter": "python",
   "pygments_lexer": "ipython3",
   "version": "3.11.11"
  },
  "papermill": {
   "default_parameters": {},
   "duration": 92.268742,
   "end_time": "2025-05-15T06:05:02.762678",
   "environment_variables": {},
   "exception": null,
   "input_path": "__notebook__.ipynb",
   "output_path": "__notebook__.ipynb",
   "parameters": {},
   "start_time": "2025-05-15T06:03:30.493936",
   "version": "2.6.0"
  }
 },
 "nbformat": 4,
 "nbformat_minor": 5
}
