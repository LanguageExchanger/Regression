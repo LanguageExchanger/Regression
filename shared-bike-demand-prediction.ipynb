{
 "cells": [
  {
   "cell_type": "markdown",
   "id": "c03b216e",
   "metadata": {
    "papermill": {
     "duration": 0.009457,
     "end_time": "2025-05-15T06:10:51.723204",
     "exception": false,
     "start_time": "2025-05-15T06:10:51.713747",
     "status": "completed"
    },
    "tags": []
   },
   "source": [
    "# Data Loading"
   ]
  },
  {
   "cell_type": "code",
   "execution_count": 1,
   "id": "e3b5fce3",
   "metadata": {
    "_cell_guid": "b1076dfc-b9ad-4769-8c92-a6c4dae69d19",
    "_uuid": "8f2839f25d086af736a60e9eeb907d3b93b6e0e5",
    "execution": {
     "iopub.execute_input": "2025-05-15T06:10:51.741185Z",
     "iopub.status.busy": "2025-05-15T06:10:51.740476Z",
     "iopub.status.idle": "2025-05-15T06:10:53.530245Z",
     "shell.execute_reply": "2025-05-15T06:10:53.529327Z"
    },
    "papermill": {
     "duration": 1.800106,
     "end_time": "2025-05-15T06:10:53.531730",
     "exception": false,
     "start_time": "2025-05-15T06:10:51.731624",
     "status": "completed"
    },
    "tags": []
   },
   "outputs": [
    {
     "name": "stdout",
     "output_type": "stream",
     "text": [
      "/kaggle/input/bike-sharing-demand/sampleSubmission.csv\n",
      "/kaggle/input/bike-sharing-demand/train.csv\n",
      "/kaggle/input/bike-sharing-demand/test.csv\n"
     ]
    }
   ],
   "source": [
    "# This Python 3 environment comes with many helpful analytics libraries installed\n",
    "# It is defined by the kaggle/python Docker image: https://github.com/kaggle/docker-python\n",
    "# For example, here's several helpful packages to load\n",
    "\n",
    "import numpy as np # linear algebra\n",
    "import pandas as pd # data processing, CSV file I/O (e.g. pd.read_csv)\n",
    "\n",
    "# Input data files are available in the read-only \"../input/\" directory\n",
    "# For example, running this (by clicking run or pressing Shift+Enter) will list all files under the input directory\n",
    "\n",
    "import os\n",
    "for dirname, _, filenames in os.walk('/kaggle/input'):\n",
    "    for filename in filenames:\n",
    "        print(os.path.join(dirname, filename))\n",
    "\n",
    "# You can write up to 20GB to the current directory (/kaggle/working/) that gets preserved as output when you create a version using \"Save & Run All\" \n",
    "# You can also write temporary files to /kaggle/temp/, but they won't be saved outside of the current session"
   ]
  },
  {
   "cell_type": "code",
   "execution_count": 2,
   "id": "2484750b",
   "metadata": {
    "execution": {
     "iopub.execute_input": "2025-05-15T06:10:53.548093Z",
     "iopub.status.busy": "2025-05-15T06:10:53.547230Z",
     "iopub.status.idle": "2025-05-15T06:10:55.241390Z",
     "shell.execute_reply": "2025-05-15T06:10:55.240476Z"
    },
    "papermill": {
     "duration": 1.703738,
     "end_time": "2025-05-15T06:10:55.242773",
     "exception": false,
     "start_time": "2025-05-15T06:10:53.539035",
     "status": "completed"
    },
    "tags": []
   },
   "outputs": [
    {
     "name": "stdout",
     "output_type": "stream",
     "text": [
      "(10886, 12)\n"
     ]
    },
    {
     "data": {
      "text/html": [
       "<div>\n",
       "<style scoped>\n",
       "    .dataframe tbody tr th:only-of-type {\n",
       "        vertical-align: middle;\n",
       "    }\n",
       "\n",
       "    .dataframe tbody tr th {\n",
       "        vertical-align: top;\n",
       "    }\n",
       "\n",
       "    .dataframe thead th {\n",
       "        text-align: right;\n",
       "    }\n",
       "</style>\n",
       "<table border=\"1\" class=\"dataframe\">\n",
       "  <thead>\n",
       "    <tr style=\"text-align: right;\">\n",
       "      <th></th>\n",
       "      <th>datetime</th>\n",
       "      <th>season</th>\n",
       "      <th>holiday</th>\n",
       "      <th>workingday</th>\n",
       "      <th>weather</th>\n",
       "      <th>temp</th>\n",
       "      <th>atemp</th>\n",
       "      <th>humidity</th>\n",
       "      <th>windspeed</th>\n",
       "      <th>casual</th>\n",
       "      <th>registered</th>\n",
       "      <th>count</th>\n",
       "    </tr>\n",
       "  </thead>\n",
       "  <tbody>\n",
       "    <tr>\n",
       "      <th>0</th>\n",
       "      <td>2011-01-01 00:00:00</td>\n",
       "      <td>1</td>\n",
       "      <td>0</td>\n",
       "      <td>0</td>\n",
       "      <td>1</td>\n",
       "      <td>9.84</td>\n",
       "      <td>14.395</td>\n",
       "      <td>81</td>\n",
       "      <td>0.0</td>\n",
       "      <td>3</td>\n",
       "      <td>13</td>\n",
       "      <td>16</td>\n",
       "    </tr>\n",
       "    <tr>\n",
       "      <th>1</th>\n",
       "      <td>2011-01-01 01:00:00</td>\n",
       "      <td>1</td>\n",
       "      <td>0</td>\n",
       "      <td>0</td>\n",
       "      <td>1</td>\n",
       "      <td>9.02</td>\n",
       "      <td>13.635</td>\n",
       "      <td>80</td>\n",
       "      <td>0.0</td>\n",
       "      <td>8</td>\n",
       "      <td>32</td>\n",
       "      <td>40</td>\n",
       "    </tr>\n",
       "    <tr>\n",
       "      <th>2</th>\n",
       "      <td>2011-01-01 02:00:00</td>\n",
       "      <td>1</td>\n",
       "      <td>0</td>\n",
       "      <td>0</td>\n",
       "      <td>1</td>\n",
       "      <td>9.02</td>\n",
       "      <td>13.635</td>\n",
       "      <td>80</td>\n",
       "      <td>0.0</td>\n",
       "      <td>5</td>\n",
       "      <td>27</td>\n",
       "      <td>32</td>\n",
       "    </tr>\n",
       "  </tbody>\n",
       "</table>\n",
       "</div>"
      ],
      "text/plain": [
       "              datetime  season  holiday  workingday  weather  temp   atemp  \\\n",
       "0  2011-01-01 00:00:00       1        0           0        1  9.84  14.395   \n",
       "1  2011-01-01 01:00:00       1        0           0        1  9.02  13.635   \n",
       "2  2011-01-01 02:00:00       1        0           0        1  9.02  13.635   \n",
       "\n",
       "   humidity  windspeed  casual  registered  count  \n",
       "0        81        0.0       3          13     16  \n",
       "1        80        0.0       8          32     40  \n",
       "2        80        0.0       5          27     32  "
      ]
     },
     "execution_count": 2,
     "metadata": {},
     "output_type": "execute_result"
    }
   ],
   "source": [
    "import numpy as np\n",
    "import pandas as pd\n",
    "import seaborn as sns\n",
    "import matplotlib.pyplot as plt\n",
    "%matplotlib inline\n",
    "\n",
    "import warnings\n",
    "warnings.filterwarnings(\"ignore\")\n",
    "\n",
    "file_path = '/kaggle/input/bike-sharing-demand/train.csv'\n",
    "bike_df = pd.read_csv(file_path)\n",
    "print(bike_df.shape)\n",
    "bike_df.head(3)"
   ]
  },
  {
   "cell_type": "code",
   "execution_count": 3,
   "id": "a07f1c45",
   "metadata": {
    "execution": {
     "iopub.execute_input": "2025-05-15T06:10:55.260036Z",
     "iopub.status.busy": "2025-05-15T06:10:55.259788Z",
     "iopub.status.idle": "2025-05-15T06:10:55.282782Z",
     "shell.execute_reply": "2025-05-15T06:10:55.282047Z"
    },
    "papermill": {
     "duration": 0.032904,
     "end_time": "2025-05-15T06:10:55.284298",
     "exception": false,
     "start_time": "2025-05-15T06:10:55.251394",
     "status": "completed"
    },
    "tags": []
   },
   "outputs": [],
   "source": [
    "bike_test = pd.read_csv('/kaggle/input/bike-sharing-demand/test.csv')"
   ]
  },
  {
   "cell_type": "code",
   "execution_count": 4,
   "id": "51426126",
   "metadata": {
    "execution": {
     "iopub.execute_input": "2025-05-15T06:10:55.303000Z",
     "iopub.status.busy": "2025-05-15T06:10:55.302718Z",
     "iopub.status.idle": "2025-05-15T06:10:55.307441Z",
     "shell.execute_reply": "2025-05-15T06:10:55.306594Z"
    },
    "papermill": {
     "duration": 0.015087,
     "end_time": "2025-05-15T06:10:55.308686",
     "exception": false,
     "start_time": "2025-05-15T06:10:55.293599",
     "status": "completed"
    },
    "tags": []
   },
   "outputs": [
    {
     "name": "stdout",
     "output_type": "stream",
     "text": [
      "casual\n",
      "registered\n",
      "count\n"
     ]
    }
   ],
   "source": [
    "for column in bike_df.columns:\n",
    "    if column not in bike_test.columns:\n",
    "        print(column)"
   ]
  },
  {
   "cell_type": "code",
   "execution_count": 5,
   "id": "95c21b4b",
   "metadata": {
    "execution": {
     "iopub.execute_input": "2025-05-15T06:10:55.325036Z",
     "iopub.status.busy": "2025-05-15T06:10:55.324783Z",
     "iopub.status.idle": "2025-05-15T06:10:55.330908Z",
     "shell.execute_reply": "2025-05-15T06:10:55.330308Z"
    },
    "papermill": {
     "duration": 0.015721,
     "end_time": "2025-05-15T06:10:55.332087",
     "exception": false,
     "start_time": "2025-05-15T06:10:55.316366",
     "status": "completed"
    },
    "tags": []
   },
   "outputs": [
    {
     "data": {
      "text/plain": [
       "Index(['datetime', 'season', 'holiday', 'workingday', 'weather', 'temp',\n",
       "       'atemp', 'humidity', 'windspeed', 'casual', 'registered', 'count'],\n",
       "      dtype='object')"
      ]
     },
     "execution_count": 5,
     "metadata": {},
     "output_type": "execute_result"
    }
   ],
   "source": [
    "bike_df.columns"
   ]
  },
  {
   "cell_type": "markdown",
   "id": "eb56d025",
   "metadata": {
    "papermill": {
     "duration": 0.007722,
     "end_time": "2025-05-15T06:10:55.347393",
     "exception": false,
     "start_time": "2025-05-15T06:10:55.339671",
     "status": "completed"
    },
    "tags": []
   },
   "source": [
    "## Column Analysis\n",
    "\n",
    "* Target = count\n",
    "* count = casual + registered\n",
    "* train: 'datetime', 'season', 'holiday', 'workingday', 'weather', 'temp',\n",
    "       'atemp', 'humidity', 'windspeed', 'casual', 'registered', 'count'\n",
    "* test: 'datetime', 'season', 'holiday', 'workingday', 'weather', 'temp',\n",
    "       'atemp', 'humidity', 'windspeed'"
   ]
  },
  {
   "cell_type": "code",
   "execution_count": 6,
   "id": "852f02c9",
   "metadata": {
    "execution": {
     "iopub.execute_input": "2025-05-15T06:10:55.364114Z",
     "iopub.status.busy": "2025-05-15T06:10:55.363844Z",
     "iopub.status.idle": "2025-05-15T06:10:55.369164Z",
     "shell.execute_reply": "2025-05-15T06:10:55.368493Z"
    },
    "papermill": {
     "duration": 0.015413,
     "end_time": "2025-05-15T06:10:55.370484",
     "exception": false,
     "start_time": "2025-05-15T06:10:55.355071",
     "status": "completed"
    },
    "tags": []
   },
   "outputs": [
    {
     "data": {
      "text/plain": [
       "(10886, 6493, 0.5964541613081021)"
      ]
     },
     "execution_count": 6,
     "metadata": {},
     "output_type": "execute_result"
    }
   ],
   "source": [
    "bike_df.shape[0], bike_test.shape[0], bike_test.shape[0] / bike_df.shape[0]"
   ]
  },
  {
   "cell_type": "markdown",
   "id": "17a2d0f7",
   "metadata": {
    "papermill": {
     "duration": 0.007819,
     "end_time": "2025-05-15T06:10:55.386381",
     "exception": false,
     "start_time": "2025-05-15T06:10:55.378562",
     "status": "completed"
    },
    "tags": []
   },
   "source": [
    "Train : Test ~= 3 : 5"
   ]
  },
  {
   "cell_type": "markdown",
   "id": "82371f78",
   "metadata": {
    "papermill": {
     "duration": 0.007478,
     "end_time": "2025-05-15T06:10:55.401798",
     "exception": false,
     "start_time": "2025-05-15T06:10:55.394320",
     "status": "completed"
    },
    "tags": []
   },
   "source": [
    "## Data Type Adjustment"
   ]
  },
  {
   "cell_type": "code",
   "execution_count": 7,
   "id": "b0a60834",
   "metadata": {
    "execution": {
     "iopub.execute_input": "2025-05-15T06:10:55.418695Z",
     "iopub.status.busy": "2025-05-15T06:10:55.418091Z",
     "iopub.status.idle": "2025-05-15T06:10:55.438937Z",
     "shell.execute_reply": "2025-05-15T06:10:55.437791Z"
    },
    "papermill": {
     "duration": 0.031157,
     "end_time": "2025-05-15T06:10:55.440614",
     "exception": false,
     "start_time": "2025-05-15T06:10:55.409457",
     "status": "completed"
    },
    "tags": []
   },
   "outputs": [
    {
     "name": "stdout",
     "output_type": "stream",
     "text": [
      "<class 'pandas.core.frame.DataFrame'>\n",
      "RangeIndex: 10886 entries, 0 to 10885\n",
      "Data columns (total 12 columns):\n",
      " #   Column      Non-Null Count  Dtype  \n",
      "---  ------      --------------  -----  \n",
      " 0   datetime    10886 non-null  object \n",
      " 1   season      10886 non-null  int64  \n",
      " 2   holiday     10886 non-null  int64  \n",
      " 3   workingday  10886 non-null  int64  \n",
      " 4   weather     10886 non-null  int64  \n",
      " 5   temp        10886 non-null  float64\n",
      " 6   atemp       10886 non-null  float64\n",
      " 7   humidity    10886 non-null  int64  \n",
      " 8   windspeed   10886 non-null  float64\n",
      " 9   casual      10886 non-null  int64  \n",
      " 10  registered  10886 non-null  int64  \n",
      " 11  count       10886 non-null  int64  \n",
      "dtypes: float64(3), int64(8), object(1)\n",
      "memory usage: 1020.7+ KB\n"
     ]
    }
   ],
   "source": [
    "bike_df.info()"
   ]
  },
  {
   "cell_type": "code",
   "execution_count": 8,
   "id": "85820c13",
   "metadata": {
    "execution": {
     "iopub.execute_input": "2025-05-15T06:10:55.458415Z",
     "iopub.status.busy": "2025-05-15T06:10:55.457830Z",
     "iopub.status.idle": "2025-05-15T06:10:59.754975Z",
     "shell.execute_reply": "2025-05-15T06:10:59.754294Z"
    },
    "papermill": {
     "duration": 4.307776,
     "end_time": "2025-05-15T06:10:59.756540",
     "exception": false,
     "start_time": "2025-05-15T06:10:55.448764",
     "status": "completed"
    },
    "tags": []
   },
   "outputs": [],
   "source": [
    "bike_df['datetime'] = bike_df['datetime'].apply(pd.to_datetime)"
   ]
  },
  {
   "cell_type": "code",
   "execution_count": 9,
   "id": "d24cbdd5",
   "metadata": {
    "execution": {
     "iopub.execute_input": "2025-05-15T06:10:59.774046Z",
     "iopub.status.busy": "2025-05-15T06:10:59.773787Z",
     "iopub.status.idle": "2025-05-15T06:10:59.839212Z",
     "shell.execute_reply": "2025-05-15T06:10:59.838306Z"
    },
    "papermill": {
     "duration": 0.075895,
     "end_time": "2025-05-15T06:10:59.840762",
     "exception": false,
     "start_time": "2025-05-15T06:10:59.764867",
     "status": "completed"
    },
    "tags": []
   },
   "outputs": [
    {
     "data": {
      "text/html": [
       "<div>\n",
       "<style scoped>\n",
       "    .dataframe tbody tr th:only-of-type {\n",
       "        vertical-align: middle;\n",
       "    }\n",
       "\n",
       "    .dataframe tbody tr th {\n",
       "        vertical-align: top;\n",
       "    }\n",
       "\n",
       "    .dataframe thead th {\n",
       "        text-align: right;\n",
       "    }\n",
       "</style>\n",
       "<table border=\"1\" class=\"dataframe\">\n",
       "  <thead>\n",
       "    <tr style=\"text-align: right;\">\n",
       "      <th></th>\n",
       "      <th>season</th>\n",
       "      <th>holiday</th>\n",
       "      <th>workingday</th>\n",
       "      <th>weather</th>\n",
       "      <th>temp</th>\n",
       "      <th>atemp</th>\n",
       "      <th>humidity</th>\n",
       "      <th>windspeed</th>\n",
       "      <th>count</th>\n",
       "      <th>year</th>\n",
       "      <th>month</th>\n",
       "      <th>day</th>\n",
       "      <th>hour</th>\n",
       "    </tr>\n",
       "  </thead>\n",
       "  <tbody>\n",
       "    <tr>\n",
       "      <th>0</th>\n",
       "      <td>1</td>\n",
       "      <td>0</td>\n",
       "      <td>0</td>\n",
       "      <td>1</td>\n",
       "      <td>9.84</td>\n",
       "      <td>14.395</td>\n",
       "      <td>81</td>\n",
       "      <td>0.0</td>\n",
       "      <td>16</td>\n",
       "      <td>2011</td>\n",
       "      <td>1</td>\n",
       "      <td>1</td>\n",
       "      <td>0</td>\n",
       "    </tr>\n",
       "    <tr>\n",
       "      <th>1</th>\n",
       "      <td>1</td>\n",
       "      <td>0</td>\n",
       "      <td>0</td>\n",
       "      <td>1</td>\n",
       "      <td>9.02</td>\n",
       "      <td>13.635</td>\n",
       "      <td>80</td>\n",
       "      <td>0.0</td>\n",
       "      <td>40</td>\n",
       "      <td>2011</td>\n",
       "      <td>1</td>\n",
       "      <td>1</td>\n",
       "      <td>1</td>\n",
       "    </tr>\n",
       "    <tr>\n",
       "      <th>2</th>\n",
       "      <td>1</td>\n",
       "      <td>0</td>\n",
       "      <td>0</td>\n",
       "      <td>1</td>\n",
       "      <td>9.02</td>\n",
       "      <td>13.635</td>\n",
       "      <td>80</td>\n",
       "      <td>0.0</td>\n",
       "      <td>32</td>\n",
       "      <td>2011</td>\n",
       "      <td>1</td>\n",
       "      <td>1</td>\n",
       "      <td>2</td>\n",
       "    </tr>\n",
       "  </tbody>\n",
       "</table>\n",
       "</div>"
      ],
      "text/plain": [
       "   season  holiday  workingday  weather  temp   atemp  humidity  windspeed  \\\n",
       "0       1        0           0        1  9.84  14.395        81        0.0   \n",
       "1       1        0           0        1  9.02  13.635        80        0.0   \n",
       "2       1        0           0        1  9.02  13.635        80        0.0   \n",
       "\n",
       "   count  year  month  day  hour  \n",
       "0     16  2011      1    1     0  \n",
       "1     40  2011      1    1     1  \n",
       "2     32  2011      1    1     2  "
      ]
     },
     "execution_count": 9,
     "metadata": {},
     "output_type": "execute_result"
    }
   ],
   "source": [
    "# datetime 타입에서 년, 월, 일, 시간 추출\n",
    "bike_df['year'] = bike_df.datetime.apply(lambda x : x.year)\n",
    "bike_df['month'] = bike_df.datetime.apply(lambda x : x.month)\n",
    "bike_df['day'] = bike_df.datetime.apply(lambda x : x.day)\n",
    "bike_df['hour'] = bike_df.datetime.apply(lambda x: x.hour)\n",
    "\n",
    "drop_columns = ['datetime','casual','registered'] # count = casual + registered\n",
    "bike_df.drop(drop_columns, axis=1,inplace=True)\n",
    "bike_df.head(3)"
   ]
  },
  {
   "cell_type": "markdown",
   "id": "bc91330b",
   "metadata": {
    "papermill": {
     "duration": 0.007935,
     "end_time": "2025-05-15T06:10:59.857824",
     "exception": false,
     "start_time": "2025-05-15T06:10:59.849889",
     "status": "completed"
    },
    "tags": []
   },
   "source": [
    "## Column Type Classification\n",
    "\n",
    "* Category: season, holiday, weather, workingday, year, month, day, hour\n",
    "* Numerical Variables\n",
    "    * Continuous: temp, atemp, windspeed\n",
    "    * Discrete: humidity, count"
   ]
  },
  {
   "cell_type": "code",
   "execution_count": 10,
   "id": "cfb3af03",
   "metadata": {
    "execution": {
     "iopub.execute_input": "2025-05-15T06:10:59.875522Z",
     "iopub.status.busy": "2025-05-15T06:10:59.875173Z",
     "iopub.status.idle": "2025-05-15T06:11:03.534655Z",
     "shell.execute_reply": "2025-05-15T06:11:03.533796Z"
    },
    "papermill": {
     "duration": 3.670049,
     "end_time": "2025-05-15T06:11:03.536076",
     "exception": false,
     "start_time": "2025-05-15T06:10:59.866027",
     "status": "completed"
    },
    "tags": []
   },
   "outputs": [
    {
     "data": {
      "image/png": "[encoded data removed]",
      "text/plain": [
       "<Figure size 1600x800 with 8 Axes>"
      ]
     },
     "metadata": {},
     "output_type": "display_data"
    }
   ],
   "source": [
    "fig, axs = plt.subplots(figsize=(16, 8), ncols=4, nrows=2)\n",
    "cat_features = ['year', 'month','season','weather','day', 'hour', 'holiday','workingday']\n",
    "# cat_features에 있는 모든 칼럼별로 개별 칼럼값에 따른 count의 합을 barplot으로 시각화\n",
    "for i, feature in enumerate(cat_features):\n",
    "    row = int(i/4)\n",
    "    col = i%4\n",
    "    # 시본의 barplot을 이용해 칼럼값에 따른 count의 합을 표현\n",
    "    sns.barplot(x=feature, y='count', data=bike_df, ax=axs[row][col])"
   ]
  },
  {
   "cell_type": "markdown",
   "id": "05263b5e",
   "metadata": {
    "papermill": {
     "duration": 0.009278,
     "end_time": "2025-05-15T06:11:03.555221",
     "exception": false,
     "start_time": "2025-05-15T06:11:03.545943",
     "status": "completed"
    },
    "tags": []
   },
   "source": [
    "# Function Definition"
   ]
  },
  {
   "cell_type": "markdown",
   "id": "e157eb7e",
   "metadata": {
    "papermill": {
     "duration": 0.069155,
     "end_time": "2025-05-15T06:11:03.633795",
     "exception": false,
     "start_time": "2025-05-15T06:11:03.564640",
     "status": "completed"
    },
    "tags": []
   },
   "source": [
    "## rmsle"
   ]
  },
  {
   "cell_type": "markdown",
   "id": "78a64a34",
   "metadata": {
    "papermill": {
     "duration": 0.009256,
     "end_time": "2025-05-15T06:11:03.652323",
     "exception": false,
     "start_time": "2025-05-15T06:11:03.643067",
     "status": "completed"
    },
    "tags": []
   },
   "source": [
    "log1p() 를 이용하여 RMSLE 계산한 값을 출력"
   ]
  },
  {
   "cell_type": "code",
   "execution_count": 11,
   "id": "9c950b93",
   "metadata": {
    "execution": {
     "iopub.execute_input": "2025-05-15T06:11:03.671978Z",
     "iopub.status.busy": "2025-05-15T06:11:03.671680Z",
     "iopub.status.idle": "2025-05-15T06:11:03.889157Z",
     "shell.execute_reply": "2025-05-15T06:11:03.888300Z"
    },
    "papermill": {
     "duration": 0.2295,
     "end_time": "2025-05-15T06:11:03.890937",
     "exception": false,
     "start_time": "2025-05-15T06:11:03.661437",
     "status": "completed"
    },
    "tags": []
   },
   "outputs": [],
   "source": [
    "from sklearn.metrics import mean_squared_error, mean_absolute_error\n",
    "\n",
    "def rmsle(y, pred):\n",
    "    log_y = np.log1p(y)\n",
    "    log_pred = np.log1p(pred)\n",
    "    squared_error = (log_y - log_pred) ** 2\n",
    "    rmsle = np.sqrt(np.mean(squared_error))\n",
    "    return rmsle"
   ]
  },
  {
   "cell_type": "markdown",
   "id": "14564fb0",
   "metadata": {
    "papermill": {
     "duration": 0.009288,
     "end_time": "2025-05-15T06:11:03.909956",
     "exception": false,
     "start_time": "2025-05-15T06:11:03.900668",
     "status": "completed"
    },
    "tags": []
   },
   "source": [
    "## rmse"
   ]
  },
  {
   "cell_type": "markdown",
   "id": "7f61f27e",
   "metadata": {
    "papermill": {
     "duration": 0.009155,
     "end_time": "2025-05-15T06:11:03.928388",
     "exception": false,
     "start_time": "2025-05-15T06:11:03.919233",
     "status": "completed"
    },
    "tags": []
   },
   "source": [
    "MSE를 입력받아 RMSE 계산한 값을 출력"
   ]
  },
  {
   "cell_type": "code",
   "execution_count": 12,
   "id": "5f1089a9",
   "metadata": {
    "execution": {
     "iopub.execute_input": "2025-05-15T06:11:03.948015Z",
     "iopub.status.busy": "2025-05-15T06:11:03.947722Z",
     "iopub.status.idle": "2025-05-15T06:11:03.951704Z",
     "shell.execute_reply": "2025-05-15T06:11:03.951048Z"
    },
    "papermill": {
     "duration": 0.015218,
     "end_time": "2025-05-15T06:11:03.952919",
     "exception": false,
     "start_time": "2025-05-15T06:11:03.937701",
     "status": "completed"
    },
    "tags": []
   },
   "outputs": [],
   "source": [
    "def rmse(y,pred):\n",
    "    return np.sqrt(mean_squared_error(y,pred))"
   ]
  },
  {
   "cell_type": "markdown",
   "id": "37112621",
   "metadata": {
    "papermill": {
     "duration": 0.00907,
     "end_time": "2025-05-15T06:11:03.971379",
     "exception": false,
     "start_time": "2025-05-15T06:11:03.962309",
     "status": "completed"
    },
    "tags": []
   },
   "source": [
    "## evaluate_regr"
   ]
  },
  {
   "cell_type": "markdown",
   "id": "ac72ac8a",
   "metadata": {
    "papermill": {
     "duration": 0.008947,
     "end_time": "2025-05-15T06:11:03.989637",
     "exception": false,
     "start_time": "2025-05-15T06:11:03.980690",
     "status": "completed"
    },
    "tags": []
   },
   "source": [
    "MSE, RMSE, RMSLE 를 각각 계산하여 print함수를 이용해 한 줄로 결과값 출력"
   ]
  },
  {
   "cell_type": "code",
   "execution_count": 13,
   "id": "183f9d58",
   "metadata": {
    "execution": {
     "iopub.execute_input": "2025-05-15T06:11:04.009785Z",
     "iopub.status.busy": "2025-05-15T06:11:04.009460Z",
     "iopub.status.idle": "2025-05-15T06:11:04.013733Z",
     "shell.execute_reply": "2025-05-15T06:11:04.013095Z"
    },
    "papermill": {
     "duration": 0.016281,
     "end_time": "2025-05-15T06:11:04.014966",
     "exception": false,
     "start_time": "2025-05-15T06:11:03.998685",
     "status": "completed"
    },
    "tags": []
   },
   "outputs": [],
   "source": [
    "def evaluate_regr(y,pred):\n",
    "    rmsle_val = rmsle(y,pred)\n",
    "    rmse_val = rmse(y,pred)\n",
    "    # MAE 는 scikit learn의 mean_absolute_error() 로 계산\n",
    "    mae_val = mean_absolute_error(y,pred)\n",
    "    print('RMSLE: {0:.3f}, RMSE: {1:.3F}, MAE: {2:.3F}'.format(rmsle_val, rmse_val, mae_val))"
   ]
  },
  {
   "cell_type": "markdown",
   "id": "1dbd8ab2",
   "metadata": {
    "papermill": {
     "duration": 0.009154,
     "end_time": "2025-05-15T06:11:04.033554",
     "exception": false,
     "start_time": "2025-05-15T06:11:04.024400",
     "status": "completed"
    },
    "tags": []
   },
   "source": [
    "## get_top_error_data"
   ]
  },
  {
   "cell_type": "markdown",
   "id": "2d4b7145",
   "metadata": {
    "papermill": {
     "duration": 0.008985,
     "end_time": "2025-05-15T06:11:04.051866",
     "exception": false,
     "start_time": "2025-05-15T06:11:04.042881",
     "status": "completed"
    },
    "tags": []
   },
   "source": [
    "예측값과 실제값을 입력받아서 그 중 차이가 가장 큰 것을 내림차순으로 출력"
   ]
  },
  {
   "cell_type": "code",
   "execution_count": 14,
   "id": "d8ca9a11",
   "metadata": {
    "execution": {
     "iopub.execute_input": "2025-05-15T06:11:04.071576Z",
     "iopub.status.busy": "2025-05-15T06:11:04.071235Z",
     "iopub.status.idle": "2025-05-15T06:11:04.076054Z",
     "shell.execute_reply": "2025-05-15T06:11:04.075468Z"
    },
    "papermill": {
     "duration": 0.01639,
     "end_time": "2025-05-15T06:11:04.077307",
     "exception": false,
     "start_time": "2025-05-15T06:11:04.060917",
     "status": "completed"
    },
    "tags": []
   },
   "outputs": [],
   "source": [
    "def get_top_error_data(y_test, pred, n_tops = 5):\n",
    "    # DataFrame에 컬럼들로 실제 대여횟수(count)와 예측 값을 서로 비교 할 수 있도록 생성. \n",
    "    result_df = pd.DataFrame(y_test.values, columns=['real_count'])\n",
    "    result_df['predicted_count']= np.round(pred)\n",
    "    result_df['diff'] = np.abs(result_df['real_count'] - result_df['predicted_count'])\n",
    "    # 예측값과 실제값이 가장 큰 데이터 순으로 출력. \n",
    "    print(result_df.sort_values('diff', ascending=False)[:n_tops])"
   ]
  },
  {
   "cell_type": "markdown",
   "id": "005f96cd",
   "metadata": {
    "papermill": {
     "duration": 0.009075,
     "end_time": "2025-05-15T06:11:04.095649",
     "exception": false,
     "start_time": "2025-05-15T06:11:04.086574",
     "status": "completed"
    },
    "tags": []
   },
   "source": [
    "# Modeling & Evaluation"
   ]
  },
  {
   "cell_type": "markdown",
   "id": "d8ca66aa",
   "metadata": {
    "papermill": {
     "duration": 0.009045,
     "end_time": "2025-05-15T06:11:04.113755",
     "exception": false,
     "start_time": "2025-05-15T06:11:04.104710",
     "status": "completed"
    },
    "tags": []
   },
   "source": [
    "## Linear Regression"
   ]
  },
  {
   "cell_type": "code",
   "execution_count": 15,
   "id": "54c82e15",
   "metadata": {
    "execution": {
     "iopub.execute_input": "2025-05-15T06:11:04.132954Z",
     "iopub.status.busy": "2025-05-15T06:11:04.132661Z",
     "iopub.status.idle": "2025-05-15T06:11:04.272837Z",
     "shell.execute_reply": "2025-05-15T06:11:04.270804Z"
    },
    "papermill": {
     "duration": 0.15181,
     "end_time": "2025-05-15T06:11:04.274518",
     "exception": false,
     "start_time": "2025-05-15T06:11:04.122708",
     "status": "completed"
    },
    "tags": []
   },
   "outputs": [
    {
     "name": "stdout",
     "output_type": "stream",
     "text": [
      "RMSLE: 1.168, RMSE: 140.828, MAE: 105.882\n"
     ]
    }
   ],
   "source": [
    "from sklearn.model_selection import train_test_split , GridSearchCV\n",
    "from sklearn.linear_model import LinearRegression , Ridge , Lasso\n",
    "\n",
    "y_target = bike_df['count']\n",
    "drop_col = ['count','day','temp'] # Target, Split Standard, temp ~= atepm but less descriptive\n",
    "X_features = bike_df.drop(drop_col,axis=1,inplace=False)\n",
    "\n",
    "X_train, X_test, y_train, y_test = train_test_split(X_features, y_target, test_size=0.3, random_state=0)\n",
    "\n",
    "lr_reg = LinearRegression()\n",
    "lr_reg.fit(X_train, y_train)\n",
    "pred = lr_reg.predict(X_test)\n",
    "\n",
    "evaluate_regr(y_test ,pred)"
   ]
  },
  {
   "cell_type": "code",
   "execution_count": 16,
   "id": "e6366f01",
   "metadata": {
    "execution": {
     "iopub.execute_input": "2025-05-15T06:11:04.309086Z",
     "iopub.status.busy": "2025-05-15T06:11:04.308769Z",
     "iopub.status.idle": "2025-05-15T06:11:04.319564Z",
     "shell.execute_reply": "2025-05-15T06:11:04.318687Z"
    },
    "papermill": {
     "duration": 0.029051,
     "end_time": "2025-05-15T06:11:04.321022",
     "exception": false,
     "start_time": "2025-05-15T06:11:04.291971",
     "status": "completed"
    },
    "tags": []
   },
   "outputs": [
    {
     "name": "stdout",
     "output_type": "stream",
     "text": [
      "      real_count  predicted_count   diff\n",
      "1618         890            319.0  571.0\n",
      "966          884            324.0  560.0\n",
      "3151         798            246.0  552.0\n",
      "412          745            195.0  550.0\n",
      "2314         766            221.0  545.0\n"
     ]
    }
   ],
   "source": [
    "get_top_error_data(y_test,pred,n_tops=5)"
   ]
  },
  {
   "cell_type": "code",
   "execution_count": 17,
   "id": "f0cbafd0",
   "metadata": {
    "execution": {
     "iopub.execute_input": "2025-05-15T06:11:04.354286Z",
     "iopub.status.busy": "2025-05-15T06:11:04.353647Z",
     "iopub.status.idle": "2025-05-15T06:11:04.649389Z",
     "shell.execute_reply": "2025-05-15T06:11:04.648448Z"
    },
    "papermill": {
     "duration": 0.314084,
     "end_time": "2025-05-15T06:11:04.650939",
     "exception": false,
     "start_time": "2025-05-15T06:11:04.336855",
     "status": "completed"
    },
    "tags": []
   },
   "outputs": [
    {
     "data": {
      "text/plain": [
       "<Axes: >"
      ]
     },
     "execution_count": 17,
     "metadata": {},
     "output_type": "execute_result"
    },
    {
     "data": {
      "image/png": "[encoded data removed]",
      "text/plain": [
       "<Figure size 640x480 with 1 Axes>"
      ]
     },
     "metadata": {},
     "output_type": "display_data"
    }
   ],
   "source": [
    "y_target.hist(bins = 50)"
   ]
  },
  {
   "cell_type": "markdown",
   "id": "15a3d794",
   "metadata": {
    "papermill": {
     "duration": 0.009534,
     "end_time": "2025-05-15T06:11:04.670593",
     "exception": false,
     "start_time": "2025-05-15T06:11:04.661059",
     "status": "completed"
    },
    "tags": []
   },
   "source": [
    "## y_target: Log Scaling"
   ]
  },
  {
   "cell_type": "code",
   "execution_count": 18,
   "id": "a6a5d859",
   "metadata": {
    "execution": {
     "iopub.execute_input": "2025-05-15T06:11:04.691063Z",
     "iopub.status.busy": "2025-05-15T06:11:04.690750Z",
     "iopub.status.idle": "2025-05-15T06:11:04.924801Z",
     "shell.execute_reply": "2025-05-15T06:11:04.923874Z"
    },
    "papermill": {
     "duration": 0.246004,
     "end_time": "2025-05-15T06:11:04.926187",
     "exception": false,
     "start_time": "2025-05-15T06:11:04.680183",
     "status": "completed"
    },
    "tags": []
   },
   "outputs": [
    {
     "data": {
      "text/plain": [
       "<Axes: >"
      ]
     },
     "execution_count": 18,
     "metadata": {},
     "output_type": "execute_result"
    },
    {
     "data": {
      "image/png": "[encoded data removed]",
      "text/plain": [
       "<Figure size 640x480 with 1 Axes>"
      ]
     },
     "metadata": {},
     "output_type": "display_data"
    }
   ],
   "source": [
    "y_log_transform = np.log1p(y_target)\n",
    "y_log_transform.hist(bins = 50)"
   ]
  },
  {
   "cell_type": "markdown",
   "id": "d0eee8e1",
   "metadata": {
    "papermill": {
     "duration": 0.011715,
     "end_time": "2025-05-15T06:11:04.948669",
     "exception": false,
     "start_time": "2025-05-15T06:11:04.936954",
     "status": "completed"
    },
    "tags": []
   },
   "source": [
    "Scaled Data Set Split & Linear Regression Modeling Evaluation"
   ]
  },
  {
   "cell_type": "markdown",
   "id": "a13a90ec",
   "metadata": {
    "papermill": {
     "duration": 0.009443,
     "end_time": "2025-05-15T06:11:04.968554",
     "exception": false,
     "start_time": "2025-05-15T06:11:04.959111",
     "status": "completed"
    },
    "tags": []
   },
   "source": [
    "## Reevaluation"
   ]
  },
  {
   "cell_type": "code",
   "execution_count": 19,
   "id": "9fa09fc5",
   "metadata": {
    "execution": {
     "iopub.execute_input": "2025-05-15T06:11:04.989428Z",
     "iopub.status.busy": "2025-05-15T06:11:04.989109Z",
     "iopub.status.idle": "2025-05-15T06:11:05.010577Z",
     "shell.execute_reply": "2025-05-15T06:11:05.009870Z"
    },
    "papermill": {
     "duration": 0.03396,
     "end_time": "2025-05-15T06:11:05.012151",
     "exception": false,
     "start_time": "2025-05-15T06:11:04.978191",
     "status": "completed"
    },
    "tags": []
   },
   "outputs": [
    {
     "name": "stdout",
     "output_type": "stream",
     "text": [
      "RMSLE: 1.017, RMSE: 162.572, MAE: 109.230\n"
     ]
    }
   ],
   "source": [
    "# 타깃 칼럼인 count 값을 log1p로 로그 변환\n",
    "y_target_log = np.log1p(y_target)\n",
    "\n",
    "# 로그 변환된 y_target_log를 반영하여 학습/테스트 데이터 셋 분할\n",
    "X_train, X_test, y_train, y_test = train_test_split(X_features, y_target_log, test_size=0.3, random_state=0)\n",
    "lr_reg = LinearRegression()\n",
    "lr_reg.fit(X_train, y_train)\n",
    "pred = lr_reg.predict(X_test)\n",
    "\n",
    "# 테스트 데이터 셋의 Target 값은 Log 변환되었으므로 다시 expm1를 이용하여 원래 scale로 변환\n",
    "y_test_exp = np.expm1(y_test)\n",
    "\n",
    "# 예측 값 역시 Log 변환된 타깃 기반으로 학습되어 예측되었으므로 다시 exmpl으로 scale변환\n",
    "pred_exp = np.expm1(pred)\n",
    "\n",
    "evaluate_regr(y_test_exp ,pred_exp)"
   ]
  },
  {
   "cell_type": "markdown",
   "id": "624adf5c",
   "metadata": {
    "papermill": {
     "duration": 0.009918,
     "end_time": "2025-05-15T06:11:05.035838",
     "exception": false,
     "start_time": "2025-05-15T06:11:05.025920",
     "status": "completed"
    },
    "tags": []
   },
   "source": [
    "* Result: Even worse than before scaling"
   ]
  },
  {
   "cell_type": "code",
   "execution_count": 20,
   "id": "c05de1d8",
   "metadata": {
    "execution": {
     "iopub.execute_input": "2025-05-15T06:11:05.056843Z",
     "iopub.status.busy": "2025-05-15T06:11:05.056554Z",
     "iopub.status.idle": "2025-05-15T06:11:05.523766Z",
     "shell.execute_reply": "2025-05-15T06:11:05.522751Z"
    },
    "papermill": {
     "duration": 0.479493,
     "end_time": "2025-05-15T06:11:05.525203",
     "exception": false,
     "start_time": "2025-05-15T06:11:05.045710",
     "status": "completed"
    },
    "tags": []
   },
   "outputs": [
    {
     "data": {
      "image/png": "[encoded data removed]",
      "text/plain": [
       "<Figure size 640x480 with 1 Axes>"
      ]
     },
     "metadata": {},
     "output_type": "display_data"
    }
   ],
   "source": [
    "coef = pd.Series(lr_reg.coef_, index=X_features.columns)\n",
    "coef_sort = coef.sort_values(ascending=False)\n",
    "sns.barplot(x=coef_sort.values, y=coef_sort.index)\n",
    "plt.savefig('log_transform.png', format='png', dpi=300, bbox_inches='tight')"
   ]
  },
  {
   "cell_type": "markdown",
   "id": "64d633ad",
   "metadata": {
    "papermill": {
     "duration": 0.011126,
     "end_time": "2025-05-15T06:11:05.548529",
     "exception": false,
     "start_time": "2025-05-15T06:11:05.537403",
     "status": "completed"
    },
    "tags": []
   },
   "source": [
    "### Coefficiant index Ananlysis\n",
    "* Important Columns: Year\n",
    "* Unrelevant Columns: windspeed"
   ]
  },
  {
   "cell_type": "markdown",
   "id": "e5ddc6a8",
   "metadata": {
    "papermill": {
     "duration": 0.010448,
     "end_time": "2025-05-15T06:11:05.569908",
     "exception": false,
     "start_time": "2025-05-15T06:11:05.559460",
     "status": "completed"
    },
    "tags": []
   },
   "source": [
    "## X_category_features Ont-hot Encoding"
   ]
  },
  {
   "cell_type": "code",
   "execution_count": 21,
   "id": "56545b8d",
   "metadata": {
    "execution": {
     "iopub.execute_input": "2025-05-15T06:11:05.592502Z",
     "iopub.status.busy": "2025-05-15T06:11:05.591773Z",
     "iopub.status.idle": "2025-05-15T06:11:05.604942Z",
     "shell.execute_reply": "2025-05-15T06:11:05.604011Z"
    },
    "papermill": {
     "duration": 0.026523,
     "end_time": "2025-05-15T06:11:05.606762",
     "exception": false,
     "start_time": "2025-05-15T06:11:05.580239",
     "status": "completed"
    },
    "tags": []
   },
   "outputs": [],
   "source": [
    "# 'year', month', 'day', hour'등의 피처들을 One Hot Encoding\n",
    "X_features_ohe = pd.get_dummies(X_features, \n",
    "                                columns = ['year', 'month', 'holiday','workingday','season','weather'], #hour 노미미\n",
    "                                drop_first=True\n",
    "                               )"
   ]
  },
  {
   "cell_type": "markdown",
   "id": "b5395638",
   "metadata": {
    "papermill": {
     "duration": 0.019662,
     "end_time": "2025-05-15T06:11:05.647974",
     "exception": false,
     "start_time": "2025-05-15T06:11:05.628312",
     "status": "completed"
    },
    "tags": []
   },
   "source": [
    "### Re-Evaluation"
   ]
  },
  {
   "cell_type": "code",
   "execution_count": 22,
   "id": "3cabe8ed",
   "metadata": {
    "execution": {
     "iopub.execute_input": "2025-05-15T06:11:05.674139Z",
     "iopub.status.busy": "2025-05-15T06:11:05.673377Z",
     "iopub.status.idle": "2025-05-15T06:11:05.809776Z",
     "shell.execute_reply": "2025-05-15T06:11:05.807219Z"
    },
    "papermill": {
     "duration": 0.151854,
     "end_time": "2025-05-15T06:11:05.813581",
     "exception": false,
     "start_time": "2025-05-15T06:11:05.661727",
     "status": "completed"
    },
    "tags": []
   },
   "outputs": [
    {
     "name": "stdout",
     "output_type": "stream",
     "text": [
      "### LinearRegression ###\n",
      "RMSLE: 1.004, RMSE: 159.126, MAE: 106.632\n",
      "### Ridge ###\n",
      "RMSLE: 1.004, RMSE: 159.136, MAE: 106.638\n",
      "### Lasso ###\n",
      "RMSLE: 1.009, RMSE: 160.774, MAE: 107.756\n"
     ]
    }
   ],
   "source": [
    "# 원-핫 인코딩이 적용된 feature 데이터 세트 기반으로 학습/예측 데이터 분할. \n",
    "X_train, X_test, y_train, y_test = train_test_split(X_features_ohe, y_target_log,\n",
    "                                                    test_size=0.3, random_state=0)\n",
    "\n",
    "# 모델과 학습/테스트 데이터 셋을 입력하면 성능 평가 수치를 반환\n",
    "def get_model_predict(model, X_train, X_test, y_train, y_test, is_expm1=False):\n",
    "    model.fit(X_train, y_train)\n",
    "    pred = model.predict(X_test)\n",
    "    if is_expm1 :\n",
    "        y_test = np.expm1(y_test)\n",
    "        pred = np.expm1(pred)\n",
    "    print('###',model.__class__.__name__,'###')\n",
    "    evaluate_regr(y_test, pred)\n",
    "# end of function get_model_predict    \n",
    "\n",
    "# model 별로 평가 수행\n",
    "lr_reg = LinearRegression()\n",
    "ridge_reg = Ridge(alpha=10)\n",
    "lasso_reg = Lasso(alpha=0.01)\n",
    "\n",
    "for model in [lr_reg, ridge_reg, lasso_reg]:\n",
    "    get_model_predict(model,X_train, X_test, y_train, y_test,is_expm1=True)"
   ]
  },
  {
   "cell_type": "code",
   "execution_count": 23,
   "id": "7671095c",
   "metadata": {
    "execution": {
     "iopub.execute_input": "2025-05-15T06:11:05.859012Z",
     "iopub.status.busy": "2025-05-15T06:11:05.858030Z",
     "iopub.status.idle": "2025-05-15T06:11:06.578822Z",
     "shell.execute_reply": "2025-05-15T06:11:06.577826Z"
    },
    "papermill": {
     "duration": 0.734254,
     "end_time": "2025-05-15T06:11:06.580650",
     "exception": false,
     "start_time": "2025-05-15T06:11:05.846396",
     "status": "completed"
    },
    "tags": []
   },
   "outputs": [
    {
     "data": {
      "image/png": "[encoded data removed]",
      "text/plain": [
       "<Figure size 640x480 with 1 Axes>"
      ]
     },
     "metadata": {},
     "output_type": "display_data"
    }
   ],
   "source": [
    "coef = pd.Series(lr_reg.coef_ , index=X_features_ohe.columns)\n",
    "coef_sort = coef.sort_values(ascending=False)\n",
    "sns.barplot(x=coef_sort.values , y=coef_sort.index)\n",
    "plt.savefig('one-hotencoded.png', format='png', dpi=300, bbox_inches='tight')"
   ]
  },
  {
   "cell_type": "code",
   "execution_count": 24,
   "id": "45d5dd66",
   "metadata": {
    "execution": {
     "iopub.execute_input": "2025-05-15T06:11:06.607533Z",
     "iopub.status.busy": "2025-05-15T06:11:06.606788Z",
     "iopub.status.idle": "2025-05-15T06:11:08.225938Z",
     "shell.execute_reply": "2025-05-15T06:11:08.225089Z"
    },
    "papermill": {
     "duration": 1.634196,
     "end_time": "2025-05-15T06:11:08.228124",
     "exception": false,
     "start_time": "2025-05-15T06:11:06.593928",
     "status": "completed"
    },
    "tags": []
   },
   "outputs": [
    {
     "data": {
      "image/png": "[encoded data removed]",
      "text/plain": [
       "<Figure size 1200x1000 with 2 Axes>"
      ]
     },
     "metadata": {},
     "output_type": "display_data"
    }
   ],
   "source": [
    "corr_matrix = X_features_ohe.corr()\n",
    "\n",
    "# 2. 히트맵 시각화\n",
    "plt.figure(figsize=(12, 10))  # 크기 조정\n",
    "sns.heatmap(corr_matrix, cmap='coolwarm', square=True,\n",
    "            cbar_kws={\"shrink\": 0.8}, linewidths=0.5)\n",
    "\n",
    "plt.title('Feature Correlation Heatmap')\n",
    "plt.tight_layout()\n",
    "plt.savefig('correlation_heatmap.png', dpi=300)\n",
    "plt.show()"
   ]
  },
  {
   "cell_type": "code",
   "execution_count": 25,
   "id": "36956963",
   "metadata": {
    "execution": {
     "iopub.execute_input": "2025-05-15T06:11:08.257734Z",
     "iopub.status.busy": "2025-05-15T06:11:08.257148Z",
     "iopub.status.idle": "2025-05-15T06:11:08.262484Z",
     "shell.execute_reply": "2025-05-15T06:11:08.261712Z"
    },
    "papermill": {
     "duration": 0.020635,
     "end_time": "2025-05-15T06:11:08.263846",
     "exception": false,
     "start_time": "2025-05-15T06:11:08.243211",
     "status": "completed"
    },
    "tags": []
   },
   "outputs": [
    {
     "data": {
      "text/plain": [
       "False"
      ]
     },
     "execution_count": 25,
     "metadata": {},
     "output_type": "execute_result"
    }
   ],
   "source": [
    "X_features_ohe.columns.duplicated().any()"
   ]
  },
  {
   "cell_type": "code",
   "execution_count": 26,
   "id": "f3501ba0",
   "metadata": {
    "execution": {
     "iopub.execute_input": "2025-05-15T06:11:08.291968Z",
     "iopub.status.busy": "2025-05-15T06:11:08.291694Z",
     "iopub.status.idle": "2025-05-15T06:11:08.299937Z",
     "shell.execute_reply": "2025-05-15T06:11:08.299177Z"
    },
    "papermill": {
     "duration": 0.023573,
     "end_time": "2025-05-15T06:11:08.301288",
     "exception": false,
     "start_time": "2025-05-15T06:11:08.277715",
     "status": "completed"
    },
    "tags": []
   },
   "outputs": [
    {
     "data": {
      "text/plain": [
       " 0.053835    1\n",
       "-0.014444    1\n",
       " 0.004920    1\n",
       " 0.096557    1\n",
       " 0.398546    1\n",
       " 0.057870    1\n",
       " 0.056626    1\n",
       "-0.025007    1\n",
       " 0.198729    1\n",
       "-0.026363    1\n",
       "-0.130598    1\n",
       "-0.022883    1\n",
       " 0.229165    1\n",
       " 0.089360    1\n",
       " 0.143162    1\n",
       " 0.225712    1\n",
       "-0.056012    1\n",
       "-0.065896    1\n",
       " 0.147359    1\n",
       " 0.075684    1\n",
       " 0.458234    1\n",
       " 0.124515    1\n",
       "-0.254583    1\n",
       " 1.007798    1\n",
       "Name: count, dtype: int64"
      ]
     },
     "execution_count": 26,
     "metadata": {},
     "output_type": "execute_result"
    }
   ],
   "source": [
    "coef.value_counts()"
   ]
  },
  {
   "cell_type": "markdown",
   "id": "e949ddc8",
   "metadata": {
    "papermill": {
     "duration": 0.013308,
     "end_time": "2025-05-15T06:11:08.327886",
     "exception": false,
     "start_time": "2025-05-15T06:11:08.314578",
     "status": "completed"
    },
    "tags": []
   },
   "source": [
    "## Regression Tree"
   ]
  },
  {
   "cell_type": "code",
   "execution_count": 27,
   "id": "2bc8554c",
   "metadata": {
    "execution": {
     "iopub.execute_input": "2025-05-15T06:11:08.355099Z",
     "iopub.status.busy": "2025-05-15T06:11:08.354811Z",
     "iopub.status.idle": "2025-05-15T06:11:32.816880Z",
     "shell.execute_reply": "2025-05-15T06:11:32.815806Z"
    },
    "papermill": {
     "duration": 24.47762,
     "end_time": "2025-05-15T06:11:32.818604",
     "exception": false,
     "start_time": "2025-05-15T06:11:08.340984",
     "status": "completed"
    },
    "tags": []
   },
   "outputs": [
    {
     "name": "stdout",
     "output_type": "stream",
     "text": [
      "### RandomForestRegressor ###\n",
      "RMSLE: 0.341, RMSE: 48.145, MAE: 29.617\n",
      "### GradientBoostingRegressor ###\n",
      "RMSLE: 0.327, RMSE: 49.042, MAE: 30.357\n",
      "### XGBRegressor ###\n",
      "RMSLE: 0.331, RMSE: 50.598, MAE: 30.227\n",
      "### LGBMRegressor ###\n",
      "RMSLE: 0.312, RMSE: 44.741, MAE: 27.478\n"
     ]
    }
   ],
   "source": [
    "from sklearn.ensemble import RandomForestRegressor, GradientBoostingRegressor\n",
    "from xgboost import XGBRegressor\n",
    "from lightgbm import LGBMRegressor\n",
    "\n",
    "# 랜덤 포레스트, GBM, XGBoost, LightGBM model 별로 평가 수행\n",
    "rf_reg = RandomForestRegressor(n_estimators=500)\n",
    "gbm_reg = GradientBoostingRegressor(n_estimators=500)\n",
    "xgb_reg = XGBRegressor(n_estimators=500)\n",
    "lgbm_reg = LGBMRegressor(n_estimators=500, verbose = -1)\n",
    "\n",
    "for model in [rf_reg, gbm_reg, xgb_reg, lgbm_reg]:\n",
    "    # XGBoost의 경우 DataFrame이 입력 될 경우 버전에 따라 오류 발생 가능. ndarray로 변환.\n",
    "    get_model_predict(model,X_train.values, X_test.values, y_train.values, y_test.values,is_expm1=True)"
   ]
  },
  {
   "cell_type": "markdown",
   "id": "860d6c7e",
   "metadata": {
    "papermill": {
     "duration": 0.013847,
     "end_time": "2025-05-15T06:11:32.846003",
     "exception": false,
     "start_time": "2025-05-15T06:11:32.832156",
     "status": "completed"
    },
    "tags": []
   },
   "source": [
    "* Result: A lot better than Liear Regression"
   ]
  },
  {
   "cell_type": "markdown",
   "id": "fa958f9e",
   "metadata": {
    "papermill": {
     "duration": 0.012684,
     "end_time": "2025-05-15T06:11:32.871501",
     "exception": false,
     "start_time": "2025-05-15T06:11:32.858817",
     "status": "completed"
    },
    "tags": []
   },
   "source": [
    "### Hyperparameter Tunning"
   ]
  },
  {
   "cell_type": "code",
   "execution_count": 28,
   "id": "15dac6bc",
   "metadata": {
    "execution": {
     "iopub.execute_input": "2025-05-15T06:11:32.898610Z",
     "iopub.status.busy": "2025-05-15T06:11:32.897769Z",
     "iopub.status.idle": "2025-05-15T06:12:12.508875Z",
     "shell.execute_reply": "2025-05-15T06:12:12.507715Z"
    },
    "papermill": {
     "duration": 39.626264,
     "end_time": "2025-05-15T06:12:12.510452",
     "exception": false,
     "start_time": "2025-05-15T06:11:32.884188",
     "status": "completed"
    },
    "tags": []
   },
   "outputs": [
    {
     "name": "stdout",
     "output_type": "stream",
     "text": [
      "Fitting 3 folds for each of 10 candidates, totalling 30 fits\n",
      "Best Parameters: {'subsample': 0.8, 'reg_lambda': 0.0, 'reg_alpha': 0.0, 'num_leaves': 31, 'n_estimators': 1000, 'min_child_samples': 20, 'max_depth': 8, 'learning_rate': 0.05, 'colsample_bytree': 0.6}\n",
      "### LGBMRegressor ###\n",
      "RMSLE: 0.310, RMSE: 44.970, MAE: 27.776\n"
     ]
    }
   ],
   "source": [
    "from sklearn.metrics import mean_squared_log_error, make_scorer\n",
    "from sklearn.model_selection import RandomizedSearchCV\n",
    "\n",
    "# 각 모델에 대한 파라미터 그리드\n",
    "param_grids = {\n",
    "        'max_depth': [2, 4, 8, 16],\n",
    "        'num_leaves': [31, 50, 70, 100],\n",
    "        # 'max_depth': [5, 7, 10, 20],\n",
    "        'learning_rate': [0.01, 0.05, 0.1, 0.2],\n",
    "        'n_estimators': [500, 1000, 1500],\n",
    "        'subsample': [0.6, 0.8, 1.0],\n",
    "        'colsample_bytree': [0.6, 0.8, 1.0],\n",
    "        'reg_alpha': [0.0, 0.1, 0.5],\n",
    "        'reg_lambda': [0.0, 0.1, 0.5],\n",
    "        'min_child_samples': [10, 20, 50]\n",
    "    }\n",
    "\n",
    "model = LGBMRegressor(verbose = -1)\n",
    "rmsle_scorer = make_scorer(rmsle, greater_is_better=False)\n",
    "search = RandomizedSearchCV(\n",
    "        estimator=model,\n",
    "        param_distributions=param_grids,\n",
    "        n_iter=10,\n",
    "        scoring=rmsle_scorer,\n",
    "        cv=3,\n",
    "        verbose=1,\n",
    "        random_state=42,\n",
    "        n_jobs=-1\n",
    "    )\n",
    "search.fit(X_train.values, y_train.values)\n",
    "best_model = search.best_estimator_\n",
    "\n",
    "print(\"Best Parameters:\", search.best_params_)\n",
    "get_model_predict(best_model, X_train.values, X_test.values, y_train.values, y_test.values, is_expm1=True)"
   ]
  },
  {
   "cell_type": "markdown",
   "id": "7dd14206",
   "metadata": {
    "papermill": {
     "duration": 0.012913,
     "end_time": "2025-05-15T06:12:12.539360",
     "exception": false,
     "start_time": "2025-05-15T06:12:12.526447",
     "status": "completed"
    },
    "tags": []
   },
   "source": [
    "# Submission"
   ]
  },
  {
   "cell_type": "markdown",
   "id": "649a885a",
   "metadata": {
    "papermill": {
     "duration": 0.012983,
     "end_time": "2025-05-15T06:12:12.565549",
     "exception": false,
     "start_time": "2025-05-15T06:12:12.552566",
     "status": "completed"
    },
    "tags": []
   },
   "source": [
    "## Test Data Preprocess"
   ]
  },
  {
   "cell_type": "code",
   "execution_count": 29,
   "id": "10785643",
   "metadata": {
    "execution": {
     "iopub.execute_input": "2025-05-15T06:12:12.592696Z",
     "iopub.status.busy": "2025-05-15T06:12:12.592403Z",
     "iopub.status.idle": "2025-05-15T06:12:15.231097Z",
     "shell.execute_reply": "2025-05-15T06:12:15.230391Z"
    },
    "papermill": {
     "duration": 2.654156,
     "end_time": "2025-05-15T06:12:15.232678",
     "exception": false,
     "start_time": "2025-05-15T06:12:12.578522",
     "status": "completed"
    },
    "tags": []
   },
   "outputs": [],
   "source": [
    "test = bike_test\n",
    "\n",
    "# train과 같은 전처리를 진행해보자\n",
    "test['datetime'] = test.datetime.apply(pd.to_datetime)\n",
    "\n",
    "# datetime 타입에서 년, 월, 일, 시간 추출\n",
    "test['year'] = test.datetime.apply(lambda x : x.year)\n",
    "test['month'] = test.datetime.apply(lambda x : x.month)\n",
    "test['day'] = test.datetime.apply(lambda x : x.day)\n",
    "test['hour'] = test.datetime.apply(lambda x: x.hour)\n",
    "test.head(3)\n",
    "\n",
    "# 이미 테스트 데이터셋에는 casual, registered 가 빠져있음\n",
    "drop_columns = ['datetime','day','temp']\n",
    "test.drop(drop_columns, axis=1,inplace=True)\n",
    "\n",
    "# 'year', month', 'day', hour'등의 피처들을 One Hot Encoding\n",
    "test_ohe = pd.get_dummies(test, columns=['year', 'month',  'holiday',\n",
    "                                              'workingday','season','weather'],\n",
    "                         drop_first=True)"
   ]
  },
  {
   "cell_type": "markdown",
   "id": "26e51a53",
   "metadata": {
    "papermill": {
     "duration": 0.0139,
     "end_time": "2025-05-15T06:12:15.260578",
     "exception": false,
     "start_time": "2025-05-15T06:12:15.246678",
     "status": "completed"
    },
    "tags": []
   },
   "source": [
    "* test.day.nunique() != train.day.nunique()"
   ]
  },
  {
   "cell_type": "markdown",
   "id": "33007348",
   "metadata": {
    "papermill": {
     "duration": 0.013287,
     "end_time": "2025-05-15T06:12:15.287434",
     "exception": false,
     "start_time": "2025-05-15T06:12:15.274147",
     "status": "completed"
    },
    "tags": []
   },
   "source": [
    "## Prediction by the final model"
   ]
  },
  {
   "cell_type": "code",
   "execution_count": 30,
   "id": "34414b89",
   "metadata": {
    "execution": {
     "iopub.execute_input": "2025-05-15T06:12:15.316286Z",
     "iopub.status.busy": "2025-05-15T06:12:15.315549Z",
     "iopub.status.idle": "2025-05-15T06:12:15.738360Z",
     "shell.execute_reply": "2025-05-15T06:12:15.737658Z"
    },
    "papermill": {
     "duration": 0.438848,
     "end_time": "2025-05-15T06:12:15.739946",
     "exception": false,
     "start_time": "2025-05-15T06:12:15.301098",
     "status": "completed"
    },
    "tags": []
   },
   "outputs": [],
   "source": [
    "## sample_data를 받아오기\n",
    "sample = pd.read_csv('/kaggle/input/bike-sharing-demand/sampleSubmission.csv')\n",
    "\n",
    "# 테스트 데이터셋을 예측\n",
    "pred = best_model.predict(test_ohe)\n",
    "# 학습시 로그변환한 target을 썻으니 결과값을 다시 복원해야합니다\n",
    "pred_exp = np.expm1(pred)\n",
    "\n",
    "# sample 파일에 예측 값을 넣어주고\n",
    "sample[\"count\"] = pred_exp\n",
    "\n",
    "# csv로 저장하기\n",
    "sample.to_csv(\"/kaggle/working/submission.csv\", index=False)"
   ]
  }
 ],
 "metadata": {
  "kaggle": {
   "accelerator": "none",
   "dataSources": [
    {
     "databundleVersionId": 32624,
     "sourceId": 3948,
     "sourceType": "competition"
    }
   ],
   "dockerImageVersionId": 31040,
   "isGpuEnabled": false,
   "isInternetEnabled": true,
   "language": "python",
   "sourceType": "notebook"
  },
  "kernelspec": {
   "display_name": "Python 3",
   "language": "python",
   "name": "python3"
  },
  "language_info": {
   "codemirror_mode": {
    "name": "ipython",
    "version": 3
   },
   "file_extension": ".py",
   "mimetype": "text/x-python",
   "name": "python",
   "nbconvert_exporter": "python",
   "pygments_lexer": "ipython3",
   "version": "3.11.11"
  },
  "papermill": {
   "default_parameters": {},
   "duration": 91.451352,
   "end_time": "2025-05-15T06:12:18.372441",
   "environment_variables": {},
   "exception": null,
   "input_path": "__notebook__.ipynb",
   "output_path": "__notebook__.ipynb",
   "parameters": {},
   "start_time": "2025-05-15T06:10:46.921089",
   "version": "2.6.0"
  }
 },
 "nbformat": 4,
 "nbformat_minor": 5
}
