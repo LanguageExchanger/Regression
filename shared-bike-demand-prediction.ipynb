{
 "cells": [
  {
   "cell_type": "markdown",
   "id": "7556038a",
   "metadata": {
    "papermill": {
     "duration": 0.006377,
     "end_time": "2025-05-15T07:01:47.573685",
     "exception": false,
     "start_time": "2025-05-15T07:01:47.567308",
     "status": "completed"
    },
    "tags": []
   },
   "source": [
    "# Data Loading"
   ]
  },
  {
   "cell_type": "code",
   "execution_count": 1,
   "id": "a2513aef",
   "metadata": {
    "_cell_guid": "b1076dfc-b9ad-4769-8c92-a6c4dae69d19",
    "_uuid": "8f2839f25d086af736a60e9eeb907d3b93b6e0e5",
    "execution": {
     "iopub.execute_input": "2025-05-15T07:01:47.585564Z",
     "iopub.status.busy": "2025-05-15T07:01:47.585339Z",
     "iopub.status.idle": "2025-05-15T07:01:49.038931Z",
     "shell.execute_reply": "2025-05-15T07:01:49.038042Z"
    },
    "papermill": {
     "duration": 1.460877,
     "end_time": "2025-05-15T07:01:49.040249",
     "exception": false,
     "start_time": "2025-05-15T07:01:47.579372",
     "status": "completed"
    },
    "tags": []
   },
   "outputs": [
    {
     "name": "stdout",
     "output_type": "stream",
     "text": [
      "/kaggle/input/bike-sharing-demand/sampleSubmission.csv\n",
      "/kaggle/input/bike-sharing-demand/train.csv\n",
      "/kaggle/input/bike-sharing-demand/test.csv\n"
     ]
    }
   ],
   "source": [
    "# This Python 3 environment comes with many helpful analytics libraries installed\n",
    "# It is defined by the kaggle/python Docker image: https://github.com/kaggle/docker-python\n",
    "# For example, here's several helpful packages to load\n",
    "\n",
    "import numpy as np # linear algebra\n",
    "import pandas as pd # data processing, CSV file I/O (e.g. pd.read_csv)\n",
    "\n",
    "# Input data files are available in the read-only \"../input/\" directory\n",
    "# For example, running this (by clicking run or pressing Shift+Enter) will list all files under the input directory\n",
    "\n",
    "import os\n",
    "for dirname, _, filenames in os.walk('/kaggle/input'):\n",
    "    for filename in filenames:\n",
    "        print(os.path.join(dirname, filename))\n",
    "\n",
    "# You can write up to 20GB to the current directory (/kaggle/working/) that gets preserved as output when you create a version using \"Save & Run All\" \n",
    "# You can also write temporary files to /kaggle/temp/, but they won't be saved outside of the current session"
   ]
  },
  {
   "cell_type": "code",
   "execution_count": 2,
   "id": "3ed8d40d",
   "metadata": {
    "execution": {
     "iopub.execute_input": "2025-05-15T07:01:49.053427Z",
     "iopub.status.busy": "2025-05-15T07:01:49.053115Z",
     "iopub.status.idle": "2025-05-15T07:01:50.718343Z",
     "shell.execute_reply": "2025-05-15T07:01:50.717481Z"
    },
    "papermill": {
     "duration": 1.673202,
     "end_time": "2025-05-15T07:01:50.719523",
     "exception": false,
     "start_time": "2025-05-15T07:01:49.046321",
     "status": "completed"
    },
    "tags": []
   },
   "outputs": [
    {
     "name": "stdout",
     "output_type": "stream",
     "text": [
      "(10886, 12)\n"
     ]
    },
    {
     "data": {
      "text/html": [
       "<div>\n",
       "<style scoped>\n",
       "    .dataframe tbody tr th:only-of-type {\n",
       "        vertical-align: middle;\n",
       "    }\n",
       "\n",
       "    .dataframe tbody tr th {\n",
       "        vertical-align: top;\n",
       "    }\n",
       "\n",
       "    .dataframe thead th {\n",
       "        text-align: right;\n",
       "    }\n",
       "</style>\n",
       "<table border=\"1\" class=\"dataframe\">\n",
       "  <thead>\n",
       "    <tr style=\"text-align: right;\">\n",
       "      <th></th>\n",
       "      <th>datetime</th>\n",
       "      <th>season</th>\n",
       "      <th>holiday</th>\n",
       "      <th>workingday</th>\n",
       "      <th>weather</th>\n",
       "      <th>temp</th>\n",
       "      <th>atemp</th>\n",
       "      <th>humidity</th>\n",
       "      <th>windspeed</th>\n",
       "      <th>casual</th>\n",
       "      <th>registered</th>\n",
       "      <th>count</th>\n",
       "    </tr>\n",
       "  </thead>\n",
       "  <tbody>\n",
       "    <tr>\n",
       "      <th>0</th>\n",
       "      <td>2011-01-01 00:00:00</td>\n",
       "      <td>1</td>\n",
       "      <td>0</td>\n",
       "      <td>0</td>\n",
       "      <td>1</td>\n",
       "      <td>9.84</td>\n",
       "      <td>14.395</td>\n",
       "      <td>81</td>\n",
       "      <td>0.0</td>\n",
       "      <td>3</td>\n",
       "      <td>13</td>\n",
       "      <td>16</td>\n",
       "    </tr>\n",
       "    <tr>\n",
       "      <th>1</th>\n",
       "      <td>2011-01-01 01:00:00</td>\n",
       "      <td>1</td>\n",
       "      <td>0</td>\n",
       "      <td>0</td>\n",
       "      <td>1</td>\n",
       "      <td>9.02</td>\n",
       "      <td>13.635</td>\n",
       "      <td>80</td>\n",
       "      <td>0.0</td>\n",
       "      <td>8</td>\n",
       "      <td>32</td>\n",
       "      <td>40</td>\n",
       "    </tr>\n",
       "    <tr>\n",
       "      <th>2</th>\n",
       "      <td>2011-01-01 02:00:00</td>\n",
       "      <td>1</td>\n",
       "      <td>0</td>\n",
       "      <td>0</td>\n",
       "      <td>1</td>\n",
       "      <td>9.02</td>\n",
       "      <td>13.635</td>\n",
       "      <td>80</td>\n",
       "      <td>0.0</td>\n",
       "      <td>5</td>\n",
       "      <td>27</td>\n",
       "      <td>32</td>\n",
       "    </tr>\n",
       "  </tbody>\n",
       "</table>\n",
       "</div>"
      ],
      "text/plain": [
       "              datetime  season  holiday  workingday  weather  temp   atemp  \\\n",
       "0  2011-01-01 00:00:00       1        0           0        1  9.84  14.395   \n",
       "1  2011-01-01 01:00:00       1        0           0        1  9.02  13.635   \n",
       "2  2011-01-01 02:00:00       1        0           0        1  9.02  13.635   \n",
       "\n",
       "   humidity  windspeed  casual  registered  count  \n",
       "0        81        0.0       3          13     16  \n",
       "1        80        0.0       8          32     40  \n",
       "2        80        0.0       5          27     32  "
      ]
     },
     "execution_count": 2,
     "metadata": {},
     "output_type": "execute_result"
    }
   ],
   "source": [
    "import numpy as np\n",
    "import pandas as pd\n",
    "import seaborn as sns\n",
    "import matplotlib.pyplot as plt\n",
    "%matplotlib inline\n",
    "\n",
    "import warnings\n",
    "warnings.filterwarnings(\"ignore\")\n",
    "\n",
    "file_path = '/kaggle/input/bike-sharing-demand/train.csv'\n",
    "bike_df = pd.read_csv(file_path)\n",
    "print(bike_df.shape)\n",
    "bike_df.head(3)"
   ]
  },
  {
   "cell_type": "code",
   "execution_count": 3,
   "id": "06189a40",
   "metadata": {
    "execution": {
     "iopub.execute_input": "2025-05-15T07:01:50.734535Z",
     "iopub.status.busy": "2025-05-15T07:01:50.734227Z",
     "iopub.status.idle": "2025-05-15T07:01:50.754360Z",
     "shell.execute_reply": "2025-05-15T07:01:50.753706Z"
    },
    "papermill": {
     "duration": 0.028667,
     "end_time": "2025-05-15T07:01:50.755499",
     "exception": false,
     "start_time": "2025-05-15T07:01:50.726832",
     "status": "completed"
    },
    "tags": []
   },
   "outputs": [],
   "source": [
    "bike_test = pd.read_csv('/kaggle/input/bike-sharing-demand/test.csv')"
   ]
  },
  {
   "cell_type": "code",
   "execution_count": 4,
   "id": "8bbfd682",
   "metadata": {
    "execution": {
     "iopub.execute_input": "2025-05-15T07:01:50.768725Z",
     "iopub.status.busy": "2025-05-15T07:01:50.768177Z",
     "iopub.status.idle": "2025-05-15T07:01:50.772204Z",
     "shell.execute_reply": "2025-05-15T07:01:50.771643Z"
    },
    "papermill": {
     "duration": 0.011898,
     "end_time": "2025-05-15T07:01:50.773195",
     "exception": false,
     "start_time": "2025-05-15T07:01:50.761297",
     "status": "completed"
    },
    "tags": []
   },
   "outputs": [
    {
     "name": "stdout",
     "output_type": "stream",
     "text": [
      "casual\n",
      "registered\n",
      "count\n"
     ]
    }
   ],
   "source": [
    "for column in bike_df.columns:\n",
    "    if column not in bike_test.columns:\n",
    "        print(column)"
   ]
  },
  {
   "cell_type": "code",
   "execution_count": 5,
   "id": "8b0b2811",
   "metadata": {
    "execution": {
     "iopub.execute_input": "2025-05-15T07:01:50.786012Z",
     "iopub.status.busy": "2025-05-15T07:01:50.785747Z",
     "iopub.status.idle": "2025-05-15T07:01:50.791117Z",
     "shell.execute_reply": "2025-05-15T07:01:50.790370Z"
    },
    "papermill": {
     "duration": 0.013266,
     "end_time": "2025-05-15T07:01:50.792437",
     "exception": false,
     "start_time": "2025-05-15T07:01:50.779171",
     "status": "completed"
    },
    "tags": []
   },
   "outputs": [
    {
     "data": {
      "text/plain": [
       "Index(['datetime', 'season', 'holiday', 'workingday', 'weather', 'temp',\n",
       "       'atemp', 'humidity', 'windspeed', 'casual', 'registered', 'count'],\n",
       "      dtype='object')"
      ]
     },
     "execution_count": 5,
     "metadata": {},
     "output_type": "execute_result"
    }
   ],
   "source": [
    "bike_df.columns"
   ]
  },
  {
   "cell_type": "markdown",
   "id": "d541f53a",
   "metadata": {
    "papermill": {
     "duration": 0.00594,
     "end_time": "2025-05-15T07:01:50.804535",
     "exception": false,
     "start_time": "2025-05-15T07:01:50.798595",
     "status": "completed"
    },
    "tags": []
   },
   "source": [
    "## Column Analysis\n",
    "\n",
    "* Target = count\n",
    "* count = casual + registered\n",
    "* train: 'datetime', 'season', 'holiday', 'workingday', 'weather', 'temp',\n",
    "       'atemp', 'humidity', 'windspeed', 'casual', 'registered', 'count'\n",
    "* test: 'datetime', 'season', 'holiday', 'workingday', 'weather', 'temp',\n",
    "       'atemp', 'humidity', 'windspeed'"
   ]
  },
  {
   "cell_type": "code",
   "execution_count": 6,
   "id": "63cac815",
   "metadata": {
    "execution": {
     "iopub.execute_input": "2025-05-15T07:01:50.817398Z",
     "iopub.status.busy": "2025-05-15T07:01:50.817204Z",
     "iopub.status.idle": "2025-05-15T07:01:50.821606Z",
     "shell.execute_reply": "2025-05-15T07:01:50.820943Z"
    },
    "papermill": {
     "duration": 0.012168,
     "end_time": "2025-05-15T07:01:50.822738",
     "exception": false,
     "start_time": "2025-05-15T07:01:50.810570",
     "status": "completed"
    },
    "tags": []
   },
   "outputs": [
    {
     "data": {
      "text/plain": [
       "(10886, 6493, 0.5964541613081021)"
      ]
     },
     "execution_count": 6,
     "metadata": {},
     "output_type": "execute_result"
    }
   ],
   "source": [
    "bike_df.shape[0], bike_test.shape[0], bike_test.shape[0] / bike_df.shape[0]"
   ]
  },
  {
   "cell_type": "markdown",
   "id": "412fc93d",
   "metadata": {
    "papermill": {
     "duration": 0.005986,
     "end_time": "2025-05-15T07:01:50.835151",
     "exception": false,
     "start_time": "2025-05-15T07:01:50.829165",
     "status": "completed"
    },
    "tags": []
   },
   "source": [
    "Train : Test ~= 3 : 5"
   ]
  },
  {
   "cell_type": "markdown",
   "id": "d3eca53f",
   "metadata": {
    "papermill": {
     "duration": 0.005739,
     "end_time": "2025-05-15T07:01:50.847011",
     "exception": false,
     "start_time": "2025-05-15T07:01:50.841272",
     "status": "completed"
    },
    "tags": []
   },
   "source": [
    "## Data Type Adjustment"
   ]
  },
  {
   "cell_type": "code",
   "execution_count": 7,
   "id": "16e61194",
   "metadata": {
    "execution": {
     "iopub.execute_input": "2025-05-15T07:01:50.859943Z",
     "iopub.status.busy": "2025-05-15T07:01:50.859363Z",
     "iopub.status.idle": "2025-05-15T07:01:50.878289Z",
     "shell.execute_reply": "2025-05-15T07:01:50.877564Z"
    },
    "papermill": {
     "duration": 0.026358,
     "end_time": "2025-05-15T07:01:50.879428",
     "exception": false,
     "start_time": "2025-05-15T07:01:50.853070",
     "status": "completed"
    },
    "tags": []
   },
   "outputs": [
    {
     "name": "stdout",
     "output_type": "stream",
     "text": [
      "<class 'pandas.core.frame.DataFrame'>\n",
      "RangeIndex: 10886 entries, 0 to 10885\n",
      "Data columns (total 12 columns):\n",
      " #   Column      Non-Null Count  Dtype  \n",
      "---  ------      --------------  -----  \n",
      " 0   datetime    10886 non-null  object \n",
      " 1   season      10886 non-null  int64  \n",
      " 2   holiday     10886 non-null  int64  \n",
      " 3   workingday  10886 non-null  int64  \n",
      " 4   weather     10886 non-null  int64  \n",
      " 5   temp        10886 non-null  float64\n",
      " 6   atemp       10886 non-null  float64\n",
      " 7   humidity    10886 non-null  int64  \n",
      " 8   windspeed   10886 non-null  float64\n",
      " 9   casual      10886 non-null  int64  \n",
      " 10  registered  10886 non-null  int64  \n",
      " 11  count       10886 non-null  int64  \n",
      "dtypes: float64(3), int64(8), object(1)\n",
      "memory usage: 1020.7+ KB\n"
     ]
    }
   ],
   "source": [
    "bike_df.info()"
   ]
  },
  {
   "cell_type": "code",
   "execution_count": 8,
   "id": "905a1649",
   "metadata": {
    "execution": {
     "iopub.execute_input": "2025-05-15T07:01:50.892622Z",
     "iopub.status.busy": "2025-05-15T07:01:50.892089Z",
     "iopub.status.idle": "2025-05-15T07:01:54.606466Z",
     "shell.execute_reply": "2025-05-15T07:01:54.605891Z"
    },
    "papermill": {
     "duration": 3.722013,
     "end_time": "2025-05-15T07:01:54.607662",
     "exception": false,
     "start_time": "2025-05-15T07:01:50.885649",
     "status": "completed"
    },
    "tags": []
   },
   "outputs": [],
   "source": [
    "bike_df['datetime'] = bike_df['datetime'].apply(pd.to_datetime)"
   ]
  },
  {
   "cell_type": "code",
   "execution_count": 9,
   "id": "59da39d8",
   "metadata": {
    "execution": {
     "iopub.execute_input": "2025-05-15T07:01:54.620878Z",
     "iopub.status.busy": "2025-05-15T07:01:54.620664Z",
     "iopub.status.idle": "2025-05-15T07:01:54.674589Z",
     "shell.execute_reply": "2025-05-15T07:01:54.673942Z"
    },
    "papermill": {
     "duration": 0.061659,
     "end_time": "2025-05-15T07:01:54.675774",
     "exception": false,
     "start_time": "2025-05-15T07:01:54.614115",
     "status": "completed"
    },
    "tags": []
   },
   "outputs": [
    {
     "data": {
      "text/html": [
       "<div>\n",
       "<style scoped>\n",
       "    .dataframe tbody tr th:only-of-type {\n",
       "        vertical-align: middle;\n",
       "    }\n",
       "\n",
       "    .dataframe tbody tr th {\n",
       "        vertical-align: top;\n",
       "    }\n",
       "\n",
       "    .dataframe thead th {\n",
       "        text-align: right;\n",
       "    }\n",
       "</style>\n",
       "<table border=\"1\" class=\"dataframe\">\n",
       "  <thead>\n",
       "    <tr style=\"text-align: right;\">\n",
       "      <th></th>\n",
       "      <th>season</th>\n",
       "      <th>holiday</th>\n",
       "      <th>workingday</th>\n",
       "      <th>weather</th>\n",
       "      <th>temp</th>\n",
       "      <th>atemp</th>\n",
       "      <th>humidity</th>\n",
       "      <th>windspeed</th>\n",
       "      <th>count</th>\n",
       "      <th>year</th>\n",
       "      <th>month</th>\n",
       "      <th>day</th>\n",
       "      <th>hour</th>\n",
       "    </tr>\n",
       "  </thead>\n",
       "  <tbody>\n",
       "    <tr>\n",
       "      <th>0</th>\n",
       "      <td>1</td>\n",
       "      <td>0</td>\n",
       "      <td>0</td>\n",
       "      <td>1</td>\n",
       "      <td>9.84</td>\n",
       "      <td>14.395</td>\n",
       "      <td>81</td>\n",
       "      <td>0.0</td>\n",
       "      <td>16</td>\n",
       "      <td>2011</td>\n",
       "      <td>1</td>\n",
       "      <td>1</td>\n",
       "      <td>0</td>\n",
       "    </tr>\n",
       "    <tr>\n",
       "      <th>1</th>\n",
       "      <td>1</td>\n",
       "      <td>0</td>\n",
       "      <td>0</td>\n",
       "      <td>1</td>\n",
       "      <td>9.02</td>\n",
       "      <td>13.635</td>\n",
       "      <td>80</td>\n",
       "      <td>0.0</td>\n",
       "      <td>40</td>\n",
       "      <td>2011</td>\n",
       "      <td>1</td>\n",
       "      <td>1</td>\n",
       "      <td>1</td>\n",
       "    </tr>\n",
       "    <tr>\n",
       "      <th>2</th>\n",
       "      <td>1</td>\n",
       "      <td>0</td>\n",
       "      <td>0</td>\n",
       "      <td>1</td>\n",
       "      <td>9.02</td>\n",
       "      <td>13.635</td>\n",
       "      <td>80</td>\n",
       "      <td>0.0</td>\n",
       "      <td>32</td>\n",
       "      <td>2011</td>\n",
       "      <td>1</td>\n",
       "      <td>1</td>\n",
       "      <td>2</td>\n",
       "    </tr>\n",
       "  </tbody>\n",
       "</table>\n",
       "</div>"
      ],
      "text/plain": [
       "   season  holiday  workingday  weather  temp   atemp  humidity  windspeed  \\\n",
       "0       1        0           0        1  9.84  14.395        81        0.0   \n",
       "1       1        0           0        1  9.02  13.635        80        0.0   \n",
       "2       1        0           0        1  9.02  13.635        80        0.0   \n",
       "\n",
       "   count  year  month  day  hour  \n",
       "0     16  2011      1    1     0  \n",
       "1     40  2011      1    1     1  \n",
       "2     32  2011      1    1     2  "
      ]
     },
     "execution_count": 9,
     "metadata": {},
     "output_type": "execute_result"
    }
   ],
   "source": [
    "# datetime 타입에서 년, 월, 일, 시간 추출\n",
    "bike_df['year'] = bike_df.datetime.apply(lambda x : x.year)\n",
    "bike_df['month'] = bike_df.datetime.apply(lambda x : x.month)\n",
    "bike_df['day'] = bike_df.datetime.apply(lambda x : x.day)\n",
    "bike_df['hour'] = bike_df.datetime.apply(lambda x: x.hour)\n",
    "\n",
    "drop_columns = ['datetime','casual','registered'] # count = casual + registered\n",
    "bike_df.drop(drop_columns, axis=1,inplace=True)\n",
    "bike_df.head(3)"
   ]
  },
  {
   "cell_type": "markdown",
   "id": "350ccecf",
   "metadata": {
    "papermill": {
     "duration": 0.005996,
     "end_time": "2025-05-15T07:01:54.688151",
     "exception": false,
     "start_time": "2025-05-15T07:01:54.682155",
     "status": "completed"
    },
    "tags": []
   },
   "source": [
    "## Column Type Classification\n",
    "\n",
    "* Category: season, holiday, weather, workingday, year, month, day, hour\n",
    "* Numerical Variables\n",
    "    * Continuous: temp, atemp, windspeed\n",
    "    * Discrete: humidity, count"
   ]
  },
  {
   "cell_type": "code",
   "execution_count": 10,
   "id": "46137c8b",
   "metadata": {
    "execution": {
     "iopub.execute_input": "2025-05-15T07:01:54.701387Z",
     "iopub.status.busy": "2025-05-15T07:01:54.701189Z",
     "iopub.status.idle": "2025-05-15T07:01:57.493572Z",
     "shell.execute_reply": "2025-05-15T07:01:57.492857Z"
    },
    "papermill": {
     "duration": 2.80034,
     "end_time": "2025-05-15T07:01:57.494759",
     "exception": false,
     "start_time": "2025-05-15T07:01:54.694419",
     "status": "completed"
    },
    "tags": []
   },
   "outputs": [
    {
     "data": {
      "image/png": "[encoded data removed]",
      "text/plain": [
       "<Figure size 1600x800 with 8 Axes>"
      ]
     },
     "metadata": {},
     "output_type": "display_data"
    }
   ],
   "source": [
    "fig, axs = plt.subplots(figsize=(16, 8), ncols=4, nrows=2)\n",
    "cat_features = ['year', 'month','season','weather','day', 'hour', 'holiday','workingday']\n",
    "# cat_features에 있는 모든 칼럼별로 개별 칼럼값에 따른 count의 합을 barplot으로 시각화\n",
    "for i, feature in enumerate(cat_features):\n",
    "    row = int(i/4)\n",
    "    col = i%4\n",
    "    # 시본의 barplot을 이용해 칼럼값에 따른 count의 합을 표현\n",
    "    sns.barplot(x=feature, y='count', data=bike_df, ax=axs[row][col])"
   ]
  },
  {
   "cell_type": "markdown",
   "id": "31c294e4",
   "metadata": {
    "papermill": {
     "duration": 0.007089,
     "end_time": "2025-05-15T07:01:57.509568",
     "exception": false,
     "start_time": "2025-05-15T07:01:57.502479",
     "status": "completed"
    },
    "tags": []
   },
   "source": [
    "# Function Definition"
   ]
  },
  {
   "cell_type": "markdown",
   "id": "dcdbd037",
   "metadata": {
    "papermill": {
     "duration": 0.006803,
     "end_time": "2025-05-15T07:01:57.523390",
     "exception": false,
     "start_time": "2025-05-15T07:01:57.516587",
     "status": "completed"
    },
    "tags": []
   },
   "source": [
    "## rmsle"
   ]
  },
  {
   "cell_type": "markdown",
   "id": "3b97c77f",
   "metadata": {
    "papermill": {
     "duration": 0.007056,
     "end_time": "2025-05-15T07:01:57.579983",
     "exception": false,
     "start_time": "2025-05-15T07:01:57.572927",
     "status": "completed"
    },
    "tags": []
   },
   "source": [
    "log1p() 를 이용하여 RMSLE 계산한 값을 출력"
   ]
  },
  {
   "cell_type": "code",
   "execution_count": 11,
   "id": "6465b864",
   "metadata": {
    "execution": {
     "iopub.execute_input": "2025-05-15T07:01:57.595123Z",
     "iopub.status.busy": "2025-05-15T07:01:57.594832Z",
     "iopub.status.idle": "2025-05-15T07:01:57.808276Z",
     "shell.execute_reply": "2025-05-15T07:01:57.807732Z"
    },
    "papermill": {
     "duration": 0.222296,
     "end_time": "2025-05-15T07:01:57.809465",
     "exception": false,
     "start_time": "2025-05-15T07:01:57.587169",
     "status": "completed"
    },
    "tags": []
   },
   "outputs": [],
   "source": [
    "from sklearn.metrics import mean_squared_error, mean_absolute_error\n",
    "\n",
    "def rmsle(y, pred):\n",
    "    log_y = np.log1p(y)\n",
    "    log_pred = np.log1p(pred)\n",
    "    squared_error = (log_y - log_pred) ** 2\n",
    "    rmsle = np.sqrt(np.mean(squared_error))\n",
    "    return rmsle"
   ]
  },
  {
   "cell_type": "markdown",
   "id": "49065ca5",
   "metadata": {
    "papermill": {
     "duration": 0.007053,
     "end_time": "2025-05-15T07:01:57.824078",
     "exception": false,
     "start_time": "2025-05-15T07:01:57.817025",
     "status": "completed"
    },
    "tags": []
   },
   "source": [
    "## rmse"
   ]
  },
  {
   "cell_type": "markdown",
   "id": "2e032fad",
   "metadata": {
    "papermill": {
     "duration": 0.006781,
     "end_time": "2025-05-15T07:01:57.837803",
     "exception": false,
     "start_time": "2025-05-15T07:01:57.831022",
     "status": "completed"
    },
    "tags": []
   },
   "source": [
    "MSE를 입력받아 RMSE 계산한 값을 출력"
   ]
  },
  {
   "cell_type": "code",
   "execution_count": 12,
   "id": "1620344b",
   "metadata": {
    "execution": {
     "iopub.execute_input": "2025-05-15T07:01:57.852549Z",
     "iopub.status.busy": "2025-05-15T07:01:57.852353Z",
     "iopub.status.idle": "2025-05-15T07:01:57.855743Z",
     "shell.execute_reply": "2025-05-15T07:01:57.855123Z"
    },
    "papermill": {
     "duration": 0.011949,
     "end_time": "2025-05-15T07:01:57.856775",
     "exception": false,
     "start_time": "2025-05-15T07:01:57.844826",
     "status": "completed"
    },
    "tags": []
   },
   "outputs": [],
   "source": [
    "def rmse(y,pred):\n",
    "    return np.sqrt(mean_squared_error(y,pred))"
   ]
  },
  {
   "cell_type": "markdown",
   "id": "4a898881",
   "metadata": {
    "papermill": {
     "duration": 0.006887,
     "end_time": "2025-05-15T07:01:57.870746",
     "exception": false,
     "start_time": "2025-05-15T07:01:57.863859",
     "status": "completed"
    },
    "tags": []
   },
   "source": [
    "## evaluate_regr"
   ]
  },
  {
   "cell_type": "markdown",
   "id": "02024062",
   "metadata": {
    "papermill": {
     "duration": 0.00687,
     "end_time": "2025-05-15T07:01:57.884593",
     "exception": false,
     "start_time": "2025-05-15T07:01:57.877723",
     "status": "completed"
    },
    "tags": []
   },
   "source": [
    "MSE, RMSE, RMSLE 를 각각 계산하여 print함수를 이용해 한 줄로 결과값 출력"
   ]
  },
  {
   "cell_type": "code",
   "execution_count": 13,
   "id": "88976a55",
   "metadata": {
    "execution": {
     "iopub.execute_input": "2025-05-15T07:01:57.899316Z",
     "iopub.status.busy": "2025-05-15T07:01:57.899119Z",
     "iopub.status.idle": "2025-05-15T07:01:57.902511Z",
     "shell.execute_reply": "2025-05-15T07:01:57.902021Z"
    },
    "papermill": {
     "duration": 0.011923,
     "end_time": "2025-05-15T07:01:57.903501",
     "exception": false,
     "start_time": "2025-05-15T07:01:57.891578",
     "status": "completed"
    },
    "tags": []
   },
   "outputs": [],
   "source": [
    "def evaluate_regr(y,pred):\n",
    "    rmsle_val = rmsle(y,pred)\n",
    "    rmse_val = rmse(y,pred)\n",
    "    # MAE 는 scikit learn의 mean_absolute_error() 로 계산\n",
    "    mae_val = mean_absolute_error(y,pred)\n",
    "    print('RMSLE: {0:.3f}, RMSE: {1:.3F}, MAE: {2:.3F}'.format(rmsle_val, rmse_val, mae_val))"
   ]
  },
  {
   "cell_type": "markdown",
   "id": "03b73391",
   "metadata": {
    "papermill": {
     "duration": 0.006956,
     "end_time": "2025-05-15T07:01:57.917592",
     "exception": false,
     "start_time": "2025-05-15T07:01:57.910636",
     "status": "completed"
    },
    "tags": []
   },
   "source": [
    "## get_top_error_data"
   ]
  },
  {
   "cell_type": "markdown",
   "id": "8a9e28d6",
   "metadata": {
    "papermill": {
     "duration": 0.006959,
     "end_time": "2025-05-15T07:01:57.931704",
     "exception": false,
     "start_time": "2025-05-15T07:01:57.924745",
     "status": "completed"
    },
    "tags": []
   },
   "source": [
    "예측값과 실제값을 입력받아서 그 중 차이가 가장 큰 것을 내림차순으로 출력"
   ]
  },
  {
   "cell_type": "code",
   "execution_count": 14,
   "id": "b08b7c20",
   "metadata": {
    "execution": {
     "iopub.execute_input": "2025-05-15T07:01:57.946558Z",
     "iopub.status.busy": "2025-05-15T07:01:57.946363Z",
     "iopub.status.idle": "2025-05-15T07:01:57.950275Z",
     "shell.execute_reply": "2025-05-15T07:01:57.949605Z"
    },
    "papermill": {
     "duration": 0.012508,
     "end_time": "2025-05-15T07:01:57.951290",
     "exception": false,
     "start_time": "2025-05-15T07:01:57.938782",
     "status": "completed"
    },
    "tags": []
   },
   "outputs": [],
   "source": [
    "def get_top_error_data(y_test, pred, n_tops = 5):\n",
    "    # DataFrame에 컬럼들로 실제 대여횟수(count)와 예측 값을 서로 비교 할 수 있도록 생성. \n",
    "    result_df = pd.DataFrame(y_test.values, columns=['real_count'])\n",
    "    result_df['predicted_count']= np.round(pred)\n",
    "    result_df['diff'] = np.abs(result_df['real_count'] - result_df['predicted_count'])\n",
    "    # 예측값과 실제값이 가장 큰 데이터 순으로 출력. \n",
    "    print(result_df.sort_values('diff', ascending=False)[:n_tops])"
   ]
  },
  {
   "cell_type": "markdown",
   "id": "4c970b32",
   "metadata": {
    "papermill": {
     "duration": 0.006983,
     "end_time": "2025-05-15T07:01:57.965430",
     "exception": false,
     "start_time": "2025-05-15T07:01:57.958447",
     "status": "completed"
    },
    "tags": []
   },
   "source": [
    "# Modeling & Evaluation"
   ]
  },
  {
   "cell_type": "markdown",
   "id": "ae3710a5",
   "metadata": {
    "papermill": {
     "duration": 0.006946,
     "end_time": "2025-05-15T07:01:57.979492",
     "exception": false,
     "start_time": "2025-05-15T07:01:57.972546",
     "status": "completed"
    },
    "tags": []
   },
   "source": [
    "## Linear Regression"
   ]
  },
  {
   "cell_type": "code",
   "execution_count": 15,
   "id": "630542ac",
   "metadata": {
    "execution": {
     "iopub.execute_input": "2025-05-15T07:01:57.994590Z",
     "iopub.status.busy": "2025-05-15T07:01:57.994144Z",
     "iopub.status.idle": "2025-05-15T07:01:58.121567Z",
     "shell.execute_reply": "2025-05-15T07:01:58.120313Z"
    },
    "papermill": {
     "duration": 0.136467,
     "end_time": "2025-05-15T07:01:58.122941",
     "exception": false,
     "start_time": "2025-05-15T07:01:57.986474",
     "status": "completed"
    },
    "tags": []
   },
   "outputs": [
    {
     "name": "stdout",
     "output_type": "stream",
     "text": [
      "RMSLE: 1.168, RMSE: 140.828, MAE: 105.882\n"
     ]
    }
   ],
   "source": [
    "from sklearn.model_selection import train_test_split , GridSearchCV\n",
    "from sklearn.linear_model import LinearRegression , Ridge , Lasso\n",
    "\n",
    "y_target = bike_df['count']\n",
    "drop_col = ['count','day','temp'] # Target, Split Standard, temp ~= atepm but less descriptive\n",
    "X_features = bike_df.drop(drop_col,axis=1,inplace=False)\n",
    "\n",
    "X_train, X_test, y_train, y_test = train_test_split(X_features, y_target, test_size=0.3, random_state=0)\n",
    "\n",
    "lr_reg = LinearRegression()\n",
    "lr_reg.fit(X_train, y_train)\n",
    "pred = lr_reg.predict(X_test)\n",
    "\n",
    "evaluate_regr(y_test ,pred)"
   ]
  },
  {
   "cell_type": "code",
   "execution_count": 16,
   "id": "e285a2a4",
   "metadata": {
    "execution": {
     "iopub.execute_input": "2025-05-15T07:01:58.148501Z",
     "iopub.status.busy": "2025-05-15T07:01:58.148277Z",
     "iopub.status.idle": "2025-05-15T07:01:58.156760Z",
     "shell.execute_reply": "2025-05-15T07:01:58.155948Z"
    },
    "papermill": {
     "duration": 0.022992,
     "end_time": "2025-05-15T07:01:58.158405",
     "exception": false,
     "start_time": "2025-05-15T07:01:58.135413",
     "status": "completed"
    },
    "tags": []
   },
   "outputs": [
    {
     "name": "stdout",
     "output_type": "stream",
     "text": [
      "      real_count  predicted_count   diff\n",
      "1618         890            319.0  571.0\n",
      "966          884            324.0  560.0\n",
      "3151         798            246.0  552.0\n",
      "412          745            195.0  550.0\n",
      "2314         766            221.0  545.0\n"
     ]
    }
   ],
   "source": [
    "get_top_error_data(y_test,pred,n_tops=5)"
   ]
  },
  {
   "cell_type": "code",
   "execution_count": 17,
   "id": "3d1e073d",
   "metadata": {
    "execution": {
     "iopub.execute_input": "2025-05-15T07:01:58.183981Z",
     "iopub.status.busy": "2025-05-15T07:01:58.183711Z",
     "iopub.status.idle": "2025-05-15T07:01:58.427267Z",
     "shell.execute_reply": "2025-05-15T07:01:58.426529Z"
    },
    "papermill": {
     "duration": 0.257328,
     "end_time": "2025-05-15T07:01:58.428389",
     "exception": false,
     "start_time": "2025-05-15T07:01:58.171061",
     "status": "completed"
    },
    "tags": []
   },
   "outputs": [
    {
     "data": {
      "text/plain": [
       "<Axes: >"
      ]
     },
     "execution_count": 17,
     "metadata": {},
     "output_type": "execute_result"
    },
    {
     "data": {
      "image/png": "[encoded data removed]",
      "text/plain": [
       "<Figure size 640x480 with 1 Axes>"
      ]
     },
     "metadata": {},
     "output_type": "display_data"
    }
   ],
   "source": [
    "y_target.hist(bins = 50)"
   ]
  },
  {
   "cell_type": "markdown",
   "id": "318ad8ff",
   "metadata": {
    "papermill": {
     "duration": 0.007869,
     "end_time": "2025-05-15T07:01:58.445755",
     "exception": false,
     "start_time": "2025-05-15T07:01:58.437886",
     "status": "completed"
    },
    "tags": []
   },
   "source": [
    "## y_target: Log Scaling"
   ]
  },
  {
   "cell_type": "code",
   "execution_count": 18,
   "id": "b3fd2cbc",
   "metadata": {
    "execution": {
     "iopub.execute_input": "2025-05-15T07:01:58.462023Z",
     "iopub.status.busy": "2025-05-15T07:01:58.461778Z",
     "iopub.status.idle": "2025-05-15T07:01:58.640964Z",
     "shell.execute_reply": "2025-05-15T07:01:58.640363Z"
    },
    "papermill": {
     "duration": 0.188515,
     "end_time": "2025-05-15T07:01:58.641982",
     "exception": false,
     "start_time": "2025-05-15T07:01:58.453467",
     "status": "completed"
    },
    "tags": []
   },
   "outputs": [
    {
     "data": {
      "text/plain": [
       "<Axes: >"
      ]
     },
     "execution_count": 18,
     "metadata": {},
     "output_type": "execute_result"
    },
    {
     "data": {
      "image/png": "[encoded data removed]",
      "text/plain": [
       "<Figure size 640x480 with 1 Axes>"
      ]
     },
     "metadata": {},
     "output_type": "display_data"
    }
   ],
   "source": [
    "y_log_transform = np.log1p(y_target)\n",
    "y_log_transform.hist(bins = 50)"
   ]
  },
  {
   "cell_type": "markdown",
   "id": "7a7b5572",
   "metadata": {
    "papermill": {
     "duration": 0.007715,
     "end_time": "2025-05-15T07:01:58.658018",
     "exception": false,
     "start_time": "2025-05-15T07:01:58.650303",
     "status": "completed"
    },
    "tags": []
   },
   "source": [
    "Scaled Data Set Split & Linear Regression Modeling Evaluation"
   ]
  },
  {
   "cell_type": "markdown",
   "id": "a151644c",
   "metadata": {
    "papermill": {
     "duration": 0.007652,
     "end_time": "2025-05-15T07:01:58.673431",
     "exception": false,
     "start_time": "2025-05-15T07:01:58.665779",
     "status": "completed"
    },
    "tags": []
   },
   "source": [
    "## Reevaluation"
   ]
  },
  {
   "cell_type": "code",
   "execution_count": 19,
   "id": "a8d545dd",
   "metadata": {
    "execution": {
     "iopub.execute_input": "2025-05-15T07:01:58.689853Z",
     "iopub.status.busy": "2025-05-15T07:01:58.689630Z",
     "iopub.status.idle": "2025-05-15T07:01:58.706132Z",
     "shell.execute_reply": "2025-05-15T07:01:58.705123Z"
    },
    "papermill": {
     "duration": 0.026337,
     "end_time": "2025-05-15T07:01:58.707560",
     "exception": false,
     "start_time": "2025-05-15T07:01:58.681223",
     "status": "completed"
    },
    "tags": []
   },
   "outputs": [
    {
     "name": "stdout",
     "output_type": "stream",
     "text": [
      "RMSLE: 1.017, RMSE: 162.572, MAE: 109.230\n"
     ]
    }
   ],
   "source": [
    "# 타깃 칼럼인 count 값을 log1p로 로그 변환\n",
    "y_target_log = np.log1p(y_target)\n",
    "\n",
    "# 로그 변환된 y_target_log를 반영하여 학습/테스트 데이터 셋 분할\n",
    "X_train, X_test, y_train, y_test = train_test_split(X_features, y_target_log, test_size=0.3, random_state=0)\n",
    "lr_reg = LinearRegression()\n",
    "lr_reg.fit(X_train, y_train)\n",
    "pred = lr_reg.predict(X_test)\n",
    "\n",
    "# 테스트 데이터 셋의 Target 값은 Log 변환되었으므로 다시 expm1를 이용하여 원래 scale로 변환\n",
    "y_test_exp = np.expm1(y_test)\n",
    "\n",
    "# 예측 값 역시 Log 변환된 타깃 기반으로 학습되어 예측되었으므로 다시 exmpl으로 scale변환\n",
    "pred_exp = np.expm1(pred)\n",
    "\n",
    "evaluate_regr(y_test_exp ,pred_exp)"
   ]
  },
  {
   "cell_type": "markdown",
   "id": "ee2f5b44",
   "metadata": {
    "papermill": {
     "duration": 0.013675,
     "end_time": "2025-05-15T07:01:58.735366",
     "exception": false,
     "start_time": "2025-05-15T07:01:58.721691",
     "status": "completed"
    },
    "tags": []
   },
   "source": [
    "* Result: Even worse than before scaling"
   ]
  },
  {
   "cell_type": "code",
   "execution_count": 20,
   "id": "0be2e984",
   "metadata": {
    "execution": {
     "iopub.execute_input": "2025-05-15T07:01:58.763003Z",
     "iopub.status.busy": "2025-05-15T07:01:58.762756Z",
     "iopub.status.idle": "2025-05-15T07:01:59.107636Z",
     "shell.execute_reply": "2025-05-15T07:01:59.106935Z"
    },
    "papermill": {
     "duration": 0.359999,
     "end_time": "2025-05-15T07:01:59.108777",
     "exception": false,
     "start_time": "2025-05-15T07:01:58.748778",
     "status": "completed"
    },
    "tags": []
   },
   "outputs": [
    {
     "data": {
      "image/png": "[encoded data removed]",
      "text/plain": [
       "<Figure size 640x480 with 1 Axes>"
      ]
     },
     "metadata": {},
     "output_type": "display_data"
    }
   ],
   "source": [
    "coef = pd.Series(lr_reg.coef_, index=X_features.columns)\n",
    "coef_sort = coef.sort_values(ascending=False)\n",
    "sns.barplot(x=coef_sort.values, y=coef_sort.index)\n",
    "plt.savefig('log_transform.png', format='png', dpi=300, bbox_inches='tight')"
   ]
  },
  {
   "cell_type": "markdown",
   "id": "ab9a7a63",
   "metadata": {
    "papermill": {
     "duration": 0.008276,
     "end_time": "2025-05-15T07:01:59.126202",
     "exception": false,
     "start_time": "2025-05-15T07:01:59.117926",
     "status": "completed"
    },
    "tags": []
   },
   "source": [
    "### Coefficiant index Ananlysis\n",
    "* Important Columns: Year\n",
    "* Unrelevant Columns: windspeed"
   ]
  },
  {
   "cell_type": "markdown",
   "id": "f5e0346e",
   "metadata": {
    "papermill": {
     "duration": 0.008005,
     "end_time": "2025-05-15T07:01:59.142455",
     "exception": false,
     "start_time": "2025-05-15T07:01:59.134450",
     "status": "completed"
    },
    "tags": []
   },
   "source": [
    "## X_category_features Ont-hot Encoding"
   ]
  },
  {
   "cell_type": "code",
   "execution_count": 21,
   "id": "59f4fcc6",
   "metadata": {
    "execution": {
     "iopub.execute_input": "2025-05-15T07:01:59.159876Z",
     "iopub.status.busy": "2025-05-15T07:01:59.159304Z",
     "iopub.status.idle": "2025-05-15T07:01:59.169098Z",
     "shell.execute_reply": "2025-05-15T07:01:59.168351Z"
    },
    "papermill": {
     "duration": 0.019753,
     "end_time": "2025-05-15T07:01:59.170314",
     "exception": false,
     "start_time": "2025-05-15T07:01:59.150561",
     "status": "completed"
    },
    "tags": []
   },
   "outputs": [],
   "source": [
    "# 'year', month', 'day', hour'등의 피처들을 One Hot Encoding\n",
    "X_features_ohe = pd.get_dummies(X_features, \n",
    "                                columns = ['year', 'month', 'holiday','workingday','season','weather'], #hour 노미미\n",
    "                                drop_first=True\n",
    "                               )"
   ]
  },
  {
   "cell_type": "markdown",
   "id": "9d1d546b",
   "metadata": {
    "papermill": {
     "duration": 0.008361,
     "end_time": "2025-05-15T07:01:59.187493",
     "exception": false,
     "start_time": "2025-05-15T07:01:59.179132",
     "status": "completed"
    },
    "tags": []
   },
   "source": [
    "### Re-Evaluation"
   ]
  },
  {
   "cell_type": "code",
   "execution_count": 22,
   "id": "21a18017",
   "metadata": {
    "execution": {
     "iopub.execute_input": "2025-05-15T07:01:59.205078Z",
     "iopub.status.busy": "2025-05-15T07:01:59.204876Z",
     "iopub.status.idle": "2025-05-15T07:01:59.318084Z",
     "shell.execute_reply": "2025-05-15T07:01:59.317647Z"
    },
    "papermill": {
     "duration": 0.129167,
     "end_time": "2025-05-15T07:01:59.325123",
     "exception": false,
     "start_time": "2025-05-15T07:01:59.195956",
     "status": "completed"
    },
    "tags": []
   },
   "outputs": [
    {
     "name": "stdout",
     "output_type": "stream",
     "text": [
      "### LinearRegression ###\n",
      "RMSLE: 1.004, RMSE: 159.126, MAE: 106.632\n",
      "### Ridge ###\n",
      "RMSLE: 1.004, RMSE: 159.136, MAE: 106.638\n",
      "### Lasso ###\n",
      "RMSLE: 1.009, RMSE: 160.774, MAE: 107.756\n"
     ]
    }
   ],
   "source": [
    "# 원-핫 인코딩이 적용된 feature 데이터 세트 기반으로 학습/예측 데이터 분할. \n",
    "X_train, X_test, y_train, y_test = train_test_split(X_features_ohe, y_target_log,\n",
    "                                                    test_size=0.3, random_state=0)\n",
    "\n",
    "# 모델과 학습/테스트 데이터 셋을 입력하면 성능 평가 수치를 반환\n",
    "def get_model_predict(model, X_train, X_test, y_train, y_test, is_expm1=False):\n",
    "    model.fit(X_train, y_train)\n",
    "    pred = model.predict(X_test)\n",
    "    if is_expm1 :\n",
    "        y_test = np.expm1(y_test)\n",
    "        pred = np.expm1(pred)\n",
    "    print('###',model.__class__.__name__,'###')\n",
    "    evaluate_regr(y_test, pred)\n",
    "# end of function get_model_predict    \n",
    "\n",
    "# model 별로 평가 수행\n",
    "lr_reg = LinearRegression()\n",
    "ridge_reg = Ridge(alpha=10)\n",
    "lasso_reg = Lasso(alpha=0.01)\n",
    "\n",
    "for model in [lr_reg, ridge_reg, lasso_reg]:\n",
    "    get_model_predict(model,X_train, X_test, y_train, y_test,is_expm1=True)"
   ]
  },
  {
   "cell_type": "code",
   "execution_count": 23,
   "id": "a1d19e8e",
   "metadata": {
    "execution": {
     "iopub.execute_input": "2025-05-15T07:01:59.354602Z",
     "iopub.status.busy": "2025-05-15T07:01:59.354379Z",
     "iopub.status.idle": "2025-05-15T07:01:59.904535Z",
     "shell.execute_reply": "2025-05-15T07:01:59.903825Z"
    },
    "papermill": {
     "duration": 0.566191,
     "end_time": "2025-05-15T07:01:59.905669",
     "exception": false,
     "start_time": "2025-05-15T07:01:59.339478",
     "status": "completed"
    },
    "tags": []
   },
   "outputs": [
    {
     "data": {
      "image/png": "[encoded data removed]",
      "text/plain": [
       "<Figure size 640x480 with 1 Axes>"
      ]
     },
     "metadata": {},
     "output_type": "display_data"
    }
   ],
   "source": [
    "coef = pd.Series(lr_reg.coef_ , index=X_features_ohe.columns)\n",
    "coef_sort = coef.sort_values(ascending=False)\n",
    "sns.barplot(x=coef_sort.values , y=coef_sort.index)\n",
    "plt.savefig('one-hotencoded.png', format='png', dpi=300, bbox_inches='tight')"
   ]
  },
  {
   "cell_type": "code",
   "execution_count": 24,
   "id": "e0ab77e3",
   "metadata": {
    "execution": {
     "iopub.execute_input": "2025-05-15T07:01:59.926110Z",
     "iopub.status.busy": "2025-05-15T07:01:59.925852Z",
     "iopub.status.idle": "2025-05-15T07:02:01.161318Z",
     "shell.execute_reply": "2025-05-15T07:02:01.160748Z"
    },
    "papermill": {
     "duration": 1.246608,
     "end_time": "2025-05-15T07:02:01.162434",
     "exception": false,
     "start_time": "2025-05-15T07:01:59.915826",
     "status": "completed"
    },
    "tags": []
   },
   "outputs": [
    {
     "data": {
      "image/png": "[encoded data removed]",
      "text/plain": [
       "<Figure size 1200x1000 with 2 Axes>"
      ]
     },
     "metadata": {},
     "output_type": "display_data"
    }
   ],
   "source": [
    "corr_matrix = X_features_ohe.corr()\n",
    "\n",
    "# 2. 히트맵 시각화\n",
    "plt.figure(figsize=(12, 10))  # 크기 조정\n",
    "sns.heatmap(corr_matrix, cmap='coolwarm', square=True,\n",
    "            cbar_kws={\"shrink\": 0.8}, linewidths=0.5)\n",
    "\n",
    "plt.title('Feature Correlation Heatmap')\n",
    "plt.tight_layout()\n",
    "plt.savefig('correlation_heatmap.png', dpi=300)\n",
    "plt.show()"
   ]
  },
  {
   "cell_type": "code",
   "execution_count": 25,
   "id": "feb6f364",
   "metadata": {
    "execution": {
     "iopub.execute_input": "2025-05-15T07:02:01.184856Z",
     "iopub.status.busy": "2025-05-15T07:02:01.184659Z",
     "iopub.status.idle": "2025-05-15T07:02:01.189045Z",
     "shell.execute_reply": "2025-05-15T07:02:01.188354Z"
    },
    "papermill": {
     "duration": 0.016398,
     "end_time": "2025-05-15T07:02:01.190232",
     "exception": false,
     "start_time": "2025-05-15T07:02:01.173834",
     "status": "completed"
    },
    "tags": []
   },
   "outputs": [
    {
     "data": {
      "text/plain": [
       "False"
      ]
     },
     "execution_count": 25,
     "metadata": {},
     "output_type": "execute_result"
    }
   ],
   "source": [
    "X_features_ohe.columns.duplicated().any()"
   ]
  },
  {
   "cell_type": "code",
   "execution_count": 26,
   "id": "49d11331",
   "metadata": {
    "execution": {
     "iopub.execute_input": "2025-05-15T07:02:01.212840Z",
     "iopub.status.busy": "2025-05-15T07:02:01.212635Z",
     "iopub.status.idle": "2025-05-15T07:02:01.219492Z",
     "shell.execute_reply": "2025-05-15T07:02:01.218727Z"
    },
    "papermill": {
     "duration": 0.019262,
     "end_time": "2025-05-15T07:02:01.220612",
     "exception": false,
     "start_time": "2025-05-15T07:02:01.201350",
     "status": "completed"
    },
    "tags": []
   },
   "outputs": [
    {
     "data": {
      "text/plain": [
       " 0.053835    1\n",
       "-0.014444    1\n",
       " 0.004920    1\n",
       " 0.096557    1\n",
       " 0.398546    1\n",
       " 0.057870    1\n",
       " 0.056626    1\n",
       "-0.025007    1\n",
       " 0.198729    1\n",
       "-0.026363    1\n",
       "-0.130598    1\n",
       "-0.022883    1\n",
       " 0.229165    1\n",
       " 0.089360    1\n",
       " 0.143162    1\n",
       " 0.225712    1\n",
       "-0.056012    1\n",
       "-0.065896    1\n",
       " 0.147359    1\n",
       " 0.075684    1\n",
       " 0.458234    1\n",
       " 0.124515    1\n",
       "-0.254583    1\n",
       " 1.007798    1\n",
       "Name: count, dtype: int64"
      ]
     },
     "execution_count": 26,
     "metadata": {},
     "output_type": "execute_result"
    }
   ],
   "source": [
    "coef.value_counts()"
   ]
  },
  {
   "cell_type": "markdown",
   "id": "6c7cc350",
   "metadata": {
    "papermill": {
     "duration": 0.010183,
     "end_time": "2025-05-15T07:02:01.241464",
     "exception": false,
     "start_time": "2025-05-15T07:02:01.231281",
     "status": "completed"
    },
    "tags": []
   },
   "source": [
    "## Regression Tree"
   ]
  },
  {
   "cell_type": "code",
   "execution_count": 27,
   "id": "87374c6a",
   "metadata": {
    "execution": {
     "iopub.execute_input": "2025-05-15T07:02:01.263425Z",
     "iopub.status.busy": "2025-05-15T07:02:01.262880Z",
     "iopub.status.idle": "2025-05-15T07:02:22.554550Z",
     "shell.execute_reply": "2025-05-15T07:02:22.553752Z"
    },
    "papermill": {
     "duration": 21.303888,
     "end_time": "2025-05-15T07:02:22.555707",
     "exception": false,
     "start_time": "2025-05-15T07:02:01.251819",
     "status": "completed"
    },
    "tags": []
   },
   "outputs": [
    {
     "name": "stdout",
     "output_type": "stream",
     "text": [
      "### RandomForestRegressor ###\n",
      "RMSLE: 0.340, RMSE: 48.310, MAE: 29.739\n",
      "### GradientBoostingRegressor ###\n",
      "RMSLE: 0.327, RMSE: 49.041, MAE: 30.356\n",
      "### XGBRegressor ###\n",
      "RMSLE: 0.331, RMSE: 50.598, MAE: 30.227\n",
      "### LGBMRegressor ###\n",
      "RMSLE: 0.312, RMSE: 44.741, MAE: 27.478\n"
     ]
    }
   ],
   "source": [
    "from sklearn.ensemble import RandomForestRegressor, GradientBoostingRegressor\n",
    "from xgboost import XGBRegressor\n",
    "from lightgbm import LGBMRegressor\n",
    "\n",
    "# 랜덤 포레스트, GBM, XGBoost, LightGBM model 별로 평가 수행\n",
    "rf_reg = RandomForestRegressor(n_estimators=500)\n",
    "gbm_reg = GradientBoostingRegressor(n_estimators=500)\n",
    "xgb_reg = XGBRegressor(n_estimators=500)\n",
    "lgbm_reg = LGBMRegressor(n_estimators=500, verbose = -1)\n",
    "\n",
    "for model in [rf_reg, gbm_reg, xgb_reg, lgbm_reg]:\n",
    "    # XGBoost의 경우 DataFrame이 입력 될 경우 버전에 따라 오류 발생 가능. ndarray로 변환.\n",
    "    get_model_predict(model,X_train.values, X_test.values, y_train.values, y_test.values,is_expm1=True)"
   ]
  },
  {
   "cell_type": "markdown",
   "id": "210c5a38",
   "metadata": {
    "papermill": {
     "duration": 0.010612,
     "end_time": "2025-05-15T07:02:22.579722",
     "exception": false,
     "start_time": "2025-05-15T07:02:22.569110",
     "status": "completed"
    },
    "tags": []
   },
   "source": [
    "* Result: A lot better than Liear Regression"
   ]
  },
  {
   "cell_type": "markdown",
   "id": "bd6f47a5",
   "metadata": {
    "papermill": {
     "duration": 0.010335,
     "end_time": "2025-05-15T07:02:22.600635",
     "exception": false,
     "start_time": "2025-05-15T07:02:22.590300",
     "status": "completed"
    },
    "tags": []
   },
   "source": [
    "### Hyperparameter Tunning"
   ]
  },
  {
   "cell_type": "code",
   "execution_count": 28,
   "id": "cd2823ff",
   "metadata": {
    "execution": {
     "iopub.execute_input": "2025-05-15T07:02:22.623209Z",
     "iopub.status.busy": "2025-05-15T07:02:22.622456Z",
     "iopub.status.idle": "2025-05-15T07:04:05.775992Z",
     "shell.execute_reply": "2025-05-15T07:04:05.775177Z"
    },
    "papermill": {
     "duration": 103.165967,
     "end_time": "2025-05-15T07:04:05.777218",
     "exception": false,
     "start_time": "2025-05-15T07:02:22.611251",
     "status": "completed"
    },
    "tags": []
   },
   "outputs": [
    {
     "name": "stdout",
     "output_type": "stream",
     "text": [
      "Fitting 3 folds for each of 50 candidates, totalling 150 fits\n",
      "Best Parameters: {'subsample': 0.9, 'reg_lambda': 0.0, 'reg_alpha': 0.0, 'num_leaves': 20, 'n_estimators': 500, 'max_depth': 6, 'learning_rate': 0.07, 'colsample_bytree': 0.8}\n",
      "### LGBMRegressor ###\n",
      "RMSLE: 0.310, RMSE: 45.115, MAE: 28.206\n"
     ]
    }
   ],
   "source": [
    "from sklearn.metrics import mean_squared_log_error, make_scorer\n",
    "from sklearn.model_selection import RandomizedSearchCV\n",
    "from lightgbm import early_stopping\n",
    "\n",
    "# 각 모델에 대한 파라미터 그리드\n",
    "param_grids = {\n",
    "        'num_leaves': [20, 35, 50],\n",
    "        'learning_rate': [0.03, 0.05, 0.07],\n",
    "        'max_depth': [4, 6, 8],\n",
    "        'reg_alpha': [0.0, 0.1, 0.5],\n",
    "        'reg_lambda': [0.0, 0.1, 0.5],\n",
    "        'subsample': [0.7, 0.8, 0.9],\n",
    "        'colsample_bytree': [0.6, 0.8, 1.0],\n",
    "        'n_estimators': [500, 800, 1000]\n",
    "    }\n",
    "\n",
    "model = LGBMRegressor(verbose = -1)\n",
    "rmsle_scorer = make_scorer(rmsle, greater_is_better=False)\n",
    "\n",
    "search = RandomizedSearchCV(\n",
    "        estimator=model,\n",
    "        param_distributions=param_grids,\n",
    "        n_iter=50, #기존10\n",
    "        scoring=rmsle_scorer,\n",
    "        cv=3,\n",
    "        verbose=1,\n",
    "        random_state=42,\n",
    "        n_jobs=-1\n",
    "    )\n",
    "search.fit(X_train, y_train)\n",
    "best_model = search.best_estimator_\n",
    "\n",
    "print(\"Best Parameters:\", search.best_params_)\n",
    "get_model_predict(best_model, X_train.values, X_test.values, y_train.values, y_test.values, is_expm1=True)"
   ]
  },
  {
   "cell_type": "markdown",
   "id": "ce58c4d1",
   "metadata": {
    "papermill": {
     "duration": 0.010678,
     "end_time": "2025-05-15T07:04:05.799440",
     "exception": false,
     "start_time": "2025-05-15T07:04:05.788762",
     "status": "completed"
    },
    "tags": []
   },
   "source": [
    "# Submission"
   ]
  },
  {
   "cell_type": "markdown",
   "id": "09888fa8",
   "metadata": {
    "papermill": {
     "duration": 0.010872,
     "end_time": "2025-05-15T07:04:05.821826",
     "exception": false,
     "start_time": "2025-05-15T07:04:05.810954",
     "status": "completed"
    },
    "tags": []
   },
   "source": [
    "## Test Data Preprocess"
   ]
  },
  {
   "cell_type": "code",
   "execution_count": 29,
   "id": "a8c65732",
   "metadata": {
    "execution": {
     "iopub.execute_input": "2025-05-15T07:04:05.844655Z",
     "iopub.status.busy": "2025-05-15T07:04:05.844421Z",
     "iopub.status.idle": "2025-05-15T07:04:08.078566Z",
     "shell.execute_reply": "2025-05-15T07:04:08.078026Z"
    },
    "papermill": {
     "duration": 2.246743,
     "end_time": "2025-05-15T07:04:08.079866",
     "exception": false,
     "start_time": "2025-05-15T07:04:05.833123",
     "status": "completed"
    },
    "tags": []
   },
   "outputs": [],
   "source": [
    "test = bike_test\n",
    "\n",
    "# train과 같은 전처리를 진행해보자\n",
    "test['datetime'] = test.datetime.apply(pd.to_datetime)\n",
    "\n",
    "# datetime 타입에서 년, 월, 일, 시간 추출\n",
    "test['year'] = test.datetime.apply(lambda x : x.year)\n",
    "test['month'] = test.datetime.apply(lambda x : x.month)\n",
    "test['day'] = test.datetime.apply(lambda x : x.day)\n",
    "test['hour'] = test.datetime.apply(lambda x: x.hour)\n",
    "test.head(3)\n",
    "\n",
    "# 이미 테스트 데이터셋에는 casual, registered 가 빠져있음\n",
    "drop_columns = ['datetime','day','temp']\n",
    "test.drop(drop_columns, axis=1,inplace=True)\n",
    "\n",
    "# 'year', month', 'day', hour'등의 피처들을 One Hot Encoding\n",
    "test_ohe = pd.get_dummies(test, columns=['year', 'month',  'holiday',\n",
    "                                              'workingday','season','weather'],\n",
    "                         drop_first=True)"
   ]
  },
  {
   "cell_type": "markdown",
   "id": "faacb36b",
   "metadata": {
    "papermill": {
     "duration": 0.010819,
     "end_time": "2025-05-15T07:04:08.102093",
     "exception": false,
     "start_time": "2025-05-15T07:04:08.091274",
     "status": "completed"
    },
    "tags": []
   },
   "source": [
    "* test.day.nunique() != train.day.nunique()"
   ]
  },
  {
   "cell_type": "markdown",
   "id": "f2659c2d",
   "metadata": {
    "papermill": {
     "duration": 0.010607,
     "end_time": "2025-05-15T07:04:08.123602",
     "exception": false,
     "start_time": "2025-05-15T07:04:08.112995",
     "status": "completed"
    },
    "tags": []
   },
   "source": [
    "## Prediction by the final model"
   ]
  },
  {
   "cell_type": "code",
   "execution_count": 30,
   "id": "a41bbbb8",
   "metadata": {
    "execution": {
     "iopub.execute_input": "2025-05-15T07:04:08.145762Z",
     "iopub.status.busy": "2025-05-15T07:04:08.145524Z",
     "iopub.status.idle": "2025-05-15T07:04:08.264958Z",
     "shell.execute_reply": "2025-05-15T07:04:08.264142Z"
    },
    "papermill": {
     "duration": 0.132072,
     "end_time": "2025-05-15T07:04:08.266335",
     "exception": false,
     "start_time": "2025-05-15T07:04:08.134263",
     "status": "completed"
    },
    "tags": []
   },
   "outputs": [],
   "source": [
    "## sample_data를 받아오기\n",
    "sample = pd.read_csv('/kaggle/input/bike-sharing-demand/sampleSubmission.csv')\n",
    "\n",
    "# 테스트 데이터셋을 예측\n",
    "pred = best_model.predict(test_ohe)\n",
    "# 학습시 로그변환한 target을 썻으니 결과값을 다시 복원해야합니다\n",
    "pred_exp = np.expm1(pred)\n",
    "\n",
    "# sample 파일에 예측 값을 넣어주고\n",
    "sample[\"count\"] = pred_exp\n",
    "\n",
    "# csv로 저장하기\n",
    "sample.to_csv(\"/kaggle/working/submission.csv\", index=False)"
   ]
  }
 ],
 "metadata": {
  "kaggle": {
   "accelerator": "gpu",
   "dataSources": [
    {
     "databundleVersionId": 32624,
     "sourceId": 3948,
     "sourceType": "competition"
    }
   ],
   "dockerImageVersionId": 31040,
   "isGpuEnabled": true,
   "isInternetEnabled": true,
   "language": "python",
   "sourceType": "notebook"
  },
  "kernelspec": {
   "display_name": "Python 3",
   "language": "python",
   "name": "python3"
  },
  "language_info": {
   "codemirror_mode": {
    "name": "ipython",
    "version": 3
   },
   "file_extension": ".py",
   "mimetype": "text/x-python",
   "name": "python",
   "nbconvert_exporter": "python",
   "pygments_lexer": "ipython3",
   "version": "3.11.11"
  },
  "papermill": {
   "default_parameters": {},
   "duration": 147.380458,
   "end_time": "2025-05-15T07:04:10.895172",
   "environment_variables": {},
   "exception": null,
   "input_path": "__notebook__.ipynb",
   "output_path": "__notebook__.ipynb",
   "parameters": {},
   "start_time": "2025-05-15T07:01:43.514714",
   "version": "2.6.0"
  }
 },
 "nbformat": 4,
 "nbformat_minor": 5
}
